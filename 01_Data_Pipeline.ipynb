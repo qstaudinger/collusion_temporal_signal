{
 "cells": [
  {
   "cell_type": "markdown",
   "id": "3279359b-d4ac-421e-b18e-cd8fdcba1f38",
   "metadata": {
    "jp-MarkdownHeadingCollapsed": true,
    "tags": []
   },
   "source": [
    "# Configurations"
   ]
  },
  {
   "cell_type": "code",
   "execution_count": 48,
   "id": "06cca392",
   "metadata": {
    "tags": []
   },
   "outputs": [
    {
     "name": "stdout",
     "output_type": "stream",
     "text": [
      "The autoreload extension is already loaded. To reload it, use:\n",
      "  %reload_ext autoreload\n"
     ]
    }
   ],
   "source": [
    "import pandas as pd\n",
    "import numpy as np\n",
    "from pathlib import Path\n",
    "from tqdm.notebook import tqdm\n",
    "import matplotlib.pyplot as plt\n",
    "import os\n",
    "\n",
    "from sklearn.model_selection import train_test_split\n",
    "\n",
    "tqdm.pandas()\n",
    "\n",
    "%matplotlib inline\n",
    "\n",
    "%load_ext autoreload\n",
    "%autoreload 2\n",
    "\n",
    "from ydata_profiling import ProfileReport"
   ]
  },
  {
   "cell_type": "markdown",
   "id": "5336ddc1",
   "metadata": {},
   "source": [
    "**Functions**"
   ]
  },
  {
   "cell_type": "code",
   "execution_count": 7,
   "id": "3d5484df",
   "metadata": {
    "tags": []
   },
   "outputs": [
    {
     "name": "stdout",
     "output_type": "stream",
     "text": [
      "Aktuelles Arbeitsverzeichnis: /home/qstaudinger/cartels\n"
     ]
    }
   ],
   "source": [
    "data_dir = Path(\"Data\")\n",
    "save_dir = Path(\"Reports\")\n",
    "\n",
    "# Confirm the current working directory\n",
    "print(\"Working Directory:\", os.getcwd())"
   ]
  },
  {
   "cell_type": "markdown",
   "id": "aaf300cd",
   "metadata": {
    "jp-MarkdownHeadingCollapsed": true,
    "tags": []
   },
   "source": [
    "# Import Data"
   ]
  },
  {
   "cell_type": "code",
   "execution_count": 8,
   "id": "856ac8da",
   "metadata": {
    "tags": []
   },
   "outputs": [],
   "source": [
    "df_swiss = pd.read_csv(data_dir/\"DB_Collusion_Switzerland_GR_and_See-Gaster_processed.csv\", delimiter = \",\", decimal = \".\")\n"
   ]
  },
  {
   "cell_type": "code",
   "execution_count": 9,
   "id": "45c655b2",
   "metadata": {
    "tags": []
   },
   "outputs": [
    {
     "data": {
      "text/html": [
       "<div>\n",
       "<style scoped>\n",
       "    .dataframe tbody tr th:only-of-type {\n",
       "        vertical-align: middle;\n",
       "    }\n",
       "\n",
       "    .dataframe tbody tr th {\n",
       "        vertical-align: top;\n",
       "    }\n",
       "\n",
       "    .dataframe thead th {\n",
       "        text-align: right;\n",
       "    }\n",
       "</style>\n",
       "<table border=\"1\" class=\"dataframe\">\n",
       "  <thead>\n",
       "    <tr style=\"text-align: right;\">\n",
       "      <th></th>\n",
       "      <th>Bid_value</th>\n",
       "      <th>Collusive_competitor</th>\n",
       "      <th>Contract_type</th>\n",
       "      <th>Tender</th>\n",
       "      <th>Date</th>\n",
       "      <th>Number_bids</th>\n",
       "      <th>CV</th>\n",
       "      <th>SPD</th>\n",
       "      <th>DIFFP</th>\n",
       "      <th>RD</th>\n",
       "      <th>KURT</th>\n",
       "      <th>SKEW</th>\n",
       "      <th>KSTEST</th>\n",
       "      <th>Collusive_competitor_original</th>\n",
       "      <th>Winner</th>\n",
       "    </tr>\n",
       "  </thead>\n",
       "  <tbody>\n",
       "    <tr>\n",
       "      <th>0</th>\n",
       "      <td>235254.70</td>\n",
       "      <td>1</td>\n",
       "      <td>1.0</td>\n",
       "      <td>1</td>\n",
       "      <td>366</td>\n",
       "      <td>4</td>\n",
       "      <td>0.0454</td>\n",
       "      <td>0.1155</td>\n",
       "      <td>0.0433</td>\n",
       "      <td>1.3511</td>\n",
       "      <td>0.7632</td>\n",
       "      <td>0.2826</td>\n",
       "      <td>0.25</td>\n",
       "      <td>1.0</td>\n",
       "      <td>0.0</td>\n",
       "    </tr>\n",
       "    <tr>\n",
       "      <th>1</th>\n",
       "      <td>210899.15</td>\n",
       "      <td>1</td>\n",
       "      <td>1.0</td>\n",
       "      <td>1</td>\n",
       "      <td>366</td>\n",
       "      <td>4</td>\n",
       "      <td>0.0454</td>\n",
       "      <td>0.1155</td>\n",
       "      <td>0.0433</td>\n",
       "      <td>1.3511</td>\n",
       "      <td>0.7632</td>\n",
       "      <td>0.2826</td>\n",
       "      <td>0.25</td>\n",
       "      <td>1.0</td>\n",
       "      <td>1.0</td>\n",
       "    </tr>\n",
       "    <tr>\n",
       "      <th>2</th>\n",
       "      <td>224101.25</td>\n",
       "      <td>1</td>\n",
       "      <td>1.0</td>\n",
       "      <td>1</td>\n",
       "      <td>366</td>\n",
       "      <td>4</td>\n",
       "      <td>0.0454</td>\n",
       "      <td>0.1155</td>\n",
       "      <td>0.0433</td>\n",
       "      <td>1.3511</td>\n",
       "      <td>0.7632</td>\n",
       "      <td>0.2826</td>\n",
       "      <td>0.25</td>\n",
       "      <td>1.0</td>\n",
       "      <td>0.0</td>\n",
       "    </tr>\n",
       "    <tr>\n",
       "      <th>3</th>\n",
       "      <td>220034.35</td>\n",
       "      <td>1</td>\n",
       "      <td>1.0</td>\n",
       "      <td>1</td>\n",
       "      <td>366</td>\n",
       "      <td>4</td>\n",
       "      <td>0.0454</td>\n",
       "      <td>0.1155</td>\n",
       "      <td>0.0433</td>\n",
       "      <td>1.3511</td>\n",
       "      <td>0.7632</td>\n",
       "      <td>0.2826</td>\n",
       "      <td>0.25</td>\n",
       "      <td>1.0</td>\n",
       "      <td>0.0</td>\n",
       "    </tr>\n",
       "    <tr>\n",
       "      <th>4</th>\n",
       "      <td>316317.30</td>\n",
       "      <td>1</td>\n",
       "      <td>1.0</td>\n",
       "      <td>2</td>\n",
       "      <td>366</td>\n",
       "      <td>4</td>\n",
       "      <td>0.0368</td>\n",
       "      <td>0.0917</td>\n",
       "      <td>0.0401</td>\n",
       "      <td>1.2766</td>\n",
       "      <td>0.0848</td>\n",
       "      <td>-0.3528</td>\n",
       "      <td>0.25</td>\n",
       "      <td>1.0</td>\n",
       "      <td>0.0</td>\n",
       "    </tr>\n",
       "  </tbody>\n",
       "</table>\n",
       "</div>"
      ],
      "text/plain": [
       "   Bid_value  Collusive_competitor  Contract_type  Tender  Date  Number_bids  \\\n",
       "0  235254.70                     1            1.0       1   366            4   \n",
       "1  210899.15                     1            1.0       1   366            4   \n",
       "2  224101.25                     1            1.0       1   366            4   \n",
       "3  220034.35                     1            1.0       1   366            4   \n",
       "4  316317.30                     1            1.0       2   366            4   \n",
       "\n",
       "       CV     SPD   DIFFP      RD    KURT    SKEW  KSTEST  \\\n",
       "0  0.0454  0.1155  0.0433  1.3511  0.7632  0.2826    0.25   \n",
       "1  0.0454  0.1155  0.0433  1.3511  0.7632  0.2826    0.25   \n",
       "2  0.0454  0.1155  0.0433  1.3511  0.7632  0.2826    0.25   \n",
       "3  0.0454  0.1155  0.0433  1.3511  0.7632  0.2826    0.25   \n",
       "4  0.0368  0.0917  0.0401  1.2766  0.0848 -0.3528    0.25   \n",
       "\n",
       "   Collusive_competitor_original  Winner  \n",
       "0                            1.0     0.0  \n",
       "1                            1.0     1.0  \n",
       "2                            1.0     0.0  \n",
       "3                            1.0     0.0  \n",
       "4                            1.0     0.0  "
      ]
     },
     "execution_count": 9,
     "metadata": {},
     "output_type": "execute_result"
    }
   ],
   "source": [
    "df_swiss.head()"
   ]
  },
  {
   "cell_type": "markdown",
   "id": "8894074b",
   "metadata": {
    "jp-MarkdownHeadingCollapsed": true,
    "tags": []
   },
   "source": [
    "# Split truly unseen data - whole data set"
   ]
  },
  {
   "cell_type": "code",
   "execution_count": 12,
   "id": "51b97b6a",
   "metadata": {
    "tags": []
   },
   "outputs": [],
   "source": [
    "SEED = 23\n",
    "df_swiss_grouped = df_swiss.groupby(by=\"Tender\").mean().reset_index()"
   ]
  },
  {
   "cell_type": "markdown",
   "id": "425d21ce-ea01-4bf1-bb20-09daacaa6be3",
   "metadata": {
    "tags": []
   },
   "source": [
    "## Split data records by year"
   ]
  },
  {
   "cell_type": "code",
   "execution_count": 73,
   "id": "83931854-c824-4d30-a166-6b4b5947d4ef",
   "metadata": {
    "tags": []
   },
   "outputs": [
    {
     "name": "stdout",
     "output_type": "stream",
     "text": [
      "Date\n",
      "366      763\n",
      "732     2132\n",
      "1098    2080\n",
      "1464    2016\n",
      "1830    2175\n",
      "2196    2123\n",
      "2562    2080\n",
      "2928    1776\n",
      "3294    2037\n",
      "3660    1916\n",
      "4026     457\n",
      "4392     610\n",
      "4758     590\n",
      "5124     476\n",
      "Name: count, dtype: int64\n"
     ]
    }
   ],
   "source": [
    "# Absolute distribution of the variable ‘Date’\n",
    "distribution_date = df_swiss['Date'].value_counts().sort_index()\n",
    "\n",
    "# Table\n",
    "print(distribution_date)\n",
    "\n",
    "366      763\n",
    "732     2132\n",
    "1098    2080\n",
    "1464    2016\n",
    "1830    2175\n",
    "2196    2123\n",
    "\n",
    "2562    2080\n",
    "2928    1776\n",
    "3294    2037\n",
    "3660    1916\n",
    "4026     457\n",
    "4392     610\n",
    "4758     590\n",
    "5124     476\n"
   ]
  },
  {
   "cell_type": "markdown",
   "id": "1b372f29-8a6f-45cc-9f78-e44eee203283",
   "metadata": {
    "tags": []
   },
   "source": [
    "## Entire data set"
   ]
  },
  {
   "cell_type": "code",
   "execution_count": 43,
   "id": "db3c3c4a",
   "metadata": {
    "tags": []
   },
   "outputs": [],
   "source": [
    "x_swiss_grouped = df_swiss_grouped.drop([\"Collusive_competitor\"], axis =1)\n",
    "y_swiss_grouped = df_swiss_grouped[[\"Collusive_competitor\"]]\n",
    "\n",
    "stratify_array = df_swiss_grouped.Collusive_competitor"
   ]
  },
  {
   "cell_type": "code",
   "execution_count": 44,
   "id": "c4a3ae4e",
   "metadata": {
    "tags": []
   },
   "outputs": [],
   "source": [
    "X_swiss_train, X_swiss_test, y_swiss_train, y_swiss_test = train_test_split(x_swiss_grouped, y_swiss_grouped, random_state = SEED, stratify = stratify_array)"
   ]
  },
  {
   "cell_type": "code",
   "execution_count": 45,
   "id": "6abeccb5",
   "metadata": {
    "tags": []
   },
   "outputs": [],
   "source": [
    "indices_train = X_swiss_train.Tender.tolist()\n",
    "indices_test = X_swiss_test.Tender.tolist()"
   ]
  },
  {
   "cell_type": "code",
   "execution_count": 46,
   "id": "97a5c3d9",
   "metadata": {
    "tags": []
   },
   "outputs": [],
   "source": [
    "swiss_train = df_swiss[df_swiss.Tender.isin(indices_train)]\n",
    "swiss_test = df_swiss[df_swiss.Tender.isin(indices_test)]"
   ]
  },
  {
   "cell_type": "code",
   "execution_count": 47,
   "id": "c6c9d11d",
   "metadata": {
    "tags": []
   },
   "outputs": [],
   "source": [
    "swiss_train.to_csv(\"Data/data_to_use/swiss_train.csv\", index = False)\n",
    "swiss_test.to_csv(\"Data/TUD/swiss_unseen.csv\", index = False)\n",
    "\n",
    "swiss_train.to_json(\"Data/data_to_use/swiss_train.json\")\n",
    "swiss_test.to_json(\"Data/TUD/swiss_unseen.json\")"
   ]
  },
  {
   "cell_type": "markdown",
   "id": "28445ca3-8d15-41c9-a500-fbc1623515b8",
   "metadata": {
    "tags": []
   },
   "source": [
    "## First Period"
   ]
  },
  {
   "cell_type": "code",
   "execution_count": 54,
   "id": "df9abb37-3523-4154-88e3-e90e825676a3",
   "metadata": {
    "tags": []
   },
   "outputs": [],
   "source": [
    "# 1. Datensatz 2005-2011\n",
    "df_swiss1 = df_swiss[df_swiss['Date'] <= 2196].copy()\n",
    "df_swiss1_grouped = df_swiss1.groupby(by=\"Tender\").mean().reset_index()"
   ]
  },
  {
   "cell_type": "code",
   "execution_count": 55,
   "id": "a9b8147d-bc97-4595-a2b9-4cc9a5ba436a",
   "metadata": {
    "tags": []
   },
   "outputs": [],
   "source": [
    "x_swiss1_grouped = df_swiss1_grouped.drop([\"Collusive_competitor\"], axis=1)\n",
    "y_swiss1_grouped = df_swiss1_grouped[[\"Collusive_competitor\"]]\n",
    "\n",
    "stratify_array = df_swiss1_grouped[\"Collusive_competitor\"]"
   ]
  },
  {
   "cell_type": "code",
   "execution_count": 56,
   "id": "363f515d-9b34-4940-b0b4-661232342a71",
   "metadata": {
    "tags": []
   },
   "outputs": [],
   "source": [
    "X_swiss1_train, X_swiss1_test, y_swiss1_train, y_swiss1_test = train_test_split(x_swiss1_grouped, y_swiss1_grouped, random_state = SEED, stratify = stratify_array)"
   ]
  },
  {
   "cell_type": "code",
   "execution_count": 57,
   "id": "7a72b21e-1c03-4da9-b33c-8ba22ef93995",
   "metadata": {
    "tags": []
   },
   "outputs": [],
   "source": [
    "indices_train1 = X_swiss1_train.Tender.tolist()\n",
    "indices_test1 = X_swiss1_test.Tender.tolist()"
   ]
  },
  {
   "cell_type": "code",
   "execution_count": 58,
   "id": "6262d99f-a40a-4ef9-90e4-85c1167a38c1",
   "metadata": {
    "tags": []
   },
   "outputs": [],
   "source": [
    "swiss1_train = df_swiss1[df_swiss1.Tender.isin(indices_train1)]\n",
    "swiss1_test = df_swiss1[df_swiss1.Tender.isin(indices_test1)]"
   ]
  },
  {
   "cell_type": "code",
   "execution_count": 59,
   "id": "ca513daf-4d39-427a-a151-bc33a763560b",
   "metadata": {
    "tags": []
   },
   "outputs": [],
   "source": [
    "swiss1_train.to_csv(\"Data/data_to_use/swiss1_train.csv\", index = False)\n",
    "swiss1_test.to_csv(\"Data/TUD/swiss1_unseen.csv\", index = False)\n",
    "\n",
    "swiss1_train.to_json(\"Data/data_to_use/swiss1_train.json\")\n",
    "swiss1_test.to_json(\"Data/TUD/swiss1_unseen.json\")"
   ]
  },
  {
   "cell_type": "markdown",
   "id": "7a2e7923-b67d-4db4-8f04-7f63ba69d92c",
   "metadata": {
    "tags": []
   },
   "source": [
    "## Second Period"
   ]
  },
  {
   "cell_type": "code",
   "execution_count": 60,
   "id": "f39fbc9b-42be-429f-b4c5-ba603bada0e5",
   "metadata": {
    "tags": []
   },
   "outputs": [],
   "source": [
    "# 1. Datensatz 2012-2019\n",
    "df_swiss2 = df_swiss[df_swiss['Date'] > 2196].copy()\n",
    "df_swiss2_grouped = df_swiss2.groupby(by=\"Tender\").mean().reset_index()"
   ]
  },
  {
   "cell_type": "code",
   "execution_count": 61,
   "id": "f90c1669-5adb-44c6-9b62-44d9b4ab41d2",
   "metadata": {
    "tags": []
   },
   "outputs": [],
   "source": [
    "x_swiss2_grouped = df_swiss2_grouped.drop([\"Collusive_competitor\"], axis=1)\n",
    "y_swiss2_grouped = df_swiss2_grouped[[\"Collusive_competitor\"]]\n",
    "\n",
    "stratify_array = df_swiss2_grouped[\"Collusive_competitor\"]"
   ]
  },
  {
   "cell_type": "code",
   "execution_count": 62,
   "id": "f821b3aa-3abb-47dc-860d-d546f66fe963",
   "metadata": {
    "tags": []
   },
   "outputs": [],
   "source": [
    "X_swiss2_train, X_swiss2_test, y_swiss2_train, y_swiss2_test = train_test_split(x_swiss2_grouped, y_swiss2_grouped, random_state = SEED, stratify = stratify_array)"
   ]
  },
  {
   "cell_type": "code",
   "execution_count": 63,
   "id": "92b55648-26fa-4c26-99fd-06360bb18b72",
   "metadata": {
    "tags": []
   },
   "outputs": [],
   "source": [
    "indices_train2 = X_swiss2_train.Tender.tolist()\n",
    "indices_test2 = X_swiss2_test.Tender.tolist()"
   ]
  },
  {
   "cell_type": "code",
   "execution_count": 64,
   "id": "0b99e435-b3a1-4e9c-bbaa-045fbc29f265",
   "metadata": {
    "tags": []
   },
   "outputs": [],
   "source": [
    "swiss2_train = df_swiss2[df_swiss2.Tender.isin(indices_train2)]\n",
    "swiss2_test = df_swiss2[df_swiss2.Tender.isin(indices_test2)]"
   ]
  },
  {
   "cell_type": "code",
   "execution_count": 65,
   "id": "392cfbef-cf8e-4d40-9c5f-a770647d9a31",
   "metadata": {
    "tags": []
   },
   "outputs": [],
   "source": [
    "swiss2_train.to_csv(\"Data/data_to_use/swiss2_train.csv\", index = False)\n",
    "swiss2_test.to_csv(\"Data/TUD/swiss2_unseen.csv\", index = False)\n",
    "\n",
    "swiss2_train.to_json(\"Data/data_to_use/swiss2_train.json\")\n",
    "swiss2_test.to_json(\"Data/TUD/swiss2_unseen.json\")"
   ]
  },
  {
   "cell_type": "markdown",
   "id": "22e1480c-4d6f-4934-a990-04c7620529f4",
   "metadata": {
    "jp-MarkdownHeadingCollapsed": true,
    "tags": []
   },
   "source": [
    "# Descriptive Data"
   ]
  },
  {
   "cell_type": "markdown",
   "id": "399b4988-819c-4701-9fc1-e78a4bb8e1fb",
   "metadata": {
    "jp-MarkdownHeadingCollapsed": true,
    "tags": []
   },
   "source": [
    "## Comparing the level of collusion"
   ]
  },
  {
   "cell_type": "code",
   "execution_count": 69,
   "id": "4e4469fc-b88c-4439-9277-35bee80d3d20",
   "metadata": {
    "tags": []
   },
   "outputs": [
    {
     "name": "stdout",
     "output_type": "stream",
     "text": [
      "Swiss Dataset\n",
      "#bids:  21231\n",
      "# projects:  4344\n",
      "# Collusive bids:  3199\n"
     ]
    }
   ],
   "source": [
    "print(\"Swiss Dataset\")\n",
    "print(\"#bids: \", len(df_swiss))\n",
    "print(\"# projects: \", len(df_swiss.Tender.unique()))\n",
    "print(\"# Collusive bids: \",len(df_swiss.Tender[df_swiss.Collusive_competitor == 1].unique()))\n",
    "print(\"# Collusive perc.: \",len(df_swiss.Tender[df_swiss1.Collusive_competitor == 1].unique())/len(df_swiss.Tender.unique()))"
   ]
  },
  {
   "cell_type": "code",
   "execution_count": 72,
   "id": "b201763e-6063-4b5d-a9ba-1421ab9d1d81",
   "metadata": {
    "tags": []
   },
   "outputs": [
    {
     "name": "stdout",
     "output_type": "stream",
     "text": [
      "Swiss Dataset Period 1\n",
      "#bids:  11289\n",
      "# projects:  2172\n",
      "# Collusive bids:  1659\n",
      "# projects:  2172\n",
      "# Collusive bids:  0.7638121546961326\n"
     ]
    }
   ],
   "source": [
    "print(\"Swiss Dataset Period 1\")\n",
    "print(\"#bids: \", len(df_swiss1))\n",
    "print(\"# projects: \", len(df_swiss1.Tender.unique()))\n",
    "print(\"# Collusive bids: \",len(df_swiss1.Tender[df_swiss1.Collusive_competitor == 1].unique()))\n",
    "print(\"# projects: \", len(df_swiss1.Tender.unique()))\n",
    "print(\"# Collusive perc: \",len(df_swiss1.Tender[df_swiss1.Collusive_competitor == 1].unique())/len(df_swiss1.Tender.unique()))"
   ]
  },
  {
   "cell_type": "code",
   "execution_count": 74,
   "id": "0007c0c1-c137-431f-990f-bfe489f816c9",
   "metadata": {
    "tags": []
   },
   "outputs": [
    {
     "name": "stdout",
     "output_type": "stream",
     "text": [
      "Swiss Dataset Period 2\n",
      "#bids:  9942\n",
      "# projects:  2172\n",
      "# Collusive bids:  1540\n",
      "# Collusive perc:  0.7090239410681399\n"
     ]
    }
   ],
   "source": [
    "print(\"Swiss Dataset Period 2\")\n",
    "print(\"#bids: \", len(df_swiss2))\n",
    "print(\"# projects: \", len(df_swiss2.Tender.unique()))\n",
    "print(\"# Collusive bids: \",len(df_swiss2.Tender[df_swiss2.Collusive_competitor == 1].unique()))\n",
    "print(\"# Collusive perc: \",len(df_swiss2.Tender[df_swiss2.Collusive_competitor == 1].unique())/len(df_swiss2.Tender.unique()))"
   ]
  },
  {
   "cell_type": "code",
   "execution_count": 127,
   "id": "ea5c386b-a716-4683-b260-9071e00fe786",
   "metadata": {
    "tags": []
   },
   "outputs": [
    {
     "data": {
      "text/html": [
       "<div>\n",
       "<style scoped>\n",
       "    .dataframe tbody tr th:only-of-type {\n",
       "        vertical-align: middle;\n",
       "    }\n",
       "\n",
       "    .dataframe tbody tr th {\n",
       "        vertical-align: top;\n",
       "    }\n",
       "\n",
       "    .dataframe thead th {\n",
       "        text-align: right;\n",
       "    }\n",
       "</style>\n",
       "<table border=\"1\" class=\"dataframe\">\n",
       "  <thead>\n",
       "    <tr style=\"text-align: right;\">\n",
       "      <th></th>\n",
       "      <th>Metric</th>\n",
       "      <th>Overall</th>\n",
       "      <th>2005-2010</th>\n",
       "      <th>2011-2018</th>\n",
       "    </tr>\n",
       "  </thead>\n",
       "  <tbody>\n",
       "    <tr>\n",
       "      <th>0</th>\n",
       "      <td>Bids</td>\n",
       "      <td>21231.000000</td>\n",
       "      <td>11289.000000</td>\n",
       "      <td>9942.000000</td>\n",
       "    </tr>\n",
       "    <tr>\n",
       "      <th>1</th>\n",
       "      <td>Projects</td>\n",
       "      <td>4344.000000</td>\n",
       "      <td>2172.000000</td>\n",
       "      <td>2172.000000</td>\n",
       "    </tr>\n",
       "    <tr>\n",
       "      <th>2</th>\n",
       "      <td>Collusive Bids</td>\n",
       "      <td>3199.000000</td>\n",
       "      <td>1659.000000</td>\n",
       "      <td>1540.000000</td>\n",
       "    </tr>\n",
       "    <tr>\n",
       "      <th>3</th>\n",
       "      <td>Collusive %</td>\n",
       "      <td>0.736418</td>\n",
       "      <td>0.763812</td>\n",
       "      <td>0.709024</td>\n",
       "    </tr>\n",
       "  </tbody>\n",
       "</table>\n",
       "</div>"
      ],
      "text/plain": [
       "           Metric       Overall     2005-2010    2011-2018\n",
       "0            Bids  21231.000000  11289.000000  9942.000000\n",
       "1        Projects   4344.000000   2172.000000  2172.000000\n",
       "2  Collusive Bids   3199.000000   1659.000000  1540.000000\n",
       "3     Collusive %      0.736418      0.763812     0.709024"
      ]
     },
     "execution_count": 127,
     "metadata": {},
     "output_type": "execute_result"
    }
   ],
   "source": [
    "# Calculation for the entire data set\n",
    "bids_overall = len(df_swiss)\n",
    "projects_overall = len(df_swiss.Tender.unique())\n",
    "collusive_bids_overall = len(df_swiss.Tender[df_swiss.Collusive_competitor == 1].unique())\n",
    "collusive_percent_overall = collusive_bids_overall / projects_overall if projects_overall != 0 else 0\n",
    "\n",
    "# Calculation for the partial data set A (Date <= 2196)\n",
    "df_swiss_A = df_swiss[df_swiss['Date'] <= 2196]\n",
    "bids_A = len(df_swiss_A)\n",
    "projects_A = len(df_swiss_A.Tender.unique())\n",
    "collusive_bids_A = len(df_swiss_A.Tender[df_swiss_A.Collusive_competitor == 1].unique())\n",
    "collusive_percent_A = collusive_bids_A / projects_A if projects_A != 0 else 0\n",
    "\n",
    "# Calculation for partial data set B (Date > 2196)\n",
    "df_swiss_B = df_swiss[df_swiss['Date'] > 2196]\n",
    "bids_B = len(df_swiss_B)\n",
    "projects_B = len(df_swiss_B.Tender.unique())\n",
    "collusive_bids_B = len(df_swiss_B.Tender[df_swiss_B.Collusive_competitor == 1].unique())\n",
    "collusive_percent_B = collusive_bids_B / projects_B if projects_B != 0 else 0\n",
    "\n",
    "# Create a DataFrame for the results with the datasets as columns\n",
    "result_df_comp = pd.DataFrame({\n",
    "    'Metric': ['Bids', 'Projects', 'Collusive Bids', 'Collusive %'],\n",
    "    'Overall': [bids_overall, projects_overall, collusive_bids_overall, collusive_percent_overall],\n",
    "    '2005-2010': [bids_A, projects_A, collusive_bids_A, collusive_percent_A],\n",
    "    '2011-2018': [bids_B, projects_B, collusive_bids_B, collusive_percent_B]\n",
    "})\n",
    "\n",
    "result_df_comp.head()"
   ]
  },
  {
   "cell_type": "code",
   "execution_count": 130,
   "id": "22241e5a-9b29-47bc-bfc4-dd56f5e9f6e9",
   "metadata": {
    "tags": []
   },
   "outputs": [
    {
     "name": "stdout",
     "output_type": "stream",
     "text": [
      "\\begin{tabular}{llrrr}\n",
      "\\toprule\n",
      " & Metric & Overall & 2005-2010 & 2011-2018 \\\\\n",
      "\\midrule\n",
      "0 & Bids & 21231.00 & 11289.00 & 9942.00 \\\\\n",
      "1 & Projects & 4344.00 & 2172.00 & 2172.00 \\\\\n",
      "2 & Collusive Bids & 3199.00 & 1659.00 & 1540.00 \\\\\n",
      "3 & Collusive % & 0.74 & 0.76 & 0.71 \\\\\n",
      "\\bottomrule\n",
      "\\end{tabular}\n",
      "\n"
     ]
    }
   ],
   "source": [
    "# Ensure that all mean values are rounded to two decimal places\n",
    "result_df_comp = result_df_comp.round(2)\n",
    "\n",
    "# Output of the complete table in LaTeX format with formatting to two decimal places\n",
    "latex_code_comp= result_df_comp.to_latex(index=True, float_format=\"%.2f\")\n",
    "\n",
    "# Output of the LaTeX code\n",
    "print(latex_code_comp)"
   ]
  },
  {
   "cell_type": "markdown",
   "id": "d646a6d9-89a0-40e4-a0fd-ddd1eb500f94",
   "metadata": {
    "jp-MarkdownHeadingCollapsed": true,
    "tags": []
   },
   "source": [
    "## Comparing Means"
   ]
  },
  {
   "cell_type": "code",
   "execution_count": 128,
   "id": "ca9a5c3f-882d-4a62-a99d-9d6372ef5be7",
   "metadata": {
    "tags": []
   },
   "outputs": [
    {
     "data": {
      "text/html": [
       "<div>\n",
       "<style scoped>\n",
       "    .dataframe tbody tr th:only-of-type {\n",
       "        vertical-align: middle;\n",
       "    }\n",
       "\n",
       "    .dataframe tbody tr th {\n",
       "        vertical-align: top;\n",
       "    }\n",
       "\n",
       "    .dataframe thead th {\n",
       "        text-align: right;\n",
       "    }\n",
       "</style>\n",
       "<table border=\"1\" class=\"dataframe\">\n",
       "  <thead>\n",
       "    <tr style=\"text-align: right;\">\n",
       "      <th></th>\n",
       "      <th>Overall Mean</th>\n",
       "      <th>2005-2010</th>\n",
       "      <th>2011-2018</th>\n",
       "    </tr>\n",
       "  </thead>\n",
       "  <tbody>\n",
       "    <tr>\n",
       "      <th>Bid_value</th>\n",
       "      <td>620663.76</td>\n",
       "      <td>528220.15</td>\n",
       "      <td>725632.17</td>\n",
       "    </tr>\n",
       "    <tr>\n",
       "      <th>Number_bids</th>\n",
       "      <td>6.11</td>\n",
       "      <td>6.46</td>\n",
       "      <td>5.71</td>\n",
       "    </tr>\n",
       "    <tr>\n",
       "      <th>CV</th>\n",
       "      <td>0.08</td>\n",
       "      <td>0.08</td>\n",
       "      <td>0.09</td>\n",
       "    </tr>\n",
       "    <tr>\n",
       "      <th>SPD</th>\n",
       "      <td>1.05</td>\n",
       "      <td>0.27</td>\n",
       "      <td>1.93</td>\n",
       "    </tr>\n",
       "    <tr>\n",
       "      <th>DIFFP</th>\n",
       "      <td>0.66</td>\n",
       "      <td>0.08</td>\n",
       "      <td>1.32</td>\n",
       "    </tr>\n",
       "    <tr>\n",
       "      <th>RD</th>\n",
       "      <td>-10.65</td>\n",
       "      <td>-0.32</td>\n",
       "      <td>-22.39</td>\n",
       "    </tr>\n",
       "    <tr>\n",
       "      <th>KURT</th>\n",
       "      <td>0.23</td>\n",
       "      <td>0.24</td>\n",
       "      <td>0.22</td>\n",
       "    </tr>\n",
       "    <tr>\n",
       "      <th>SKEW</th>\n",
       "      <td>0.15</td>\n",
       "      <td>0.09</td>\n",
       "      <td>0.23</td>\n",
       "    </tr>\n",
       "    <tr>\n",
       "      <th>KSTEST</th>\n",
       "      <td>0.34</td>\n",
       "      <td>0.33</td>\n",
       "      <td>0.36</td>\n",
       "    </tr>\n",
       "    <tr>\n",
       "      <th>Collusive_competitor_original</th>\n",
       "      <td>0.59</td>\n",
       "      <td>0.61</td>\n",
       "      <td>0.57</td>\n",
       "    </tr>\n",
       "    <tr>\n",
       "      <th>Winner</th>\n",
       "      <td>0.21</td>\n",
       "      <td>0.20</td>\n",
       "      <td>0.22</td>\n",
       "    </tr>\n",
       "  </tbody>\n",
       "</table>\n",
       "</div>"
      ],
      "text/plain": [
       "                               Overall Mean  2005-2010  2011-2018\n",
       "Bid_value                         620663.76  528220.15  725632.17\n",
       "Number_bids                            6.11       6.46       5.71\n",
       "CV                                     0.08       0.08       0.09\n",
       "SPD                                    1.05       0.27       1.93\n",
       "DIFFP                                  0.66       0.08       1.32\n",
       "RD                                   -10.65      -0.32     -22.39\n",
       "KURT                                   0.23       0.24       0.22\n",
       "SKEW                                   0.15       0.09       0.23\n",
       "KSTEST                                 0.34       0.33       0.36\n",
       "Collusive_competitor_original          0.59       0.61       0.57\n",
       "Winner                                 0.21       0.20       0.22"
      ]
     },
     "execution_count": 128,
     "metadata": {},
     "output_type": "execute_result"
    }
   ],
   "source": [
    "# Remove the unwanted columns from the DataFrame\n",
    "df_swiss_filtered = df_swiss.drop(columns=['Collusive_competitor', 'Contract_type', 'Tender', 'Date'])\n",
    "\n",
    "# Calculate the mean value for the entire data set\n",
    "overall_mean_filtered = df_swiss_filtered.mean().round(2)\n",
    "\n",
    "# Calculate the mean value for df_swiss[‘Date’] <= 2196\n",
    "df_swiss_less_equal_2196_filtered = df_swiss_filtered[df_swiss['Date'] <= 2196]\n",
    "mean_less_equal_2196_filtered = df_swiss_less_equal_2196_filtered.mean().round(2)\n",
    "\n",
    "# Calculate the mean value for df_swiss[‘Date’] > 2196\n",
    "df_swiss_greater_than_2196_filtered = df_swiss_filtered[df_swiss['Date'] > 2196]\n",
    "mean_greater_than_2196_filtered = df_swiss_greater_than_2196_filtered.mean().round(2)\n",
    "\n",
    "# Create a DataFrame for the results\n",
    "result_df_means = pd.DataFrame({\n",
    "    'Overall Mean': overall_mean_filtered,\n",
    "    '2005-2010': mean_less_equal_2196_filtered,\n",
    "    '2011-2018': mean_greater_than_2196_filtered\n",
    "})\n",
    "\n",
    "# Output of the result DataFrame\n",
    "result_df_means.head(20)"
   ]
  },
  {
   "cell_type": "code",
   "execution_count": 129,
   "id": "092d65fc-e009-404e-9fcb-e10f45785703",
   "metadata": {
    "tags": []
   },
   "outputs": [
    {
     "name": "stdout",
     "output_type": "stream",
     "text": [
      "\\begin{tabular}{lrrr}\n",
      "\\toprule\n",
      " & Overall Mean & 2005-2010 & 2011-2018 \\\\\n",
      "\\midrule\n",
      "Bid_value & 620663.76 & 528220.15 & 725632.17 \\\\\n",
      "Number_bids & 6.11 & 6.46 & 5.71 \\\\\n",
      "CV & 0.08 & 0.08 & 0.09 \\\\\n",
      "SPD & 1.05 & 0.27 & 1.93 \\\\\n",
      "DIFFP & 0.66 & 0.08 & 1.32 \\\\\n",
      "RD & -10.65 & -0.32 & -22.39 \\\\\n",
      "KURT & 0.23 & 0.24 & 0.22 \\\\\n",
      "SKEW & 0.15 & 0.09 & 0.23 \\\\\n",
      "KSTEST & 0.34 & 0.33 & 0.36 \\\\\n",
      "Collusive_competitor_original & 0.59 & 0.61 & 0.57 \\\\\n",
      "Winner & 0.21 & 0.20 & 0.22 \\\\\n",
      "\\bottomrule\n",
      "\\end{tabular}\n",
      "\n"
     ]
    }
   ],
   "source": [
    "# Ensure that all mean values are rounded to two decimal places\n",
    "result_df_means = result_df_means.round(2)\n",
    "\n",
    "# Output of the complete table in LaTeX format with formatting to two decimal places\n",
    "latex_code_means = result_df_means.to_latex(index=True, float_format=\"%.2f\")\n",
    "\n",
    "# Output of the LaTeX code\n",
    "print(latex_code_means)"
   ]
  }
 ],
 "metadata": {
  "kernelspec": {
   "display_name": "Python (collusion_ml)",
   "language": "python",
   "name": "collusion_ml"
  },
  "language_info": {
   "codemirror_mode": {
    "name": "ipython",
    "version": 3
   },
   "file_extension": ".py",
   "mimetype": "text/x-python",
   "name": "python",
   "nbconvert_exporter": "python",
   "pygments_lexer": "ipython3",
   "version": "3.10.16"
  }
 },
 "nbformat": 4,
 "nbformat_minor": 5
}
