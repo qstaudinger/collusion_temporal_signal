{
 "cells": [
  {
   "cell_type": "markdown",
   "id": "3f65c9bc",
   "metadata": {
    "tags": []
   },
   "source": [
    "## ML Configuration"
   ]
  },
  {
   "cell_type": "code",
   "execution_count": 294,
   "id": "40a6ad32",
   "metadata": {
    "tags": []
   },
   "outputs": [
    {
     "name": "stdout",
     "output_type": "stream",
     "text": [
      "The autoreload extension is already loaded. To reload it, use:\n",
      "  %reload_ext autoreload\n"
     ]
    }
   ],
   "source": [
    "import pandas as pd\n",
    "import numpy as np\n",
    "from pathlib import Path\n",
    "from tqdm.notebook import tqdm\n",
    "import matplotlib.pyplot as plt\n",
    "import seaborn as sns\n",
    "\n",
    "from sklearn.pipeline import Pipeline\n",
    "from sklearn.model_selection import train_test_split\n",
    "from sklearn.linear_model import LinearRegression\n",
    "from sklearn.neighbors import KNeighborsRegressor\n",
    "from sklearn.tree import DecisionTreeRegressor\n",
    "from sklearn.preprocessing import StandardScaler\n",
    "from sklearn.model_selection import GridSearchCV\n",
    "from sklearn.metrics import r2_score\n",
    "from sklearn.metrics import confusion_matrix\n",
    "from sklearn.metrics import roc_curve, auc\n",
    "\n",
    "from sklearn.dummy import DummyClassifier\n",
    "from sklearn.tree import DecisionTreeClassifier\n",
    "from sklearn.ensemble import GradientBoostingClassifier\n",
    "from sklearn.neural_network import MLPClassifier\n",
    "from sklearn.ensemble import RandomForestClassifier\n",
    "from sklearn.linear_model import LogisticRegression\n",
    "from sklearn.svm import SVC\n",
    "from sklearn.model_selection import StratifiedKFold\n",
    "\n",
    "tqdm.pandas()\n",
    "\n",
    "%matplotlib inline\n",
    "\n",
    "%load_ext autoreload\n",
    "%autoreload 2"
   ]
  },
  {
   "cell_type": "code",
   "execution_count": 95,
   "id": "ee29aba2",
   "metadata": {
    "tags": []
   },
   "outputs": [],
   "source": [
    "SEED = 23\n",
    "data_dir = Path(\"Data/data_to_use\")\n",
    "unseen_data_dir = Path(\"Data/TUD\")"
   ]
  },
  {
   "cell_type": "code",
   "execution_count": 144,
   "id": "fd35afac",
   "metadata": {
    "tags": []
   },
   "outputs": [],
   "source": [
    "conf_ML = [\n",
    "    ('Dummy', DummyClassifier(), {'Dummy__strategy' : [\"stratified\"], 'Dummy__random_state': [SEED]}),\n",
    "    ('Tree', DecisionTreeClassifier(), {'Tree__max_depth': range(1,10), 'Tree__random_state': [SEED]}),\n",
    "    ('Forest', RandomForestClassifier(), {'Forest__max_depth': range(1,20), 'Forest__random_state': [SEED]}),\n",
    "    ('GradientBoost', GradientBoostingClassifier(), {'GradientBoost__max_depth': range(1,10), 'GradientBoost__random_state': [SEED]}),\n",
    "    ('MLP', MLPClassifier(), {'MLP__hidden_layer_sizes': range(1,20), \"MLP__random_state\": [SEED]}),\n",
    "    ('Logistic', LogisticRegression(), {'Logistic__C':np.logspace(0,4, 10) ,'Logistic__random_state': [SEED]}),\n",
    "    ('SVM', SVC(), {'SVM__C' : np.logspace(0,4, 20), 'SVM__gamma': np.logspace(-1,1, 10), 'SVM__kernel' : ['rbf'], 'SVM__random_state': [SEED]})\n",
    "]"
   ]
  },
  {
   "cell_type": "code",
   "execution_count": 97,
   "id": "af665eb3",
   "metadata": {
    "tags": []
   },
   "outputs": [],
   "source": [
    "features_ML = [\"CV\", \"SPD\", \"DIFFP\", \"RD\", \"KURT\", \"SKEW\", \"KSTEST\"]"
   ]
  },
  {
   "cell_type": "markdown",
   "id": "beefc15a",
   "metadata": {
    "tags": []
   },
   "source": [
    "# Train"
   ]
  },
  {
   "cell_type": "markdown",
   "id": "7b096add",
   "metadata": {
    "tags": []
   },
   "source": [
    "## Definitions"
   ]
  },
  {
   "cell_type": "code",
   "execution_count": 145,
   "id": "3c687d1e",
   "metadata": {
    "tags": []
   },
   "outputs": [],
   "source": [
    "def prepare_data(name, features = features_ML, return_industry =False):\n",
    "    \n",
    "    #datanames = [ \"brazil_gaz\", \"japan\", \"brazil\", \"ticino\", \"US\"]\n",
    "    \n",
    "    #if name not in datanames + [\"all\"]:\n",
    "        #print(\"This is not a dataset \")\n",
    "        \n",
    "    if type(name) == list:\n",
    "    ##TODO: eventually use full dataset not only train here    \n",
    "        data = []\n",
    "        for ds in tqdm(name):\n",
    "            if ds != \"swissdata\":\n",
    "                df = pd.read_json(data_dir/f\"{ds}_train.json\")\n",
    "            else:\n",
    "                df = pd.read_json(data_dir/f\"{ds}_train.json\")\n",
    "            if \"ID\" in df.keys():\n",
    "                df.rename(columns = {\"ID\": \"Tender\"}, inplace = True)\n",
    "            if \"Price\" in df.keys():\n",
    "                df.rename(columns = {\"Price\": \"Bid_value\"}, inplace = True)\n",
    "            if \"complete\" in df.keys(): #complete/incomplete is just a case in Swiss dataset, take care of it later\n",
    "                #df.rename(columns = {\"complete\": \"Collusive_competitor\"}, inplace = True)#this option only considers complete cartels as cartels\n",
    "                #df[\"cartel\"] = df.complete | df.incomplete #this option also considers incomplete cartels as cartels\n",
    "                df = df[df.incomplete!=1] #this option removes all incomplete cartels and does not consider them\n",
    "                df.rename(columns = {\"complete\": \"Collusive_competitor\"}, inplace = True)\n",
    "                \n",
    "            df[\"Tender\"] = df.Tender.apply(lambda s: f\"{ds}/{s}\" )\n",
    "            \n",
    "            if return_industry:\n",
    "                df[\"industry\"] = ds\n",
    "            \n",
    "            data.append(df[list(set(features + [\"Number_bids\"])) + [\"Bid_value\", \"Tender\", \"Collusive_competitor\"]]) #to make sure Number_bids is included as it will be needed later\n",
    "        df = pd.concat(data)\n",
    "        \n",
    "        \n",
    "        \n",
    "    else:\n",
    "        print(\"for this evaluation we need a list as input\")\n",
    "    \n",
    "    df_grouped = df.groupby(by=\"Tender\").head(1).reset_index()\n",
    "    \n",
    "    df_grouped.drop(columns=[\"Bid_value\"], inplace = True)\n",
    "    df_grouped = df_grouped.merge(df.groupby(by=\"Tender\")[\"Bid_value\"].apply(list), left_on = \"Tender\", right_on = \"Tender\")\n",
    "    \n",
    "    df_grouped[\"Bid_value\"] = df_grouped.Bid_value.apply(lambda x: (np.asarray(x)-min(np.asarray(x)))/np.std(np.asarray(x)))\n",
    "    df_grouped[\"Bid_value\"] = df_grouped.Bid_value.apply(lambda x: np.sort(x)[::-1])\n",
    "    \n",
    "    padding_length = max(np.asarray(df_grouped.Number_bids.tolist()))\n",
    "    df_grouped[\"Bid_value\"] = df_grouped.Bid_value.apply(lambda x: np.pad(x, (0,padding_length-len(x))))\n",
    "    \n",
    "    df_grouped.dropna(inplace = True)\n",
    "    \n",
    "    X_DL = np.array(df_grouped.Bid_value.tolist())\n",
    "    X_DL = X_DL.reshape(X_DL.shape[0], X_DL.shape[1], 1)\n",
    "\n",
    "    X = df_grouped[features]\n",
    "    y = df_grouped[\"Collusive_competitor\"]\n",
    "    \n",
    "    return X,y, X_DL"
   ]
  },
  {
   "cell_type": "code",
   "execution_count": 146,
   "id": "252b9fda",
   "metadata": {
    "tags": []
   },
   "outputs": [],
   "source": [
    "def evaluate_models(X,y, configuration, SEED = SEED, print_full = False, LOO = False):\n",
    "    model_scores = []\n",
    "    models = []\n",
    "    results = []\n",
    "    full_results = []\n",
    "    for name, algo, params in configuration:\n",
    "        print(f'Trying {name} ...')\n",
    "        # Extend model with normalisation step (here we use z-normalisation)\n",
    "        #(\"scaler\", StandardScaler()) # only needed in ML hyper parameter tuning\n",
    "        pipeline = Pipeline([(\"scaler\", StandardScaler()),(name, algo)])\n",
    "        # Instantiate grid search object and pass params, number of folds and scoring-function\n",
    "        if LOO:\n",
    "            mycv = StratifiedKFold(n_splits = 10, random_state=SEED, shuffle = True) #not programmed yet\n",
    "        else:\n",
    "            mycv = StratifiedKFold(n_splits = 10, random_state=SEED, shuffle = True)\n",
    "        classifier = GridSearchCV(pipeline, param_grid=params, cv= mycv, scoring=['f1', 'precision', 'recall', 'accuracy'], refit = 'f1', return_train_score = True)\n",
    "        # Fit cross validation to our training data: within this function, all configurations are tried\n",
    "        classifier.fit(X, y)\n",
    "        print(f'  - Best hyperparameter: {classifier.best_params_}')\n",
    "        print(f'  - Best F1 score: {classifier.best_score_:.3f}')\n",
    "        if print_full:\n",
    "            print(f'  - F1 Result for each parametrization in train:', [f'{x:.2f}' for x in classifier.cv_results_['mean_train_f1']])\n",
    "            print(f'  - F1 Result for each parametrization in test:', [f'{x:.2f}' for x in classifier.cv_results_['mean_test_f1']])\n",
    "            print(f'  - precision Result for each parametrization in train:', [f'{x:.2f}' for x in classifier.cv_results_['mean_train_precision']])\n",
    "            print(f'  - precision for each parametrization in test:', [f'{x:.2f}' for x in classifier.cv_results_['mean_test_precision']])\n",
    "            print(f'  - recall Result for each parametrization in train:', [f'{x:.2f}' for x in classifier.cv_results_['mean_train_recall']])\n",
    "            print(f'  - recall Result for each parametrization in test:', [f'{x:.2f}' for x in classifier.cv_results_['mean_test_recall']])\n",
    "            print(f'  - accuracy Result for each parametrization in train:', [f'{x:.2f}' for x in classifier.cv_results_['mean_train_accuracy']])\n",
    "            print(f'  - accuracy Result for each parametrization in test:', [f'{x:.2f}' for x in classifier.cv_results_['mean_test_accuracy']])\n",
    "        model_scores.append(classifier.best_score_)\n",
    "        models.append(classifier.best_estimator_)\n",
    "    \n",
    "        index = classifier.best_index_\n",
    "        df_results = pd.DataFrame({\n",
    "            \"algorithm\": name,\n",
    "            \"train_f1\": [\"{:.3f}\".format(classifier.cv_results_['mean_train_f1'][index])], \"test_f1\": [\"{:.3f}\".format(classifier.cv_results_['mean_test_f1'][index])],\n",
    "            \"train_precision\": [\"{:.3f}\".format(classifier.cv_results_['mean_train_precision'][index])], \"test_precision\": [\"{:.3f}\".format(classifier.cv_results_['mean_test_precision'][index])],\n",
    "            \"train_recall\": [\"{:.3f}\".format(classifier.cv_results_['mean_train_recall'][index])], \"test_recall\": [\"{:.3f}\".format(classifier.cv_results_['mean_test_recall'][index])],\n",
    "            \"train_accuracy\": [\"{:.3f}\".format(classifier.cv_results_['mean_train_accuracy'][index])], \"test_accuracy\": [\"{:.3f}\".format(classifier.cv_results_['mean_test_accuracy'][index])],\n",
    "            \"params\": [classifier.best_params_]\n",
    "            })\n",
    "        results.append(df_results)\n",
    "    \n",
    "        df_full_results = pd.DataFrame({\n",
    "            \"algorithm\": name,\n",
    "            \"train_f1\": classifier.cv_results_['mean_train_f1'], \"test_f1\": classifier.cv_results_['mean_test_f1'],\n",
    "            \"train_precision\": classifier.cv_results_['mean_train_precision'], \"test_precision\": classifier.cv_results_['mean_test_precision'],\n",
    "            \"train_recall\": classifier.cv_results_['mean_train_recall'], \"test_recall\": classifier.cv_results_['mean_test_recall'],\n",
    "            \"train_accuracy\": classifier.cv_results_['mean_train_accuracy'], \"test_accuracy\": classifier.cv_results_['mean_test_accuracy'],\n",
    "            \"params\": classifier.cv_results_[\"params\"]\n",
    "            })\n",
    "        full_results.append(df_full_results)\n",
    "    \n",
    "    results = pd.concat(results)\n",
    "    results = results.reset_index(drop = True)\n",
    "\n",
    "    full_results = pd.concat(full_results)\n",
    "    full_results = full_results.reset_index(drop = True)\n",
    "    \n",
    "    return results, full_results"
   ]
  },
  {
   "cell_type": "markdown",
   "id": "ef2a9d71-f569-4c8d-8f0a-4a8b17a92bbb",
   "metadata": {
    "tags": []
   },
   "source": [
    "## Experiment 7 (Swiss[1]-Swiss[2]):"
   ]
  },
  {
   "cell_type": "markdown",
   "id": "785dcfc9-8725-4dd6-8791-4d27adfdd200",
   "metadata": {},
   "source": [
    "Swiss time period 1 for training, Swiss time period 2 for evaluation."
   ]
  },
  {
   "cell_type": "code",
   "execution_count": 149,
   "id": "3dd05771-15ab-4a0f-981f-602c81c10e82",
   "metadata": {
    "tags": []
   },
   "outputs": [],
   "source": [
    "data_names = [\"swiss1\"]"
   ]
  },
  {
   "cell_type": "code",
   "execution_count": 150,
   "id": "8506eafa-46dd-4d83-9631-74c098f8c46c",
   "metadata": {
    "scrolled": true,
    "tags": []
   },
   "outputs": [
    {
     "data": {
      "application/vnd.jupyter.widget-view+json": {
       "model_id": "f8b3831a50564b11b91fe9f631dc617f",
       "version_major": 2,
       "version_minor": 0
      },
      "text/plain": [
       "  0%|          | 0/1 [00:00<?, ?it/s]"
      ]
     },
     "metadata": {},
     "output_type": "display_data"
    },
    {
     "name": "stderr",
     "output_type": "stream",
     "text": [
      "/tmp/ipykernel_2236328/1521300152.py:44: RuntimeWarning: invalid value encountered in divide\n",
      "  df_grouped[\"Bid_value\"] = df_grouped.Bid_value.apply(lambda x: (np.asarray(x)-min(np.asarray(x)))/np.std(np.asarray(x)))\n"
     ]
    },
    {
     "name": "stdout",
     "output_type": "stream",
     "text": [
      "Trying Dummy ...\n",
      "  - Best hyperparameter: {'Dummy__random_state': 23, 'Dummy__strategy': 'stratified'}\n",
      "  - Best F1 score: 0.753\n",
      "Trying Tree ...\n",
      "  - Best hyperparameter: {'Tree__max_depth': 1, 'Tree__random_state': 23}\n",
      "  - Best F1 score: 0.866\n",
      "Trying Forest ...\n",
      "  - Best hyperparameter: {'Forest__max_depth': 5, 'Forest__random_state': 23}\n",
      "  - Best F1 score: 0.870\n",
      "Trying GradientBoost ...\n",
      "  - Best hyperparameter: {'GradientBoost__max_depth': 1, 'GradientBoost__random_state': 23}\n",
      "  - Best F1 score: 0.869\n",
      "Trying MLP ...\n"
     ]
    },
    {
     "name": "stderr",
     "output_type": "stream",
     "text": [
      "/home/qstaudinger/.conda/envs/collusion_ml/lib/python3.10/site-packages/sklearn/neural_network/_multilayer_perceptron.py:691: ConvergenceWarning: Stochastic Optimizer: Maximum iterations (200) reached and the optimization hasn't converged yet.\n",
      "  warnings.warn(\n",
      "/home/qstaudinger/.conda/envs/collusion_ml/lib/python3.10/site-packages/sklearn/neural_network/_multilayer_perceptron.py:691: ConvergenceWarning: Stochastic Optimizer: Maximum iterations (200) reached and the optimization hasn't converged yet.\n",
      "  warnings.warn(\n",
      "/home/qstaudinger/.conda/envs/collusion_ml/lib/python3.10/site-packages/sklearn/neural_network/_multilayer_perceptron.py:691: ConvergenceWarning: Stochastic Optimizer: Maximum iterations (200) reached and the optimization hasn't converged yet.\n",
      "  warnings.warn(\n",
      "/home/qstaudinger/.conda/envs/collusion_ml/lib/python3.10/site-packages/sklearn/neural_network/_multilayer_perceptron.py:691: ConvergenceWarning: Stochastic Optimizer: Maximum iterations (200) reached and the optimization hasn't converged yet.\n",
      "  warnings.warn(\n",
      "/home/qstaudinger/.conda/envs/collusion_ml/lib/python3.10/site-packages/sklearn/neural_network/_multilayer_perceptron.py:691: ConvergenceWarning: Stochastic Optimizer: Maximum iterations (200) reached and the optimization hasn't converged yet.\n",
      "  warnings.warn(\n",
      "/home/qstaudinger/.conda/envs/collusion_ml/lib/python3.10/site-packages/sklearn/neural_network/_multilayer_perceptron.py:691: ConvergenceWarning: Stochastic Optimizer: Maximum iterations (200) reached and the optimization hasn't converged yet.\n",
      "  warnings.warn(\n",
      "/home/qstaudinger/.conda/envs/collusion_ml/lib/python3.10/site-packages/sklearn/neural_network/_multilayer_perceptron.py:691: ConvergenceWarning: Stochastic Optimizer: Maximum iterations (200) reached and the optimization hasn't converged yet.\n",
      "  warnings.warn(\n",
      "/home/qstaudinger/.conda/envs/collusion_ml/lib/python3.10/site-packages/sklearn/neural_network/_multilayer_perceptron.py:691: ConvergenceWarning: Stochastic Optimizer: Maximum iterations (200) reached and the optimization hasn't converged yet.\n",
      "  warnings.warn(\n",
      "/home/qstaudinger/.conda/envs/collusion_ml/lib/python3.10/site-packages/sklearn/neural_network/_multilayer_perceptron.py:691: ConvergenceWarning: Stochastic Optimizer: Maximum iterations (200) reached and the optimization hasn't converged yet.\n",
      "  warnings.warn(\n",
      "/home/qstaudinger/.conda/envs/collusion_ml/lib/python3.10/site-packages/sklearn/neural_network/_multilayer_perceptron.py:691: ConvergenceWarning: Stochastic Optimizer: Maximum iterations (200) reached and the optimization hasn't converged yet.\n",
      "  warnings.warn(\n",
      "/home/qstaudinger/.conda/envs/collusion_ml/lib/python3.10/site-packages/sklearn/neural_network/_multilayer_perceptron.py:691: ConvergenceWarning: Stochastic Optimizer: Maximum iterations (200) reached and the optimization hasn't converged yet.\n",
      "  warnings.warn(\n",
      "/home/qstaudinger/.conda/envs/collusion_ml/lib/python3.10/site-packages/sklearn/neural_network/_multilayer_perceptron.py:691: ConvergenceWarning: Stochastic Optimizer: Maximum iterations (200) reached and the optimization hasn't converged yet.\n",
      "  warnings.warn(\n",
      "/home/qstaudinger/.conda/envs/collusion_ml/lib/python3.10/site-packages/sklearn/neural_network/_multilayer_perceptron.py:691: ConvergenceWarning: Stochastic Optimizer: Maximum iterations (200) reached and the optimization hasn't converged yet.\n",
      "  warnings.warn(\n",
      "/home/qstaudinger/.conda/envs/collusion_ml/lib/python3.10/site-packages/sklearn/neural_network/_multilayer_perceptron.py:691: ConvergenceWarning: Stochastic Optimizer: Maximum iterations (200) reached and the optimization hasn't converged yet.\n",
      "  warnings.warn(\n",
      "/home/qstaudinger/.conda/envs/collusion_ml/lib/python3.10/site-packages/sklearn/neural_network/_multilayer_perceptron.py:691: ConvergenceWarning: Stochastic Optimizer: Maximum iterations (200) reached and the optimization hasn't converged yet.\n",
      "  warnings.warn(\n",
      "/home/qstaudinger/.conda/envs/collusion_ml/lib/python3.10/site-packages/sklearn/neural_network/_multilayer_perceptron.py:691: ConvergenceWarning: Stochastic Optimizer: Maximum iterations (200) reached and the optimization hasn't converged yet.\n",
      "  warnings.warn(\n",
      "/home/qstaudinger/.conda/envs/collusion_ml/lib/python3.10/site-packages/sklearn/neural_network/_multilayer_perceptron.py:691: ConvergenceWarning: Stochastic Optimizer: Maximum iterations (200) reached and the optimization hasn't converged yet.\n",
      "  warnings.warn(\n",
      "/home/qstaudinger/.conda/envs/collusion_ml/lib/python3.10/site-packages/sklearn/neural_network/_multilayer_perceptron.py:691: ConvergenceWarning: Stochastic Optimizer: Maximum iterations (200) reached and the optimization hasn't converged yet.\n",
      "  warnings.warn(\n",
      "/home/qstaudinger/.conda/envs/collusion_ml/lib/python3.10/site-packages/sklearn/neural_network/_multilayer_perceptron.py:691: ConvergenceWarning: Stochastic Optimizer: Maximum iterations (200) reached and the optimization hasn't converged yet.\n",
      "  warnings.warn(\n",
      "/home/qstaudinger/.conda/envs/collusion_ml/lib/python3.10/site-packages/sklearn/neural_network/_multilayer_perceptron.py:691: ConvergenceWarning: Stochastic Optimizer: Maximum iterations (200) reached and the optimization hasn't converged yet.\n",
      "  warnings.warn(\n",
      "/home/qstaudinger/.conda/envs/collusion_ml/lib/python3.10/site-packages/sklearn/neural_network/_multilayer_perceptron.py:691: ConvergenceWarning: Stochastic Optimizer: Maximum iterations (200) reached and the optimization hasn't converged yet.\n",
      "  warnings.warn(\n",
      "/home/qstaudinger/.conda/envs/collusion_ml/lib/python3.10/site-packages/sklearn/neural_network/_multilayer_perceptron.py:691: ConvergenceWarning: Stochastic Optimizer: Maximum iterations (200) reached and the optimization hasn't converged yet.\n",
      "  warnings.warn(\n",
      "/home/qstaudinger/.conda/envs/collusion_ml/lib/python3.10/site-packages/sklearn/neural_network/_multilayer_perceptron.py:691: ConvergenceWarning: Stochastic Optimizer: Maximum iterations (200) reached and the optimization hasn't converged yet.\n",
      "  warnings.warn(\n",
      "/home/qstaudinger/.conda/envs/collusion_ml/lib/python3.10/site-packages/sklearn/neural_network/_multilayer_perceptron.py:691: ConvergenceWarning: Stochastic Optimizer: Maximum iterations (200) reached and the optimization hasn't converged yet.\n",
      "  warnings.warn(\n",
      "/home/qstaudinger/.conda/envs/collusion_ml/lib/python3.10/site-packages/sklearn/neural_network/_multilayer_perceptron.py:691: ConvergenceWarning: Stochastic Optimizer: Maximum iterations (200) reached and the optimization hasn't converged yet.\n",
      "  warnings.warn(\n",
      "/home/qstaudinger/.conda/envs/collusion_ml/lib/python3.10/site-packages/sklearn/neural_network/_multilayer_perceptron.py:691: ConvergenceWarning: Stochastic Optimizer: Maximum iterations (200) reached and the optimization hasn't converged yet.\n",
      "  warnings.warn(\n",
      "/home/qstaudinger/.conda/envs/collusion_ml/lib/python3.10/site-packages/sklearn/neural_network/_multilayer_perceptron.py:691: ConvergenceWarning: Stochastic Optimizer: Maximum iterations (200) reached and the optimization hasn't converged yet.\n",
      "  warnings.warn(\n",
      "/home/qstaudinger/.conda/envs/collusion_ml/lib/python3.10/site-packages/sklearn/neural_network/_multilayer_perceptron.py:691: ConvergenceWarning: Stochastic Optimizer: Maximum iterations (200) reached and the optimization hasn't converged yet.\n",
      "  warnings.warn(\n",
      "/home/qstaudinger/.conda/envs/collusion_ml/lib/python3.10/site-packages/sklearn/neural_network/_multilayer_perceptron.py:691: ConvergenceWarning: Stochastic Optimizer: Maximum iterations (200) reached and the optimization hasn't converged yet.\n",
      "  warnings.warn(\n",
      "/home/qstaudinger/.conda/envs/collusion_ml/lib/python3.10/site-packages/sklearn/neural_network/_multilayer_perceptron.py:691: ConvergenceWarning: Stochastic Optimizer: Maximum iterations (200) reached and the optimization hasn't converged yet.\n",
      "  warnings.warn(\n",
      "/home/qstaudinger/.conda/envs/collusion_ml/lib/python3.10/site-packages/sklearn/neural_network/_multilayer_perceptron.py:691: ConvergenceWarning: Stochastic Optimizer: Maximum iterations (200) reached and the optimization hasn't converged yet.\n",
      "  warnings.warn(\n",
      "/home/qstaudinger/.conda/envs/collusion_ml/lib/python3.10/site-packages/sklearn/neural_network/_multilayer_perceptron.py:691: ConvergenceWarning: Stochastic Optimizer: Maximum iterations (200) reached and the optimization hasn't converged yet.\n",
      "  warnings.warn(\n",
      "/home/qstaudinger/.conda/envs/collusion_ml/lib/python3.10/site-packages/sklearn/neural_network/_multilayer_perceptron.py:691: ConvergenceWarning: Stochastic Optimizer: Maximum iterations (200) reached and the optimization hasn't converged yet.\n",
      "  warnings.warn(\n",
      "/home/qstaudinger/.conda/envs/collusion_ml/lib/python3.10/site-packages/sklearn/neural_network/_multilayer_perceptron.py:691: ConvergenceWarning: Stochastic Optimizer: Maximum iterations (200) reached and the optimization hasn't converged yet.\n",
      "  warnings.warn(\n",
      "/home/qstaudinger/.conda/envs/collusion_ml/lib/python3.10/site-packages/sklearn/neural_network/_multilayer_perceptron.py:691: ConvergenceWarning: Stochastic Optimizer: Maximum iterations (200) reached and the optimization hasn't converged yet.\n",
      "  warnings.warn(\n",
      "/home/qstaudinger/.conda/envs/collusion_ml/lib/python3.10/site-packages/sklearn/neural_network/_multilayer_perceptron.py:691: ConvergenceWarning: Stochastic Optimizer: Maximum iterations (200) reached and the optimization hasn't converged yet.\n",
      "  warnings.warn(\n",
      "/home/qstaudinger/.conda/envs/collusion_ml/lib/python3.10/site-packages/sklearn/neural_network/_multilayer_perceptron.py:691: ConvergenceWarning: Stochastic Optimizer: Maximum iterations (200) reached and the optimization hasn't converged yet.\n",
      "  warnings.warn(\n",
      "/home/qstaudinger/.conda/envs/collusion_ml/lib/python3.10/site-packages/sklearn/neural_network/_multilayer_perceptron.py:691: ConvergenceWarning: Stochastic Optimizer: Maximum iterations (200) reached and the optimization hasn't converged yet.\n",
      "  warnings.warn(\n",
      "/home/qstaudinger/.conda/envs/collusion_ml/lib/python3.10/site-packages/sklearn/neural_network/_multilayer_perceptron.py:691: ConvergenceWarning: Stochastic Optimizer: Maximum iterations (200) reached and the optimization hasn't converged yet.\n",
      "  warnings.warn(\n",
      "/home/qstaudinger/.conda/envs/collusion_ml/lib/python3.10/site-packages/sklearn/neural_network/_multilayer_perceptron.py:691: ConvergenceWarning: Stochastic Optimizer: Maximum iterations (200) reached and the optimization hasn't converged yet.\n",
      "  warnings.warn(\n",
      "/home/qstaudinger/.conda/envs/collusion_ml/lib/python3.10/site-packages/sklearn/neural_network/_multilayer_perceptron.py:691: ConvergenceWarning: Stochastic Optimizer: Maximum iterations (200) reached and the optimization hasn't converged yet.\n",
      "  warnings.warn(\n",
      "/home/qstaudinger/.conda/envs/collusion_ml/lib/python3.10/site-packages/sklearn/neural_network/_multilayer_perceptron.py:691: ConvergenceWarning: Stochastic Optimizer: Maximum iterations (200) reached and the optimization hasn't converged yet.\n",
      "  warnings.warn(\n",
      "/home/qstaudinger/.conda/envs/collusion_ml/lib/python3.10/site-packages/sklearn/neural_network/_multilayer_perceptron.py:691: ConvergenceWarning: Stochastic Optimizer: Maximum iterations (200) reached and the optimization hasn't converged yet.\n",
      "  warnings.warn(\n",
      "/home/qstaudinger/.conda/envs/collusion_ml/lib/python3.10/site-packages/sklearn/neural_network/_multilayer_perceptron.py:691: ConvergenceWarning: Stochastic Optimizer: Maximum iterations (200) reached and the optimization hasn't converged yet.\n",
      "  warnings.warn(\n",
      "/home/qstaudinger/.conda/envs/collusion_ml/lib/python3.10/site-packages/sklearn/neural_network/_multilayer_perceptron.py:691: ConvergenceWarning: Stochastic Optimizer: Maximum iterations (200) reached and the optimization hasn't converged yet.\n",
      "  warnings.warn(\n",
      "/home/qstaudinger/.conda/envs/collusion_ml/lib/python3.10/site-packages/sklearn/neural_network/_multilayer_perceptron.py:691: ConvergenceWarning: Stochastic Optimizer: Maximum iterations (200) reached and the optimization hasn't converged yet.\n",
      "  warnings.warn(\n",
      "/home/qstaudinger/.conda/envs/collusion_ml/lib/python3.10/site-packages/sklearn/neural_network/_multilayer_perceptron.py:691: ConvergenceWarning: Stochastic Optimizer: Maximum iterations (200) reached and the optimization hasn't converged yet.\n",
      "  warnings.warn(\n",
      "/home/qstaudinger/.conda/envs/collusion_ml/lib/python3.10/site-packages/sklearn/neural_network/_multilayer_perceptron.py:691: ConvergenceWarning: Stochastic Optimizer: Maximum iterations (200) reached and the optimization hasn't converged yet.\n",
      "  warnings.warn(\n",
      "/home/qstaudinger/.conda/envs/collusion_ml/lib/python3.10/site-packages/sklearn/neural_network/_multilayer_perceptron.py:691: ConvergenceWarning: Stochastic Optimizer: Maximum iterations (200) reached and the optimization hasn't converged yet.\n",
      "  warnings.warn(\n",
      "/home/qstaudinger/.conda/envs/collusion_ml/lib/python3.10/site-packages/sklearn/neural_network/_multilayer_perceptron.py:691: ConvergenceWarning: Stochastic Optimizer: Maximum iterations (200) reached and the optimization hasn't converged yet.\n",
      "  warnings.warn(\n",
      "/home/qstaudinger/.conda/envs/collusion_ml/lib/python3.10/site-packages/sklearn/neural_network/_multilayer_perceptron.py:691: ConvergenceWarning: Stochastic Optimizer: Maximum iterations (200) reached and the optimization hasn't converged yet.\n",
      "  warnings.warn(\n",
      "/home/qstaudinger/.conda/envs/collusion_ml/lib/python3.10/site-packages/sklearn/neural_network/_multilayer_perceptron.py:691: ConvergenceWarning: Stochastic Optimizer: Maximum iterations (200) reached and the optimization hasn't converged yet.\n",
      "  warnings.warn(\n",
      "/home/qstaudinger/.conda/envs/collusion_ml/lib/python3.10/site-packages/sklearn/neural_network/_multilayer_perceptron.py:691: ConvergenceWarning: Stochastic Optimizer: Maximum iterations (200) reached and the optimization hasn't converged yet.\n",
      "  warnings.warn(\n",
      "/home/qstaudinger/.conda/envs/collusion_ml/lib/python3.10/site-packages/sklearn/neural_network/_multilayer_perceptron.py:691: ConvergenceWarning: Stochastic Optimizer: Maximum iterations (200) reached and the optimization hasn't converged yet.\n",
      "  warnings.warn(\n",
      "/home/qstaudinger/.conda/envs/collusion_ml/lib/python3.10/site-packages/sklearn/neural_network/_multilayer_perceptron.py:691: ConvergenceWarning: Stochastic Optimizer: Maximum iterations (200) reached and the optimization hasn't converged yet.\n",
      "  warnings.warn(\n",
      "/home/qstaudinger/.conda/envs/collusion_ml/lib/python3.10/site-packages/sklearn/neural_network/_multilayer_perceptron.py:691: ConvergenceWarning: Stochastic Optimizer: Maximum iterations (200) reached and the optimization hasn't converged yet.\n",
      "  warnings.warn(\n",
      "/home/qstaudinger/.conda/envs/collusion_ml/lib/python3.10/site-packages/sklearn/neural_network/_multilayer_perceptron.py:691: ConvergenceWarning: Stochastic Optimizer: Maximum iterations (200) reached and the optimization hasn't converged yet.\n",
      "  warnings.warn(\n",
      "/home/qstaudinger/.conda/envs/collusion_ml/lib/python3.10/site-packages/sklearn/neural_network/_multilayer_perceptron.py:691: ConvergenceWarning: Stochastic Optimizer: Maximum iterations (200) reached and the optimization hasn't converged yet.\n",
      "  warnings.warn(\n",
      "/home/qstaudinger/.conda/envs/collusion_ml/lib/python3.10/site-packages/sklearn/neural_network/_multilayer_perceptron.py:691: ConvergenceWarning: Stochastic Optimizer: Maximum iterations (200) reached and the optimization hasn't converged yet.\n",
      "  warnings.warn(\n",
      "/home/qstaudinger/.conda/envs/collusion_ml/lib/python3.10/site-packages/sklearn/neural_network/_multilayer_perceptron.py:691: ConvergenceWarning: Stochastic Optimizer: Maximum iterations (200) reached and the optimization hasn't converged yet.\n",
      "  warnings.warn(\n",
      "/home/qstaudinger/.conda/envs/collusion_ml/lib/python3.10/site-packages/sklearn/neural_network/_multilayer_perceptron.py:691: ConvergenceWarning: Stochastic Optimizer: Maximum iterations (200) reached and the optimization hasn't converged yet.\n",
      "  warnings.warn(\n",
      "/home/qstaudinger/.conda/envs/collusion_ml/lib/python3.10/site-packages/sklearn/neural_network/_multilayer_perceptron.py:691: ConvergenceWarning: Stochastic Optimizer: Maximum iterations (200) reached and the optimization hasn't converged yet.\n",
      "  warnings.warn(\n",
      "/home/qstaudinger/.conda/envs/collusion_ml/lib/python3.10/site-packages/sklearn/neural_network/_multilayer_perceptron.py:691: ConvergenceWarning: Stochastic Optimizer: Maximum iterations (200) reached and the optimization hasn't converged yet.\n",
      "  warnings.warn(\n",
      "/home/qstaudinger/.conda/envs/collusion_ml/lib/python3.10/site-packages/sklearn/neural_network/_multilayer_perceptron.py:691: ConvergenceWarning: Stochastic Optimizer: Maximum iterations (200) reached and the optimization hasn't converged yet.\n",
      "  warnings.warn(\n",
      "/home/qstaudinger/.conda/envs/collusion_ml/lib/python3.10/site-packages/sklearn/neural_network/_multilayer_perceptron.py:691: ConvergenceWarning: Stochastic Optimizer: Maximum iterations (200) reached and the optimization hasn't converged yet.\n",
      "  warnings.warn(\n",
      "/home/qstaudinger/.conda/envs/collusion_ml/lib/python3.10/site-packages/sklearn/neural_network/_multilayer_perceptron.py:691: ConvergenceWarning: Stochastic Optimizer: Maximum iterations (200) reached and the optimization hasn't converged yet.\n",
      "  warnings.warn(\n",
      "/home/qstaudinger/.conda/envs/collusion_ml/lib/python3.10/site-packages/sklearn/neural_network/_multilayer_perceptron.py:691: ConvergenceWarning: Stochastic Optimizer: Maximum iterations (200) reached and the optimization hasn't converged yet.\n",
      "  warnings.warn(\n",
      "/home/qstaudinger/.conda/envs/collusion_ml/lib/python3.10/site-packages/sklearn/neural_network/_multilayer_perceptron.py:691: ConvergenceWarning: Stochastic Optimizer: Maximum iterations (200) reached and the optimization hasn't converged yet.\n",
      "  warnings.warn(\n",
      "/home/qstaudinger/.conda/envs/collusion_ml/lib/python3.10/site-packages/sklearn/neural_network/_multilayer_perceptron.py:691: ConvergenceWarning: Stochastic Optimizer: Maximum iterations (200) reached and the optimization hasn't converged yet.\n",
      "  warnings.warn(\n",
      "/home/qstaudinger/.conda/envs/collusion_ml/lib/python3.10/site-packages/sklearn/neural_network/_multilayer_perceptron.py:691: ConvergenceWarning: Stochastic Optimizer: Maximum iterations (200) reached and the optimization hasn't converged yet.\n",
      "  warnings.warn(\n",
      "/home/qstaudinger/.conda/envs/collusion_ml/lib/python3.10/site-packages/sklearn/neural_network/_multilayer_perceptron.py:691: ConvergenceWarning: Stochastic Optimizer: Maximum iterations (200) reached and the optimization hasn't converged yet.\n",
      "  warnings.warn(\n",
      "/home/qstaudinger/.conda/envs/collusion_ml/lib/python3.10/site-packages/sklearn/neural_network/_multilayer_perceptron.py:691: ConvergenceWarning: Stochastic Optimizer: Maximum iterations (200) reached and the optimization hasn't converged yet.\n",
      "  warnings.warn(\n",
      "/home/qstaudinger/.conda/envs/collusion_ml/lib/python3.10/site-packages/sklearn/neural_network/_multilayer_perceptron.py:691: ConvergenceWarning: Stochastic Optimizer: Maximum iterations (200) reached and the optimization hasn't converged yet.\n",
      "  warnings.warn(\n",
      "/home/qstaudinger/.conda/envs/collusion_ml/lib/python3.10/site-packages/sklearn/neural_network/_multilayer_perceptron.py:691: ConvergenceWarning: Stochastic Optimizer: Maximum iterations (200) reached and the optimization hasn't converged yet.\n",
      "  warnings.warn(\n",
      "/home/qstaudinger/.conda/envs/collusion_ml/lib/python3.10/site-packages/sklearn/neural_network/_multilayer_perceptron.py:691: ConvergenceWarning: Stochastic Optimizer: Maximum iterations (200) reached and the optimization hasn't converged yet.\n",
      "  warnings.warn(\n",
      "/home/qstaudinger/.conda/envs/collusion_ml/lib/python3.10/site-packages/sklearn/neural_network/_multilayer_perceptron.py:691: ConvergenceWarning: Stochastic Optimizer: Maximum iterations (200) reached and the optimization hasn't converged yet.\n",
      "  warnings.warn(\n",
      "/home/qstaudinger/.conda/envs/collusion_ml/lib/python3.10/site-packages/sklearn/neural_network/_multilayer_perceptron.py:691: ConvergenceWarning: Stochastic Optimizer: Maximum iterations (200) reached and the optimization hasn't converged yet.\n",
      "  warnings.warn(\n",
      "/home/qstaudinger/.conda/envs/collusion_ml/lib/python3.10/site-packages/sklearn/neural_network/_multilayer_perceptron.py:691: ConvergenceWarning: Stochastic Optimizer: Maximum iterations (200) reached and the optimization hasn't converged yet.\n",
      "  warnings.warn(\n",
      "/home/qstaudinger/.conda/envs/collusion_ml/lib/python3.10/site-packages/sklearn/neural_network/_multilayer_perceptron.py:691: ConvergenceWarning: Stochastic Optimizer: Maximum iterations (200) reached and the optimization hasn't converged yet.\n",
      "  warnings.warn(\n",
      "/home/qstaudinger/.conda/envs/collusion_ml/lib/python3.10/site-packages/sklearn/neural_network/_multilayer_perceptron.py:691: ConvergenceWarning: Stochastic Optimizer: Maximum iterations (200) reached and the optimization hasn't converged yet.\n",
      "  warnings.warn(\n",
      "/home/qstaudinger/.conda/envs/collusion_ml/lib/python3.10/site-packages/sklearn/neural_network/_multilayer_perceptron.py:691: ConvergenceWarning: Stochastic Optimizer: Maximum iterations (200) reached and the optimization hasn't converged yet.\n",
      "  warnings.warn(\n",
      "/home/qstaudinger/.conda/envs/collusion_ml/lib/python3.10/site-packages/sklearn/neural_network/_multilayer_perceptron.py:691: ConvergenceWarning: Stochastic Optimizer: Maximum iterations (200) reached and the optimization hasn't converged yet.\n",
      "  warnings.warn(\n",
      "/home/qstaudinger/.conda/envs/collusion_ml/lib/python3.10/site-packages/sklearn/neural_network/_multilayer_perceptron.py:691: ConvergenceWarning: Stochastic Optimizer: Maximum iterations (200) reached and the optimization hasn't converged yet.\n",
      "  warnings.warn(\n",
      "/home/qstaudinger/.conda/envs/collusion_ml/lib/python3.10/site-packages/sklearn/neural_network/_multilayer_perceptron.py:691: ConvergenceWarning: Stochastic Optimizer: Maximum iterations (200) reached and the optimization hasn't converged yet.\n",
      "  warnings.warn(\n",
      "/home/qstaudinger/.conda/envs/collusion_ml/lib/python3.10/site-packages/sklearn/neural_network/_multilayer_perceptron.py:691: ConvergenceWarning: Stochastic Optimizer: Maximum iterations (200) reached and the optimization hasn't converged yet.\n",
      "  warnings.warn(\n",
      "/home/qstaudinger/.conda/envs/collusion_ml/lib/python3.10/site-packages/sklearn/neural_network/_multilayer_perceptron.py:691: ConvergenceWarning: Stochastic Optimizer: Maximum iterations (200) reached and the optimization hasn't converged yet.\n",
      "  warnings.warn(\n",
      "/home/qstaudinger/.conda/envs/collusion_ml/lib/python3.10/site-packages/sklearn/neural_network/_multilayer_perceptron.py:691: ConvergenceWarning: Stochastic Optimizer: Maximum iterations (200) reached and the optimization hasn't converged yet.\n",
      "  warnings.warn(\n",
      "/home/qstaudinger/.conda/envs/collusion_ml/lib/python3.10/site-packages/sklearn/neural_network/_multilayer_perceptron.py:691: ConvergenceWarning: Stochastic Optimizer: Maximum iterations (200) reached and the optimization hasn't converged yet.\n",
      "  warnings.warn(\n",
      "/home/qstaudinger/.conda/envs/collusion_ml/lib/python3.10/site-packages/sklearn/neural_network/_multilayer_perceptron.py:691: ConvergenceWarning: Stochastic Optimizer: Maximum iterations (200) reached and the optimization hasn't converged yet.\n",
      "  warnings.warn(\n",
      "/home/qstaudinger/.conda/envs/collusion_ml/lib/python3.10/site-packages/sklearn/neural_network/_multilayer_perceptron.py:691: ConvergenceWarning: Stochastic Optimizer: Maximum iterations (200) reached and the optimization hasn't converged yet.\n",
      "  warnings.warn(\n",
      "/home/qstaudinger/.conda/envs/collusion_ml/lib/python3.10/site-packages/sklearn/neural_network/_multilayer_perceptron.py:691: ConvergenceWarning: Stochastic Optimizer: Maximum iterations (200) reached and the optimization hasn't converged yet.\n",
      "  warnings.warn(\n",
      "/home/qstaudinger/.conda/envs/collusion_ml/lib/python3.10/site-packages/sklearn/neural_network/_multilayer_perceptron.py:691: ConvergenceWarning: Stochastic Optimizer: Maximum iterations (200) reached and the optimization hasn't converged yet.\n",
      "  warnings.warn(\n",
      "/home/qstaudinger/.conda/envs/collusion_ml/lib/python3.10/site-packages/sklearn/neural_network/_multilayer_perceptron.py:691: ConvergenceWarning: Stochastic Optimizer: Maximum iterations (200) reached and the optimization hasn't converged yet.\n",
      "  warnings.warn(\n",
      "/home/qstaudinger/.conda/envs/collusion_ml/lib/python3.10/site-packages/sklearn/neural_network/_multilayer_perceptron.py:691: ConvergenceWarning: Stochastic Optimizer: Maximum iterations (200) reached and the optimization hasn't converged yet.\n",
      "  warnings.warn(\n",
      "/home/qstaudinger/.conda/envs/collusion_ml/lib/python3.10/site-packages/sklearn/neural_network/_multilayer_perceptron.py:691: ConvergenceWarning: Stochastic Optimizer: Maximum iterations (200) reached and the optimization hasn't converged yet.\n",
      "  warnings.warn(\n",
      "/home/qstaudinger/.conda/envs/collusion_ml/lib/python3.10/site-packages/sklearn/neural_network/_multilayer_perceptron.py:691: ConvergenceWarning: Stochastic Optimizer: Maximum iterations (200) reached and the optimization hasn't converged yet.\n",
      "  warnings.warn(\n",
      "/home/qstaudinger/.conda/envs/collusion_ml/lib/python3.10/site-packages/sklearn/neural_network/_multilayer_perceptron.py:691: ConvergenceWarning: Stochastic Optimizer: Maximum iterations (200) reached and the optimization hasn't converged yet.\n",
      "  warnings.warn(\n",
      "/home/qstaudinger/.conda/envs/collusion_ml/lib/python3.10/site-packages/sklearn/neural_network/_multilayer_perceptron.py:691: ConvergenceWarning: Stochastic Optimizer: Maximum iterations (200) reached and the optimization hasn't converged yet.\n",
      "  warnings.warn(\n",
      "/home/qstaudinger/.conda/envs/collusion_ml/lib/python3.10/site-packages/sklearn/neural_network/_multilayer_perceptron.py:691: ConvergenceWarning: Stochastic Optimizer: Maximum iterations (200) reached and the optimization hasn't converged yet.\n",
      "  warnings.warn(\n",
      "/home/qstaudinger/.conda/envs/collusion_ml/lib/python3.10/site-packages/sklearn/neural_network/_multilayer_perceptron.py:691: ConvergenceWarning: Stochastic Optimizer: Maximum iterations (200) reached and the optimization hasn't converged yet.\n",
      "  warnings.warn(\n",
      "/home/qstaudinger/.conda/envs/collusion_ml/lib/python3.10/site-packages/sklearn/neural_network/_multilayer_perceptron.py:691: ConvergenceWarning: Stochastic Optimizer: Maximum iterations (200) reached and the optimization hasn't converged yet.\n",
      "  warnings.warn(\n",
      "/home/qstaudinger/.conda/envs/collusion_ml/lib/python3.10/site-packages/sklearn/neural_network/_multilayer_perceptron.py:691: ConvergenceWarning: Stochastic Optimizer: Maximum iterations (200) reached and the optimization hasn't converged yet.\n",
      "  warnings.warn(\n",
      "/home/qstaudinger/.conda/envs/collusion_ml/lib/python3.10/site-packages/sklearn/neural_network/_multilayer_perceptron.py:691: ConvergenceWarning: Stochastic Optimizer: Maximum iterations (200) reached and the optimization hasn't converged yet.\n",
      "  warnings.warn(\n",
      "/home/qstaudinger/.conda/envs/collusion_ml/lib/python3.10/site-packages/sklearn/neural_network/_multilayer_perceptron.py:691: ConvergenceWarning: Stochastic Optimizer: Maximum iterations (200) reached and the optimization hasn't converged yet.\n",
      "  warnings.warn(\n",
      "/home/qstaudinger/.conda/envs/collusion_ml/lib/python3.10/site-packages/sklearn/neural_network/_multilayer_perceptron.py:691: ConvergenceWarning: Stochastic Optimizer: Maximum iterations (200) reached and the optimization hasn't converged yet.\n",
      "  warnings.warn(\n",
      "/home/qstaudinger/.conda/envs/collusion_ml/lib/python3.10/site-packages/sklearn/neural_network/_multilayer_perceptron.py:691: ConvergenceWarning: Stochastic Optimizer: Maximum iterations (200) reached and the optimization hasn't converged yet.\n",
      "  warnings.warn(\n",
      "/home/qstaudinger/.conda/envs/collusion_ml/lib/python3.10/site-packages/sklearn/neural_network/_multilayer_perceptron.py:691: ConvergenceWarning: Stochastic Optimizer: Maximum iterations (200) reached and the optimization hasn't converged yet.\n",
      "  warnings.warn(\n",
      "/home/qstaudinger/.conda/envs/collusion_ml/lib/python3.10/site-packages/sklearn/neural_network/_multilayer_perceptron.py:691: ConvergenceWarning: Stochastic Optimizer: Maximum iterations (200) reached and the optimization hasn't converged yet.\n",
      "  warnings.warn(\n",
      "/home/qstaudinger/.conda/envs/collusion_ml/lib/python3.10/site-packages/sklearn/neural_network/_multilayer_perceptron.py:691: ConvergenceWarning: Stochastic Optimizer: Maximum iterations (200) reached and the optimization hasn't converged yet.\n",
      "  warnings.warn(\n",
      "/home/qstaudinger/.conda/envs/collusion_ml/lib/python3.10/site-packages/sklearn/neural_network/_multilayer_perceptron.py:691: ConvergenceWarning: Stochastic Optimizer: Maximum iterations (200) reached and the optimization hasn't converged yet.\n",
      "  warnings.warn(\n",
      "/home/qstaudinger/.conda/envs/collusion_ml/lib/python3.10/site-packages/sklearn/neural_network/_multilayer_perceptron.py:691: ConvergenceWarning: Stochastic Optimizer: Maximum iterations (200) reached and the optimization hasn't converged yet.\n",
      "  warnings.warn(\n",
      "/home/qstaudinger/.conda/envs/collusion_ml/lib/python3.10/site-packages/sklearn/neural_network/_multilayer_perceptron.py:691: ConvergenceWarning: Stochastic Optimizer: Maximum iterations (200) reached and the optimization hasn't converged yet.\n",
      "  warnings.warn(\n",
      "/home/qstaudinger/.conda/envs/collusion_ml/lib/python3.10/site-packages/sklearn/neural_network/_multilayer_perceptron.py:691: ConvergenceWarning: Stochastic Optimizer: Maximum iterations (200) reached and the optimization hasn't converged yet.\n",
      "  warnings.warn(\n",
      "/home/qstaudinger/.conda/envs/collusion_ml/lib/python3.10/site-packages/sklearn/neural_network/_multilayer_perceptron.py:691: ConvergenceWarning: Stochastic Optimizer: Maximum iterations (200) reached and the optimization hasn't converged yet.\n",
      "  warnings.warn(\n",
      "/home/qstaudinger/.conda/envs/collusion_ml/lib/python3.10/site-packages/sklearn/neural_network/_multilayer_perceptron.py:691: ConvergenceWarning: Stochastic Optimizer: Maximum iterations (200) reached and the optimization hasn't converged yet.\n",
      "  warnings.warn(\n",
      "/home/qstaudinger/.conda/envs/collusion_ml/lib/python3.10/site-packages/sklearn/neural_network/_multilayer_perceptron.py:691: ConvergenceWarning: Stochastic Optimizer: Maximum iterations (200) reached and the optimization hasn't converged yet.\n",
      "  warnings.warn(\n",
      "/home/qstaudinger/.conda/envs/collusion_ml/lib/python3.10/site-packages/sklearn/neural_network/_multilayer_perceptron.py:691: ConvergenceWarning: Stochastic Optimizer: Maximum iterations (200) reached and the optimization hasn't converged yet.\n",
      "  warnings.warn(\n",
      "/home/qstaudinger/.conda/envs/collusion_ml/lib/python3.10/site-packages/sklearn/neural_network/_multilayer_perceptron.py:691: ConvergenceWarning: Stochastic Optimizer: Maximum iterations (200) reached and the optimization hasn't converged yet.\n",
      "  warnings.warn(\n",
      "/home/qstaudinger/.conda/envs/collusion_ml/lib/python3.10/site-packages/sklearn/neural_network/_multilayer_perceptron.py:691: ConvergenceWarning: Stochastic Optimizer: Maximum iterations (200) reached and the optimization hasn't converged yet.\n",
      "  warnings.warn(\n",
      "/home/qstaudinger/.conda/envs/collusion_ml/lib/python3.10/site-packages/sklearn/neural_network/_multilayer_perceptron.py:691: ConvergenceWarning: Stochastic Optimizer: Maximum iterations (200) reached and the optimization hasn't converged yet.\n",
      "  warnings.warn(\n",
      "/home/qstaudinger/.conda/envs/collusion_ml/lib/python3.10/site-packages/sklearn/neural_network/_multilayer_perceptron.py:691: ConvergenceWarning: Stochastic Optimizer: Maximum iterations (200) reached and the optimization hasn't converged yet.\n",
      "  warnings.warn(\n",
      "/home/qstaudinger/.conda/envs/collusion_ml/lib/python3.10/site-packages/sklearn/neural_network/_multilayer_perceptron.py:691: ConvergenceWarning: Stochastic Optimizer: Maximum iterations (200) reached and the optimization hasn't converged yet.\n",
      "  warnings.warn(\n",
      "/home/qstaudinger/.conda/envs/collusion_ml/lib/python3.10/site-packages/sklearn/neural_network/_multilayer_perceptron.py:691: ConvergenceWarning: Stochastic Optimizer: Maximum iterations (200) reached and the optimization hasn't converged yet.\n",
      "  warnings.warn(\n",
      "/home/qstaudinger/.conda/envs/collusion_ml/lib/python3.10/site-packages/sklearn/neural_network/_multilayer_perceptron.py:691: ConvergenceWarning: Stochastic Optimizer: Maximum iterations (200) reached and the optimization hasn't converged yet.\n",
      "  warnings.warn(\n",
      "/home/qstaudinger/.conda/envs/collusion_ml/lib/python3.10/site-packages/sklearn/neural_network/_multilayer_perceptron.py:691: ConvergenceWarning: Stochastic Optimizer: Maximum iterations (200) reached and the optimization hasn't converged yet.\n",
      "  warnings.warn(\n",
      "/home/qstaudinger/.conda/envs/collusion_ml/lib/python3.10/site-packages/sklearn/neural_network/_multilayer_perceptron.py:691: ConvergenceWarning: Stochastic Optimizer: Maximum iterations (200) reached and the optimization hasn't converged yet.\n",
      "  warnings.warn(\n",
      "/home/qstaudinger/.conda/envs/collusion_ml/lib/python3.10/site-packages/sklearn/neural_network/_multilayer_perceptron.py:691: ConvergenceWarning: Stochastic Optimizer: Maximum iterations (200) reached and the optimization hasn't converged yet.\n",
      "  warnings.warn(\n",
      "/home/qstaudinger/.conda/envs/collusion_ml/lib/python3.10/site-packages/sklearn/neural_network/_multilayer_perceptron.py:691: ConvergenceWarning: Stochastic Optimizer: Maximum iterations (200) reached and the optimization hasn't converged yet.\n",
      "  warnings.warn(\n",
      "/home/qstaudinger/.conda/envs/collusion_ml/lib/python3.10/site-packages/sklearn/neural_network/_multilayer_perceptron.py:691: ConvergenceWarning: Stochastic Optimizer: Maximum iterations (200) reached and the optimization hasn't converged yet.\n",
      "  warnings.warn(\n",
      "/home/qstaudinger/.conda/envs/collusion_ml/lib/python3.10/site-packages/sklearn/neural_network/_multilayer_perceptron.py:691: ConvergenceWarning: Stochastic Optimizer: Maximum iterations (200) reached and the optimization hasn't converged yet.\n",
      "  warnings.warn(\n",
      "/home/qstaudinger/.conda/envs/collusion_ml/lib/python3.10/site-packages/sklearn/neural_network/_multilayer_perceptron.py:691: ConvergenceWarning: Stochastic Optimizer: Maximum iterations (200) reached and the optimization hasn't converged yet.\n",
      "  warnings.warn(\n",
      "/home/qstaudinger/.conda/envs/collusion_ml/lib/python3.10/site-packages/sklearn/neural_network/_multilayer_perceptron.py:691: ConvergenceWarning: Stochastic Optimizer: Maximum iterations (200) reached and the optimization hasn't converged yet.\n",
      "  warnings.warn(\n",
      "/home/qstaudinger/.conda/envs/collusion_ml/lib/python3.10/site-packages/sklearn/neural_network/_multilayer_perceptron.py:691: ConvergenceWarning: Stochastic Optimizer: Maximum iterations (200) reached and the optimization hasn't converged yet.\n",
      "  warnings.warn(\n",
      "/home/qstaudinger/.conda/envs/collusion_ml/lib/python3.10/site-packages/sklearn/neural_network/_multilayer_perceptron.py:691: ConvergenceWarning: Stochastic Optimizer: Maximum iterations (200) reached and the optimization hasn't converged yet.\n",
      "  warnings.warn(\n",
      "/home/qstaudinger/.conda/envs/collusion_ml/lib/python3.10/site-packages/sklearn/neural_network/_multilayer_perceptron.py:691: ConvergenceWarning: Stochastic Optimizer: Maximum iterations (200) reached and the optimization hasn't converged yet.\n",
      "  warnings.warn(\n",
      "/home/qstaudinger/.conda/envs/collusion_ml/lib/python3.10/site-packages/sklearn/neural_network/_multilayer_perceptron.py:691: ConvergenceWarning: Stochastic Optimizer: Maximum iterations (200) reached and the optimization hasn't converged yet.\n",
      "  warnings.warn(\n",
      "/home/qstaudinger/.conda/envs/collusion_ml/lib/python3.10/site-packages/sklearn/neural_network/_multilayer_perceptron.py:691: ConvergenceWarning: Stochastic Optimizer: Maximum iterations (200) reached and the optimization hasn't converged yet.\n",
      "  warnings.warn(\n",
      "/home/qstaudinger/.conda/envs/collusion_ml/lib/python3.10/site-packages/sklearn/neural_network/_multilayer_perceptron.py:691: ConvergenceWarning: Stochastic Optimizer: Maximum iterations (200) reached and the optimization hasn't converged yet.\n",
      "  warnings.warn(\n",
      "/home/qstaudinger/.conda/envs/collusion_ml/lib/python3.10/site-packages/sklearn/neural_network/_multilayer_perceptron.py:691: ConvergenceWarning: Stochastic Optimizer: Maximum iterations (200) reached and the optimization hasn't converged yet.\n",
      "  warnings.warn(\n",
      "/home/qstaudinger/.conda/envs/collusion_ml/lib/python3.10/site-packages/sklearn/neural_network/_multilayer_perceptron.py:691: ConvergenceWarning: Stochastic Optimizer: Maximum iterations (200) reached and the optimization hasn't converged yet.\n",
      "  warnings.warn(\n",
      "/home/qstaudinger/.conda/envs/collusion_ml/lib/python3.10/site-packages/sklearn/neural_network/_multilayer_perceptron.py:691: ConvergenceWarning: Stochastic Optimizer: Maximum iterations (200) reached and the optimization hasn't converged yet.\n",
      "  warnings.warn(\n",
      "/home/qstaudinger/.conda/envs/collusion_ml/lib/python3.10/site-packages/sklearn/neural_network/_multilayer_perceptron.py:691: ConvergenceWarning: Stochastic Optimizer: Maximum iterations (200) reached and the optimization hasn't converged yet.\n",
      "  warnings.warn(\n",
      "/home/qstaudinger/.conda/envs/collusion_ml/lib/python3.10/site-packages/sklearn/neural_network/_multilayer_perceptron.py:691: ConvergenceWarning: Stochastic Optimizer: Maximum iterations (200) reached and the optimization hasn't converged yet.\n",
      "  warnings.warn(\n",
      "/home/qstaudinger/.conda/envs/collusion_ml/lib/python3.10/site-packages/sklearn/neural_network/_multilayer_perceptron.py:691: ConvergenceWarning: Stochastic Optimizer: Maximum iterations (200) reached and the optimization hasn't converged yet.\n",
      "  warnings.warn(\n",
      "/home/qstaudinger/.conda/envs/collusion_ml/lib/python3.10/site-packages/sklearn/neural_network/_multilayer_perceptron.py:691: ConvergenceWarning: Stochastic Optimizer: Maximum iterations (200) reached and the optimization hasn't converged yet.\n",
      "  warnings.warn(\n",
      "/home/qstaudinger/.conda/envs/collusion_ml/lib/python3.10/site-packages/sklearn/neural_network/_multilayer_perceptron.py:691: ConvergenceWarning: Stochastic Optimizer: Maximum iterations (200) reached and the optimization hasn't converged yet.\n",
      "  warnings.warn(\n",
      "/home/qstaudinger/.conda/envs/collusion_ml/lib/python3.10/site-packages/sklearn/neural_network/_multilayer_perceptron.py:691: ConvergenceWarning: Stochastic Optimizer: Maximum iterations (200) reached and the optimization hasn't converged yet.\n",
      "  warnings.warn(\n",
      "/home/qstaudinger/.conda/envs/collusion_ml/lib/python3.10/site-packages/sklearn/neural_network/_multilayer_perceptron.py:691: ConvergenceWarning: Stochastic Optimizer: Maximum iterations (200) reached and the optimization hasn't converged yet.\n",
      "  warnings.warn(\n",
      "/home/qstaudinger/.conda/envs/collusion_ml/lib/python3.10/site-packages/sklearn/neural_network/_multilayer_perceptron.py:691: ConvergenceWarning: Stochastic Optimizer: Maximum iterations (200) reached and the optimization hasn't converged yet.\n",
      "  warnings.warn(\n",
      "/home/qstaudinger/.conda/envs/collusion_ml/lib/python3.10/site-packages/sklearn/neural_network/_multilayer_perceptron.py:691: ConvergenceWarning: Stochastic Optimizer: Maximum iterations (200) reached and the optimization hasn't converged yet.\n",
      "  warnings.warn(\n",
      "/home/qstaudinger/.conda/envs/collusion_ml/lib/python3.10/site-packages/sklearn/neural_network/_multilayer_perceptron.py:691: ConvergenceWarning: Stochastic Optimizer: Maximum iterations (200) reached and the optimization hasn't converged yet.\n",
      "  warnings.warn(\n",
      "/home/qstaudinger/.conda/envs/collusion_ml/lib/python3.10/site-packages/sklearn/neural_network/_multilayer_perceptron.py:691: ConvergenceWarning: Stochastic Optimizer: Maximum iterations (200) reached and the optimization hasn't converged yet.\n",
      "  warnings.warn(\n",
      "/home/qstaudinger/.conda/envs/collusion_ml/lib/python3.10/site-packages/sklearn/neural_network/_multilayer_perceptron.py:691: ConvergenceWarning: Stochastic Optimizer: Maximum iterations (200) reached and the optimization hasn't converged yet.\n",
      "  warnings.warn(\n",
      "/home/qstaudinger/.conda/envs/collusion_ml/lib/python3.10/site-packages/sklearn/neural_network/_multilayer_perceptron.py:691: ConvergenceWarning: Stochastic Optimizer: Maximum iterations (200) reached and the optimization hasn't converged yet.\n",
      "  warnings.warn(\n",
      "/home/qstaudinger/.conda/envs/collusion_ml/lib/python3.10/site-packages/sklearn/neural_network/_multilayer_perceptron.py:691: ConvergenceWarning: Stochastic Optimizer: Maximum iterations (200) reached and the optimization hasn't converged yet.\n",
      "  warnings.warn(\n",
      "/home/qstaudinger/.conda/envs/collusion_ml/lib/python3.10/site-packages/sklearn/neural_network/_multilayer_perceptron.py:691: ConvergenceWarning: Stochastic Optimizer: Maximum iterations (200) reached and the optimization hasn't converged yet.\n",
      "  warnings.warn(\n",
      "/home/qstaudinger/.conda/envs/collusion_ml/lib/python3.10/site-packages/sklearn/neural_network/_multilayer_perceptron.py:691: ConvergenceWarning: Stochastic Optimizer: Maximum iterations (200) reached and the optimization hasn't converged yet.\n",
      "  warnings.warn(\n",
      "/home/qstaudinger/.conda/envs/collusion_ml/lib/python3.10/site-packages/sklearn/neural_network/_multilayer_perceptron.py:691: ConvergenceWarning: Stochastic Optimizer: Maximum iterations (200) reached and the optimization hasn't converged yet.\n",
      "  warnings.warn(\n",
      "/home/qstaudinger/.conda/envs/collusion_ml/lib/python3.10/site-packages/sklearn/neural_network/_multilayer_perceptron.py:691: ConvergenceWarning: Stochastic Optimizer: Maximum iterations (200) reached and the optimization hasn't converged yet.\n",
      "  warnings.warn(\n",
      "/home/qstaudinger/.conda/envs/collusion_ml/lib/python3.10/site-packages/sklearn/neural_network/_multilayer_perceptron.py:691: ConvergenceWarning: Stochastic Optimizer: Maximum iterations (200) reached and the optimization hasn't converged yet.\n",
      "  warnings.warn(\n",
      "/home/qstaudinger/.conda/envs/collusion_ml/lib/python3.10/site-packages/sklearn/neural_network/_multilayer_perceptron.py:691: ConvergenceWarning: Stochastic Optimizer: Maximum iterations (200) reached and the optimization hasn't converged yet.\n",
      "  warnings.warn(\n",
      "/home/qstaudinger/.conda/envs/collusion_ml/lib/python3.10/site-packages/sklearn/neural_network/_multilayer_perceptron.py:691: ConvergenceWarning: Stochastic Optimizer: Maximum iterations (200) reached and the optimization hasn't converged yet.\n",
      "  warnings.warn(\n",
      "/home/qstaudinger/.conda/envs/collusion_ml/lib/python3.10/site-packages/sklearn/neural_network/_multilayer_perceptron.py:691: ConvergenceWarning: Stochastic Optimizer: Maximum iterations (200) reached and the optimization hasn't converged yet.\n",
      "  warnings.warn(\n",
      "/home/qstaudinger/.conda/envs/collusion_ml/lib/python3.10/site-packages/sklearn/neural_network/_multilayer_perceptron.py:691: ConvergenceWarning: Stochastic Optimizer: Maximum iterations (200) reached and the optimization hasn't converged yet.\n",
      "  warnings.warn(\n",
      "/home/qstaudinger/.conda/envs/collusion_ml/lib/python3.10/site-packages/sklearn/neural_network/_multilayer_perceptron.py:691: ConvergenceWarning: Stochastic Optimizer: Maximum iterations (200) reached and the optimization hasn't converged yet.\n",
      "  warnings.warn(\n",
      "/home/qstaudinger/.conda/envs/collusion_ml/lib/python3.10/site-packages/sklearn/neural_network/_multilayer_perceptron.py:691: ConvergenceWarning: Stochastic Optimizer: Maximum iterations (200) reached and the optimization hasn't converged yet.\n",
      "  warnings.warn(\n",
      "/home/qstaudinger/.conda/envs/collusion_ml/lib/python3.10/site-packages/sklearn/neural_network/_multilayer_perceptron.py:691: ConvergenceWarning: Stochastic Optimizer: Maximum iterations (200) reached and the optimization hasn't converged yet.\n",
      "  warnings.warn(\n",
      "/home/qstaudinger/.conda/envs/collusion_ml/lib/python3.10/site-packages/sklearn/neural_network/_multilayer_perceptron.py:691: ConvergenceWarning: Stochastic Optimizer: Maximum iterations (200) reached and the optimization hasn't converged yet.\n",
      "  warnings.warn(\n",
      "/home/qstaudinger/.conda/envs/collusion_ml/lib/python3.10/site-packages/sklearn/neural_network/_multilayer_perceptron.py:691: ConvergenceWarning: Stochastic Optimizer: Maximum iterations (200) reached and the optimization hasn't converged yet.\n",
      "  warnings.warn(\n",
      "/home/qstaudinger/.conda/envs/collusion_ml/lib/python3.10/site-packages/sklearn/neural_network/_multilayer_perceptron.py:691: ConvergenceWarning: Stochastic Optimizer: Maximum iterations (200) reached and the optimization hasn't converged yet.\n",
      "  warnings.warn(\n"
     ]
    },
    {
     "name": "stdout",
     "output_type": "stream",
     "text": [
      "  - Best hyperparameter: {'MLP__hidden_layer_sizes': 1, 'MLP__random_state': 23}\n",
      "  - Best F1 score: 0.866\n",
      "Trying Logistic ...\n",
      "  - Best hyperparameter: {'Logistic__C': np.float64(59.94842503189409), 'Logistic__random_state': 23}\n",
      "  - Best F1 score: 0.863\n",
      "Trying SVM ...\n",
      "  - Best hyperparameter: {'SVM__C': np.float64(1.0), 'SVM__gamma': np.float64(5.994842503189409), 'SVM__kernel': 'rbf', 'SVM__random_state': 23}\n",
      "  - Best F1 score: 0.867\n"
     ]
    }
   ],
   "source": [
    "X,y,_ = prepare_data(data_names)\n",
    "results, full_results = evaluate_models(X, y, conf_ML, SEED = SEED)\n",
    "results.to_json(\"MLresults/MLreanalysis/exp7_nbids_comp.json\")\n",
    "full_results.to_json(\"MLresults/MLreanalysis/exp7_nbids_fullresults_comp.json\")"
   ]
  },
  {
   "cell_type": "code",
   "execution_count": 151,
   "id": "dd62b477-cb83-4074-bb5e-7fcf86204d77",
   "metadata": {
    "tags": []
   },
   "outputs": [
    {
     "data": {
      "text/html": [
       "<div>\n",
       "<style scoped>\n",
       "    .dataframe tbody tr th:only-of-type {\n",
       "        vertical-align: middle;\n",
       "    }\n",
       "\n",
       "    .dataframe tbody tr th {\n",
       "        vertical-align: top;\n",
       "    }\n",
       "\n",
       "    .dataframe thead th {\n",
       "        text-align: right;\n",
       "    }\n",
       "</style>\n",
       "<table border=\"1\" class=\"dataframe\">\n",
       "  <thead>\n",
       "    <tr style=\"text-align: right;\">\n",
       "      <th></th>\n",
       "      <th>algorithm</th>\n",
       "      <th>train_f1</th>\n",
       "      <th>test_f1</th>\n",
       "      <th>train_precision</th>\n",
       "      <th>test_precision</th>\n",
       "      <th>train_recall</th>\n",
       "      <th>test_recall</th>\n",
       "      <th>train_accuracy</th>\n",
       "      <th>test_accuracy</th>\n",
       "      <th>params</th>\n",
       "    </tr>\n",
       "  </thead>\n",
       "  <tbody>\n",
       "    <tr>\n",
       "      <th>0</th>\n",
       "      <td>Dummy</td>\n",
       "      <td>0.764</td>\n",
       "      <td>0.753</td>\n",
       "      <td>0.762</td>\n",
       "      <td>0.755</td>\n",
       "      <td>0.766</td>\n",
       "      <td>0.752</td>\n",
       "      <td>0.638</td>\n",
       "      <td>0.624</td>\n",
       "      <td>{'Dummy__random_state': 23, 'Dummy__strategy':...</td>\n",
       "    </tr>\n",
       "    <tr>\n",
       "      <th>1</th>\n",
       "      <td>Tree</td>\n",
       "      <td>0.866</td>\n",
       "      <td>0.866</td>\n",
       "      <td>0.764</td>\n",
       "      <td>0.764</td>\n",
       "      <td>1.000</td>\n",
       "      <td>1.000</td>\n",
       "      <td>0.764</td>\n",
       "      <td>0.764</td>\n",
       "      <td>{'Tree__max_depth': 1, 'Tree__random_state': 23}</td>\n",
       "    </tr>\n",
       "    <tr>\n",
       "      <th>2</th>\n",
       "      <td>Forest</td>\n",
       "      <td>0.883</td>\n",
       "      <td>0.870</td>\n",
       "      <td>0.794</td>\n",
       "      <td>0.780</td>\n",
       "      <td>0.994</td>\n",
       "      <td>0.986</td>\n",
       "      <td>0.799</td>\n",
       "      <td>0.776</td>\n",
       "      <td>{'Forest__max_depth': 5, 'Forest__random_state...</td>\n",
       "    </tr>\n",
       "    <tr>\n",
       "      <th>3</th>\n",
       "      <td>GradientBoost</td>\n",
       "      <td>0.871</td>\n",
       "      <td>0.869</td>\n",
       "      <td>0.773</td>\n",
       "      <td>0.772</td>\n",
       "      <td>0.996</td>\n",
       "      <td>0.994</td>\n",
       "      <td>0.774</td>\n",
       "      <td>0.772</td>\n",
       "      <td>{'GradientBoost__max_depth': 1, 'GradientBoost...</td>\n",
       "    </tr>\n",
       "    <tr>\n",
       "      <th>4</th>\n",
       "      <td>MLP</td>\n",
       "      <td>0.866</td>\n",
       "      <td>0.866</td>\n",
       "      <td>0.764</td>\n",
       "      <td>0.764</td>\n",
       "      <td>1.000</td>\n",
       "      <td>1.000</td>\n",
       "      <td>0.764</td>\n",
       "      <td>0.764</td>\n",
       "      <td>{'MLP__hidden_layer_sizes': 1, 'MLP__random_st...</td>\n",
       "    </tr>\n",
       "    <tr>\n",
       "      <th>5</th>\n",
       "      <td>Logistic</td>\n",
       "      <td>0.864</td>\n",
       "      <td>0.863</td>\n",
       "      <td>0.767</td>\n",
       "      <td>0.766</td>\n",
       "      <td>0.989</td>\n",
       "      <td>0.989</td>\n",
       "      <td>0.762</td>\n",
       "      <td>0.761</td>\n",
       "      <td>{'Logistic__C': 59.94842503189409, 'Logistic__...</td>\n",
       "    </tr>\n",
       "    <tr>\n",
       "      <th>6</th>\n",
       "      <td>SVM</td>\n",
       "      <td>0.916</td>\n",
       "      <td>0.867</td>\n",
       "      <td>0.852</td>\n",
       "      <td>0.779</td>\n",
       "      <td>0.990</td>\n",
       "      <td>0.976</td>\n",
       "      <td>0.861</td>\n",
       "      <td>0.770</td>\n",
       "      <td>{'SVM__C': 1.0, 'SVM__gamma': 5.99484250318940...</td>\n",
       "    </tr>\n",
       "  </tbody>\n",
       "</table>\n",
       "</div>"
      ],
      "text/plain": [
       "       algorithm train_f1 test_f1 train_precision test_precision train_recall  \\\n",
       "0          Dummy    0.764   0.753           0.762          0.755        0.766   \n",
       "1           Tree    0.866   0.866           0.764          0.764        1.000   \n",
       "2         Forest    0.883   0.870           0.794          0.780        0.994   \n",
       "3  GradientBoost    0.871   0.869           0.773          0.772        0.996   \n",
       "4            MLP    0.866   0.866           0.764          0.764        1.000   \n",
       "5       Logistic    0.864   0.863           0.767          0.766        0.989   \n",
       "6            SVM    0.916   0.867           0.852          0.779        0.990   \n",
       "\n",
       "  test_recall train_accuracy test_accuracy  \\\n",
       "0       0.752          0.638         0.624   \n",
       "1       1.000          0.764         0.764   \n",
       "2       0.986          0.799         0.776   \n",
       "3       0.994          0.774         0.772   \n",
       "4       1.000          0.764         0.764   \n",
       "5       0.989          0.762         0.761   \n",
       "6       0.976          0.861         0.770   \n",
       "\n",
       "                                              params  \n",
       "0  {'Dummy__random_state': 23, 'Dummy__strategy':...  \n",
       "1   {'Tree__max_depth': 1, 'Tree__random_state': 23}  \n",
       "2  {'Forest__max_depth': 5, 'Forest__random_state...  \n",
       "3  {'GradientBoost__max_depth': 1, 'GradientBoost...  \n",
       "4  {'MLP__hidden_layer_sizes': 1, 'MLP__random_st...  \n",
       "5  {'Logistic__C': 59.94842503189409, 'Logistic__...  \n",
       "6  {'SVM__C': 1.0, 'SVM__gamma': 5.99484250318940...  "
      ]
     },
     "execution_count": 151,
     "metadata": {},
     "output_type": "execute_result"
    }
   ],
   "source": [
    "results"
   ]
  },
  {
   "cell_type": "code",
   "execution_count": 152,
   "id": "0dacce31-833c-4c80-92c4-56663b0a9366",
   "metadata": {
    "tags": []
   },
   "outputs": [
    {
     "name": "stdout",
     "output_type": "stream",
     "text": [
      "\\begin{tabular}{llllllllll}\n",
      "\\toprule\n",
      "algorithm & train_f1 & test_f1 & train_precision & test_precision & train_recall & test_recall & train_accuracy & test_accuracy & params \\\\\n",
      "\\midrule\n",
      "Dummy & 0.764 & 0.753 & 0.762 & 0.755 & 0.766 & 0.752 & 0.638 & 0.624 & {'Dummy__random_state': 23, 'Dummy__strategy': 'stratified'} \\\\\n",
      "Tree & 0.866 & 0.866 & 0.764 & 0.764 & 1.000 & 1.000 & 0.764 & 0.764 & {'Tree__max_depth': 1, 'Tree__random_state': 23} \\\\\n",
      "Forest & 0.883 & 0.870 & 0.794 & 0.780 & 0.994 & 0.986 & 0.799 & 0.776 & {'Forest__max_depth': 5, 'Forest__random_state': 23} \\\\\n",
      "GradientBoost & 0.871 & 0.869 & 0.773 & 0.772 & 0.996 & 0.994 & 0.774 & 0.772 & {'GradientBoost__max_depth': 1, 'GradientBoost__random_state': 23} \\\\\n",
      "MLP & 0.866 & 0.866 & 0.764 & 0.764 & 1.000 & 1.000 & 0.764 & 0.764 & {'MLP__hidden_layer_sizes': 1, 'MLP__random_state': 23} \\\\\n",
      "Logistic & 0.864 & 0.863 & 0.767 & 0.766 & 0.989 & 0.989 & 0.762 & 0.761 & {'Logistic__C': np.float64(59.94842503189409), 'Logistic__random_state': 23} \\\\\n",
      "SVM & 0.916 & 0.867 & 0.852 & 0.779 & 0.990 & 0.976 & 0.861 & 0.770 & {'SVM__C': np.float64(1.0), 'SVM__gamma': np.float64(5.994842503189409), 'SVM__kernel': 'rbf', 'SVM__random_state': 23} \\\\\n",
      "\\bottomrule\n",
      "\\end{tabular}\n",
      "\n"
     ]
    }
   ],
   "source": [
    "print(results.to_latex(index=False))  "
   ]
  },
  {
   "cell_type": "markdown",
   "id": "4a64721d-7ca5-459e-96cd-c2e5199c6592",
   "metadata": {
    "tags": []
   },
   "source": [
    "## Experiment 8 (Swiss[2]-Swiss[2]):"
   ]
  },
  {
   "cell_type": "markdown",
   "id": "aeaee217-c6d2-4447-943f-2b48d9fe2452",
   "metadata": {},
   "source": [
    "Swiss time period 2 for training, Swiss time period 2 for evaluation."
   ]
  },
  {
   "cell_type": "code",
   "execution_count": 153,
   "id": "cd846a07-edfd-4d11-84c1-3e964cb6407a",
   "metadata": {
    "tags": []
   },
   "outputs": [],
   "source": [
    "data_names = [\"swiss1\"]"
   ]
  },
  {
   "cell_type": "code",
   "execution_count": 154,
   "id": "1535f703-50c6-48ba-b7dc-ca06c81690ea",
   "metadata": {
    "scrolled": true,
    "tags": []
   },
   "outputs": [
    {
     "data": {
      "application/vnd.jupyter.widget-view+json": {
       "model_id": "82d547a5a1ed45d58d32fdafbb51e68e",
       "version_major": 2,
       "version_minor": 0
      },
      "text/plain": [
       "  0%|          | 0/1 [00:00<?, ?it/s]"
      ]
     },
     "metadata": {},
     "output_type": "display_data"
    },
    {
     "name": "stderr",
     "output_type": "stream",
     "text": [
      "/tmp/ipykernel_2236328/1521300152.py:44: RuntimeWarning: invalid value encountered in divide\n",
      "  df_grouped[\"Bid_value\"] = df_grouped.Bid_value.apply(lambda x: (np.asarray(x)-min(np.asarray(x)))/np.std(np.asarray(x)))\n"
     ]
    },
    {
     "name": "stdout",
     "output_type": "stream",
     "text": [
      "Trying Dummy ...\n",
      "  - Best hyperparameter: {'Dummy__random_state': 23, 'Dummy__strategy': 'stratified'}\n",
      "  - Best F1 score: 0.753\n",
      "Trying Tree ...\n",
      "  - Best hyperparameter: {'Tree__max_depth': 1, 'Tree__random_state': 23}\n",
      "  - Best F1 score: 0.866\n",
      "Trying Forest ...\n",
      "  - Best hyperparameter: {'Forest__max_depth': 5, 'Forest__random_state': 23}\n",
      "  - Best F1 score: 0.870\n",
      "Trying GradientBoost ...\n",
      "  - Best hyperparameter: {'GradientBoost__max_depth': 1, 'GradientBoost__random_state': 23}\n",
      "  - Best F1 score: 0.869\n",
      "Trying MLP ...\n"
     ]
    },
    {
     "name": "stderr",
     "output_type": "stream",
     "text": [
      "/home/qstaudinger/.conda/envs/collusion_ml/lib/python3.10/site-packages/sklearn/neural_network/_multilayer_perceptron.py:691: ConvergenceWarning: Stochastic Optimizer: Maximum iterations (200) reached and the optimization hasn't converged yet.\n",
      "  warnings.warn(\n",
      "/home/qstaudinger/.conda/envs/collusion_ml/lib/python3.10/site-packages/sklearn/neural_network/_multilayer_perceptron.py:691: ConvergenceWarning: Stochastic Optimizer: Maximum iterations (200) reached and the optimization hasn't converged yet.\n",
      "  warnings.warn(\n",
      "/home/qstaudinger/.conda/envs/collusion_ml/lib/python3.10/site-packages/sklearn/neural_network/_multilayer_perceptron.py:691: ConvergenceWarning: Stochastic Optimizer: Maximum iterations (200) reached and the optimization hasn't converged yet.\n",
      "  warnings.warn(\n",
      "/home/qstaudinger/.conda/envs/collusion_ml/lib/python3.10/site-packages/sklearn/neural_network/_multilayer_perceptron.py:691: ConvergenceWarning: Stochastic Optimizer: Maximum iterations (200) reached and the optimization hasn't converged yet.\n",
      "  warnings.warn(\n",
      "/home/qstaudinger/.conda/envs/collusion_ml/lib/python3.10/site-packages/sklearn/neural_network/_multilayer_perceptron.py:691: ConvergenceWarning: Stochastic Optimizer: Maximum iterations (200) reached and the optimization hasn't converged yet.\n",
      "  warnings.warn(\n",
      "/home/qstaudinger/.conda/envs/collusion_ml/lib/python3.10/site-packages/sklearn/neural_network/_multilayer_perceptron.py:691: ConvergenceWarning: Stochastic Optimizer: Maximum iterations (200) reached and the optimization hasn't converged yet.\n",
      "  warnings.warn(\n",
      "/home/qstaudinger/.conda/envs/collusion_ml/lib/python3.10/site-packages/sklearn/neural_network/_multilayer_perceptron.py:691: ConvergenceWarning: Stochastic Optimizer: Maximum iterations (200) reached and the optimization hasn't converged yet.\n",
      "  warnings.warn(\n",
      "/home/qstaudinger/.conda/envs/collusion_ml/lib/python3.10/site-packages/sklearn/neural_network/_multilayer_perceptron.py:691: ConvergenceWarning: Stochastic Optimizer: Maximum iterations (200) reached and the optimization hasn't converged yet.\n",
      "  warnings.warn(\n",
      "/home/qstaudinger/.conda/envs/collusion_ml/lib/python3.10/site-packages/sklearn/neural_network/_multilayer_perceptron.py:691: ConvergenceWarning: Stochastic Optimizer: Maximum iterations (200) reached and the optimization hasn't converged yet.\n",
      "  warnings.warn(\n",
      "/home/qstaudinger/.conda/envs/collusion_ml/lib/python3.10/site-packages/sklearn/neural_network/_multilayer_perceptron.py:691: ConvergenceWarning: Stochastic Optimizer: Maximum iterations (200) reached and the optimization hasn't converged yet.\n",
      "  warnings.warn(\n",
      "/home/qstaudinger/.conda/envs/collusion_ml/lib/python3.10/site-packages/sklearn/neural_network/_multilayer_perceptron.py:691: ConvergenceWarning: Stochastic Optimizer: Maximum iterations (200) reached and the optimization hasn't converged yet.\n",
      "  warnings.warn(\n",
      "/home/qstaudinger/.conda/envs/collusion_ml/lib/python3.10/site-packages/sklearn/neural_network/_multilayer_perceptron.py:691: ConvergenceWarning: Stochastic Optimizer: Maximum iterations (200) reached and the optimization hasn't converged yet.\n",
      "  warnings.warn(\n",
      "/home/qstaudinger/.conda/envs/collusion_ml/lib/python3.10/site-packages/sklearn/neural_network/_multilayer_perceptron.py:691: ConvergenceWarning: Stochastic Optimizer: Maximum iterations (200) reached and the optimization hasn't converged yet.\n",
      "  warnings.warn(\n",
      "/home/qstaudinger/.conda/envs/collusion_ml/lib/python3.10/site-packages/sklearn/neural_network/_multilayer_perceptron.py:691: ConvergenceWarning: Stochastic Optimizer: Maximum iterations (200) reached and the optimization hasn't converged yet.\n",
      "  warnings.warn(\n",
      "/home/qstaudinger/.conda/envs/collusion_ml/lib/python3.10/site-packages/sklearn/neural_network/_multilayer_perceptron.py:691: ConvergenceWarning: Stochastic Optimizer: Maximum iterations (200) reached and the optimization hasn't converged yet.\n",
      "  warnings.warn(\n",
      "/home/qstaudinger/.conda/envs/collusion_ml/lib/python3.10/site-packages/sklearn/neural_network/_multilayer_perceptron.py:691: ConvergenceWarning: Stochastic Optimizer: Maximum iterations (200) reached and the optimization hasn't converged yet.\n",
      "  warnings.warn(\n",
      "/home/qstaudinger/.conda/envs/collusion_ml/lib/python3.10/site-packages/sklearn/neural_network/_multilayer_perceptron.py:691: ConvergenceWarning: Stochastic Optimizer: Maximum iterations (200) reached and the optimization hasn't converged yet.\n",
      "  warnings.warn(\n",
      "/home/qstaudinger/.conda/envs/collusion_ml/lib/python3.10/site-packages/sklearn/neural_network/_multilayer_perceptron.py:691: ConvergenceWarning: Stochastic Optimizer: Maximum iterations (200) reached and the optimization hasn't converged yet.\n",
      "  warnings.warn(\n",
      "/home/qstaudinger/.conda/envs/collusion_ml/lib/python3.10/site-packages/sklearn/neural_network/_multilayer_perceptron.py:691: ConvergenceWarning: Stochastic Optimizer: Maximum iterations (200) reached and the optimization hasn't converged yet.\n",
      "  warnings.warn(\n",
      "/home/qstaudinger/.conda/envs/collusion_ml/lib/python3.10/site-packages/sklearn/neural_network/_multilayer_perceptron.py:691: ConvergenceWarning: Stochastic Optimizer: Maximum iterations (200) reached and the optimization hasn't converged yet.\n",
      "  warnings.warn(\n",
      "/home/qstaudinger/.conda/envs/collusion_ml/lib/python3.10/site-packages/sklearn/neural_network/_multilayer_perceptron.py:691: ConvergenceWarning: Stochastic Optimizer: Maximum iterations (200) reached and the optimization hasn't converged yet.\n",
      "  warnings.warn(\n",
      "/home/qstaudinger/.conda/envs/collusion_ml/lib/python3.10/site-packages/sklearn/neural_network/_multilayer_perceptron.py:691: ConvergenceWarning: Stochastic Optimizer: Maximum iterations (200) reached and the optimization hasn't converged yet.\n",
      "  warnings.warn(\n",
      "/home/qstaudinger/.conda/envs/collusion_ml/lib/python3.10/site-packages/sklearn/neural_network/_multilayer_perceptron.py:691: ConvergenceWarning: Stochastic Optimizer: Maximum iterations (200) reached and the optimization hasn't converged yet.\n",
      "  warnings.warn(\n",
      "/home/qstaudinger/.conda/envs/collusion_ml/lib/python3.10/site-packages/sklearn/neural_network/_multilayer_perceptron.py:691: ConvergenceWarning: Stochastic Optimizer: Maximum iterations (200) reached and the optimization hasn't converged yet.\n",
      "  warnings.warn(\n",
      "/home/qstaudinger/.conda/envs/collusion_ml/lib/python3.10/site-packages/sklearn/neural_network/_multilayer_perceptron.py:691: ConvergenceWarning: Stochastic Optimizer: Maximum iterations (200) reached and the optimization hasn't converged yet.\n",
      "  warnings.warn(\n",
      "/home/qstaudinger/.conda/envs/collusion_ml/lib/python3.10/site-packages/sklearn/neural_network/_multilayer_perceptron.py:691: ConvergenceWarning: Stochastic Optimizer: Maximum iterations (200) reached and the optimization hasn't converged yet.\n",
      "  warnings.warn(\n",
      "/home/qstaudinger/.conda/envs/collusion_ml/lib/python3.10/site-packages/sklearn/neural_network/_multilayer_perceptron.py:691: ConvergenceWarning: Stochastic Optimizer: Maximum iterations (200) reached and the optimization hasn't converged yet.\n",
      "  warnings.warn(\n",
      "/home/qstaudinger/.conda/envs/collusion_ml/lib/python3.10/site-packages/sklearn/neural_network/_multilayer_perceptron.py:691: ConvergenceWarning: Stochastic Optimizer: Maximum iterations (200) reached and the optimization hasn't converged yet.\n",
      "  warnings.warn(\n",
      "/home/qstaudinger/.conda/envs/collusion_ml/lib/python3.10/site-packages/sklearn/neural_network/_multilayer_perceptron.py:691: ConvergenceWarning: Stochastic Optimizer: Maximum iterations (200) reached and the optimization hasn't converged yet.\n",
      "  warnings.warn(\n",
      "/home/qstaudinger/.conda/envs/collusion_ml/lib/python3.10/site-packages/sklearn/neural_network/_multilayer_perceptron.py:691: ConvergenceWarning: Stochastic Optimizer: Maximum iterations (200) reached and the optimization hasn't converged yet.\n",
      "  warnings.warn(\n",
      "/home/qstaudinger/.conda/envs/collusion_ml/lib/python3.10/site-packages/sklearn/neural_network/_multilayer_perceptron.py:691: ConvergenceWarning: Stochastic Optimizer: Maximum iterations (200) reached and the optimization hasn't converged yet.\n",
      "  warnings.warn(\n",
      "/home/qstaudinger/.conda/envs/collusion_ml/lib/python3.10/site-packages/sklearn/neural_network/_multilayer_perceptron.py:691: ConvergenceWarning: Stochastic Optimizer: Maximum iterations (200) reached and the optimization hasn't converged yet.\n",
      "  warnings.warn(\n",
      "/home/qstaudinger/.conda/envs/collusion_ml/lib/python3.10/site-packages/sklearn/neural_network/_multilayer_perceptron.py:691: ConvergenceWarning: Stochastic Optimizer: Maximum iterations (200) reached and the optimization hasn't converged yet.\n",
      "  warnings.warn(\n",
      "/home/qstaudinger/.conda/envs/collusion_ml/lib/python3.10/site-packages/sklearn/neural_network/_multilayer_perceptron.py:691: ConvergenceWarning: Stochastic Optimizer: Maximum iterations (200) reached and the optimization hasn't converged yet.\n",
      "  warnings.warn(\n",
      "/home/qstaudinger/.conda/envs/collusion_ml/lib/python3.10/site-packages/sklearn/neural_network/_multilayer_perceptron.py:691: ConvergenceWarning: Stochastic Optimizer: Maximum iterations (200) reached and the optimization hasn't converged yet.\n",
      "  warnings.warn(\n",
      "/home/qstaudinger/.conda/envs/collusion_ml/lib/python3.10/site-packages/sklearn/neural_network/_multilayer_perceptron.py:691: ConvergenceWarning: Stochastic Optimizer: Maximum iterations (200) reached and the optimization hasn't converged yet.\n",
      "  warnings.warn(\n",
      "/home/qstaudinger/.conda/envs/collusion_ml/lib/python3.10/site-packages/sklearn/neural_network/_multilayer_perceptron.py:691: ConvergenceWarning: Stochastic Optimizer: Maximum iterations (200) reached and the optimization hasn't converged yet.\n",
      "  warnings.warn(\n",
      "/home/qstaudinger/.conda/envs/collusion_ml/lib/python3.10/site-packages/sklearn/neural_network/_multilayer_perceptron.py:691: ConvergenceWarning: Stochastic Optimizer: Maximum iterations (200) reached and the optimization hasn't converged yet.\n",
      "  warnings.warn(\n",
      "/home/qstaudinger/.conda/envs/collusion_ml/lib/python3.10/site-packages/sklearn/neural_network/_multilayer_perceptron.py:691: ConvergenceWarning: Stochastic Optimizer: Maximum iterations (200) reached and the optimization hasn't converged yet.\n",
      "  warnings.warn(\n",
      "/home/qstaudinger/.conda/envs/collusion_ml/lib/python3.10/site-packages/sklearn/neural_network/_multilayer_perceptron.py:691: ConvergenceWarning: Stochastic Optimizer: Maximum iterations (200) reached and the optimization hasn't converged yet.\n",
      "  warnings.warn(\n",
      "/home/qstaudinger/.conda/envs/collusion_ml/lib/python3.10/site-packages/sklearn/neural_network/_multilayer_perceptron.py:691: ConvergenceWarning: Stochastic Optimizer: Maximum iterations (200) reached and the optimization hasn't converged yet.\n",
      "  warnings.warn(\n",
      "/home/qstaudinger/.conda/envs/collusion_ml/lib/python3.10/site-packages/sklearn/neural_network/_multilayer_perceptron.py:691: ConvergenceWarning: Stochastic Optimizer: Maximum iterations (200) reached and the optimization hasn't converged yet.\n",
      "  warnings.warn(\n",
      "/home/qstaudinger/.conda/envs/collusion_ml/lib/python3.10/site-packages/sklearn/neural_network/_multilayer_perceptron.py:691: ConvergenceWarning: Stochastic Optimizer: Maximum iterations (200) reached and the optimization hasn't converged yet.\n",
      "  warnings.warn(\n",
      "/home/qstaudinger/.conda/envs/collusion_ml/lib/python3.10/site-packages/sklearn/neural_network/_multilayer_perceptron.py:691: ConvergenceWarning: Stochastic Optimizer: Maximum iterations (200) reached and the optimization hasn't converged yet.\n",
      "  warnings.warn(\n",
      "/home/qstaudinger/.conda/envs/collusion_ml/lib/python3.10/site-packages/sklearn/neural_network/_multilayer_perceptron.py:691: ConvergenceWarning: Stochastic Optimizer: Maximum iterations (200) reached and the optimization hasn't converged yet.\n",
      "  warnings.warn(\n",
      "/home/qstaudinger/.conda/envs/collusion_ml/lib/python3.10/site-packages/sklearn/neural_network/_multilayer_perceptron.py:691: ConvergenceWarning: Stochastic Optimizer: Maximum iterations (200) reached and the optimization hasn't converged yet.\n",
      "  warnings.warn(\n",
      "/home/qstaudinger/.conda/envs/collusion_ml/lib/python3.10/site-packages/sklearn/neural_network/_multilayer_perceptron.py:691: ConvergenceWarning: Stochastic Optimizer: Maximum iterations (200) reached and the optimization hasn't converged yet.\n",
      "  warnings.warn(\n",
      "/home/qstaudinger/.conda/envs/collusion_ml/lib/python3.10/site-packages/sklearn/neural_network/_multilayer_perceptron.py:691: ConvergenceWarning: Stochastic Optimizer: Maximum iterations (200) reached and the optimization hasn't converged yet.\n",
      "  warnings.warn(\n",
      "/home/qstaudinger/.conda/envs/collusion_ml/lib/python3.10/site-packages/sklearn/neural_network/_multilayer_perceptron.py:691: ConvergenceWarning: Stochastic Optimizer: Maximum iterations (200) reached and the optimization hasn't converged yet.\n",
      "  warnings.warn(\n",
      "/home/qstaudinger/.conda/envs/collusion_ml/lib/python3.10/site-packages/sklearn/neural_network/_multilayer_perceptron.py:691: ConvergenceWarning: Stochastic Optimizer: Maximum iterations (200) reached and the optimization hasn't converged yet.\n",
      "  warnings.warn(\n",
      "/home/qstaudinger/.conda/envs/collusion_ml/lib/python3.10/site-packages/sklearn/neural_network/_multilayer_perceptron.py:691: ConvergenceWarning: Stochastic Optimizer: Maximum iterations (200) reached and the optimization hasn't converged yet.\n",
      "  warnings.warn(\n",
      "/home/qstaudinger/.conda/envs/collusion_ml/lib/python3.10/site-packages/sklearn/neural_network/_multilayer_perceptron.py:691: ConvergenceWarning: Stochastic Optimizer: Maximum iterations (200) reached and the optimization hasn't converged yet.\n",
      "  warnings.warn(\n",
      "/home/qstaudinger/.conda/envs/collusion_ml/lib/python3.10/site-packages/sklearn/neural_network/_multilayer_perceptron.py:691: ConvergenceWarning: Stochastic Optimizer: Maximum iterations (200) reached and the optimization hasn't converged yet.\n",
      "  warnings.warn(\n",
      "/home/qstaudinger/.conda/envs/collusion_ml/lib/python3.10/site-packages/sklearn/neural_network/_multilayer_perceptron.py:691: ConvergenceWarning: Stochastic Optimizer: Maximum iterations (200) reached and the optimization hasn't converged yet.\n",
      "  warnings.warn(\n",
      "/home/qstaudinger/.conda/envs/collusion_ml/lib/python3.10/site-packages/sklearn/neural_network/_multilayer_perceptron.py:691: ConvergenceWarning: Stochastic Optimizer: Maximum iterations (200) reached and the optimization hasn't converged yet.\n",
      "  warnings.warn(\n",
      "/home/qstaudinger/.conda/envs/collusion_ml/lib/python3.10/site-packages/sklearn/neural_network/_multilayer_perceptron.py:691: ConvergenceWarning: Stochastic Optimizer: Maximum iterations (200) reached and the optimization hasn't converged yet.\n",
      "  warnings.warn(\n",
      "/home/qstaudinger/.conda/envs/collusion_ml/lib/python3.10/site-packages/sklearn/neural_network/_multilayer_perceptron.py:691: ConvergenceWarning: Stochastic Optimizer: Maximum iterations (200) reached and the optimization hasn't converged yet.\n",
      "  warnings.warn(\n",
      "/home/qstaudinger/.conda/envs/collusion_ml/lib/python3.10/site-packages/sklearn/neural_network/_multilayer_perceptron.py:691: ConvergenceWarning: Stochastic Optimizer: Maximum iterations (200) reached and the optimization hasn't converged yet.\n",
      "  warnings.warn(\n",
      "/home/qstaudinger/.conda/envs/collusion_ml/lib/python3.10/site-packages/sklearn/neural_network/_multilayer_perceptron.py:691: ConvergenceWarning: Stochastic Optimizer: Maximum iterations (200) reached and the optimization hasn't converged yet.\n",
      "  warnings.warn(\n",
      "/home/qstaudinger/.conda/envs/collusion_ml/lib/python3.10/site-packages/sklearn/neural_network/_multilayer_perceptron.py:691: ConvergenceWarning: Stochastic Optimizer: Maximum iterations (200) reached and the optimization hasn't converged yet.\n",
      "  warnings.warn(\n",
      "/home/qstaudinger/.conda/envs/collusion_ml/lib/python3.10/site-packages/sklearn/neural_network/_multilayer_perceptron.py:691: ConvergenceWarning: Stochastic Optimizer: Maximum iterations (200) reached and the optimization hasn't converged yet.\n",
      "  warnings.warn(\n",
      "/home/qstaudinger/.conda/envs/collusion_ml/lib/python3.10/site-packages/sklearn/neural_network/_multilayer_perceptron.py:691: ConvergenceWarning: Stochastic Optimizer: Maximum iterations (200) reached and the optimization hasn't converged yet.\n",
      "  warnings.warn(\n",
      "/home/qstaudinger/.conda/envs/collusion_ml/lib/python3.10/site-packages/sklearn/neural_network/_multilayer_perceptron.py:691: ConvergenceWarning: Stochastic Optimizer: Maximum iterations (200) reached and the optimization hasn't converged yet.\n",
      "  warnings.warn(\n",
      "/home/qstaudinger/.conda/envs/collusion_ml/lib/python3.10/site-packages/sklearn/neural_network/_multilayer_perceptron.py:691: ConvergenceWarning: Stochastic Optimizer: Maximum iterations (200) reached and the optimization hasn't converged yet.\n",
      "  warnings.warn(\n",
      "/home/qstaudinger/.conda/envs/collusion_ml/lib/python3.10/site-packages/sklearn/neural_network/_multilayer_perceptron.py:691: ConvergenceWarning: Stochastic Optimizer: Maximum iterations (200) reached and the optimization hasn't converged yet.\n",
      "  warnings.warn(\n",
      "/home/qstaudinger/.conda/envs/collusion_ml/lib/python3.10/site-packages/sklearn/neural_network/_multilayer_perceptron.py:691: ConvergenceWarning: Stochastic Optimizer: Maximum iterations (200) reached and the optimization hasn't converged yet.\n",
      "  warnings.warn(\n",
      "/home/qstaudinger/.conda/envs/collusion_ml/lib/python3.10/site-packages/sklearn/neural_network/_multilayer_perceptron.py:691: ConvergenceWarning: Stochastic Optimizer: Maximum iterations (200) reached and the optimization hasn't converged yet.\n",
      "  warnings.warn(\n",
      "/home/qstaudinger/.conda/envs/collusion_ml/lib/python3.10/site-packages/sklearn/neural_network/_multilayer_perceptron.py:691: ConvergenceWarning: Stochastic Optimizer: Maximum iterations (200) reached and the optimization hasn't converged yet.\n",
      "  warnings.warn(\n",
      "/home/qstaudinger/.conda/envs/collusion_ml/lib/python3.10/site-packages/sklearn/neural_network/_multilayer_perceptron.py:691: ConvergenceWarning: Stochastic Optimizer: Maximum iterations (200) reached and the optimization hasn't converged yet.\n",
      "  warnings.warn(\n",
      "/home/qstaudinger/.conda/envs/collusion_ml/lib/python3.10/site-packages/sklearn/neural_network/_multilayer_perceptron.py:691: ConvergenceWarning: Stochastic Optimizer: Maximum iterations (200) reached and the optimization hasn't converged yet.\n",
      "  warnings.warn(\n",
      "/home/qstaudinger/.conda/envs/collusion_ml/lib/python3.10/site-packages/sklearn/neural_network/_multilayer_perceptron.py:691: ConvergenceWarning: Stochastic Optimizer: Maximum iterations (200) reached and the optimization hasn't converged yet.\n",
      "  warnings.warn(\n",
      "/home/qstaudinger/.conda/envs/collusion_ml/lib/python3.10/site-packages/sklearn/neural_network/_multilayer_perceptron.py:691: ConvergenceWarning: Stochastic Optimizer: Maximum iterations (200) reached and the optimization hasn't converged yet.\n",
      "  warnings.warn(\n",
      "/home/qstaudinger/.conda/envs/collusion_ml/lib/python3.10/site-packages/sklearn/neural_network/_multilayer_perceptron.py:691: ConvergenceWarning: Stochastic Optimizer: Maximum iterations (200) reached and the optimization hasn't converged yet.\n",
      "  warnings.warn(\n",
      "/home/qstaudinger/.conda/envs/collusion_ml/lib/python3.10/site-packages/sklearn/neural_network/_multilayer_perceptron.py:691: ConvergenceWarning: Stochastic Optimizer: Maximum iterations (200) reached and the optimization hasn't converged yet.\n",
      "  warnings.warn(\n",
      "/home/qstaudinger/.conda/envs/collusion_ml/lib/python3.10/site-packages/sklearn/neural_network/_multilayer_perceptron.py:691: ConvergenceWarning: Stochastic Optimizer: Maximum iterations (200) reached and the optimization hasn't converged yet.\n",
      "  warnings.warn(\n",
      "/home/qstaudinger/.conda/envs/collusion_ml/lib/python3.10/site-packages/sklearn/neural_network/_multilayer_perceptron.py:691: ConvergenceWarning: Stochastic Optimizer: Maximum iterations (200) reached and the optimization hasn't converged yet.\n",
      "  warnings.warn(\n",
      "/home/qstaudinger/.conda/envs/collusion_ml/lib/python3.10/site-packages/sklearn/neural_network/_multilayer_perceptron.py:691: ConvergenceWarning: Stochastic Optimizer: Maximum iterations (200) reached and the optimization hasn't converged yet.\n",
      "  warnings.warn(\n",
      "/home/qstaudinger/.conda/envs/collusion_ml/lib/python3.10/site-packages/sklearn/neural_network/_multilayer_perceptron.py:691: ConvergenceWarning: Stochastic Optimizer: Maximum iterations (200) reached and the optimization hasn't converged yet.\n",
      "  warnings.warn(\n",
      "/home/qstaudinger/.conda/envs/collusion_ml/lib/python3.10/site-packages/sklearn/neural_network/_multilayer_perceptron.py:691: ConvergenceWarning: Stochastic Optimizer: Maximum iterations (200) reached and the optimization hasn't converged yet.\n",
      "  warnings.warn(\n",
      "/home/qstaudinger/.conda/envs/collusion_ml/lib/python3.10/site-packages/sklearn/neural_network/_multilayer_perceptron.py:691: ConvergenceWarning: Stochastic Optimizer: Maximum iterations (200) reached and the optimization hasn't converged yet.\n",
      "  warnings.warn(\n",
      "/home/qstaudinger/.conda/envs/collusion_ml/lib/python3.10/site-packages/sklearn/neural_network/_multilayer_perceptron.py:691: ConvergenceWarning: Stochastic Optimizer: Maximum iterations (200) reached and the optimization hasn't converged yet.\n",
      "  warnings.warn(\n",
      "/home/qstaudinger/.conda/envs/collusion_ml/lib/python3.10/site-packages/sklearn/neural_network/_multilayer_perceptron.py:691: ConvergenceWarning: Stochastic Optimizer: Maximum iterations (200) reached and the optimization hasn't converged yet.\n",
      "  warnings.warn(\n",
      "/home/qstaudinger/.conda/envs/collusion_ml/lib/python3.10/site-packages/sklearn/neural_network/_multilayer_perceptron.py:691: ConvergenceWarning: Stochastic Optimizer: Maximum iterations (200) reached and the optimization hasn't converged yet.\n",
      "  warnings.warn(\n",
      "/home/qstaudinger/.conda/envs/collusion_ml/lib/python3.10/site-packages/sklearn/neural_network/_multilayer_perceptron.py:691: ConvergenceWarning: Stochastic Optimizer: Maximum iterations (200) reached and the optimization hasn't converged yet.\n",
      "  warnings.warn(\n",
      "/home/qstaudinger/.conda/envs/collusion_ml/lib/python3.10/site-packages/sklearn/neural_network/_multilayer_perceptron.py:691: ConvergenceWarning: Stochastic Optimizer: Maximum iterations (200) reached and the optimization hasn't converged yet.\n",
      "  warnings.warn(\n",
      "/home/qstaudinger/.conda/envs/collusion_ml/lib/python3.10/site-packages/sklearn/neural_network/_multilayer_perceptron.py:691: ConvergenceWarning: Stochastic Optimizer: Maximum iterations (200) reached and the optimization hasn't converged yet.\n",
      "  warnings.warn(\n",
      "/home/qstaudinger/.conda/envs/collusion_ml/lib/python3.10/site-packages/sklearn/neural_network/_multilayer_perceptron.py:691: ConvergenceWarning: Stochastic Optimizer: Maximum iterations (200) reached and the optimization hasn't converged yet.\n",
      "  warnings.warn(\n",
      "/home/qstaudinger/.conda/envs/collusion_ml/lib/python3.10/site-packages/sklearn/neural_network/_multilayer_perceptron.py:691: ConvergenceWarning: Stochastic Optimizer: Maximum iterations (200) reached and the optimization hasn't converged yet.\n",
      "  warnings.warn(\n",
      "/home/qstaudinger/.conda/envs/collusion_ml/lib/python3.10/site-packages/sklearn/neural_network/_multilayer_perceptron.py:691: ConvergenceWarning: Stochastic Optimizer: Maximum iterations (200) reached and the optimization hasn't converged yet.\n",
      "  warnings.warn(\n",
      "/home/qstaudinger/.conda/envs/collusion_ml/lib/python3.10/site-packages/sklearn/neural_network/_multilayer_perceptron.py:691: ConvergenceWarning: Stochastic Optimizer: Maximum iterations (200) reached and the optimization hasn't converged yet.\n",
      "  warnings.warn(\n",
      "/home/qstaudinger/.conda/envs/collusion_ml/lib/python3.10/site-packages/sklearn/neural_network/_multilayer_perceptron.py:691: ConvergenceWarning: Stochastic Optimizer: Maximum iterations (200) reached and the optimization hasn't converged yet.\n",
      "  warnings.warn(\n",
      "/home/qstaudinger/.conda/envs/collusion_ml/lib/python3.10/site-packages/sklearn/neural_network/_multilayer_perceptron.py:691: ConvergenceWarning: Stochastic Optimizer: Maximum iterations (200) reached and the optimization hasn't converged yet.\n",
      "  warnings.warn(\n",
      "/home/qstaudinger/.conda/envs/collusion_ml/lib/python3.10/site-packages/sklearn/neural_network/_multilayer_perceptron.py:691: ConvergenceWarning: Stochastic Optimizer: Maximum iterations (200) reached and the optimization hasn't converged yet.\n",
      "  warnings.warn(\n",
      "/home/qstaudinger/.conda/envs/collusion_ml/lib/python3.10/site-packages/sklearn/neural_network/_multilayer_perceptron.py:691: ConvergenceWarning: Stochastic Optimizer: Maximum iterations (200) reached and the optimization hasn't converged yet.\n",
      "  warnings.warn(\n",
      "/home/qstaudinger/.conda/envs/collusion_ml/lib/python3.10/site-packages/sklearn/neural_network/_multilayer_perceptron.py:691: ConvergenceWarning: Stochastic Optimizer: Maximum iterations (200) reached and the optimization hasn't converged yet.\n",
      "  warnings.warn(\n",
      "/home/qstaudinger/.conda/envs/collusion_ml/lib/python3.10/site-packages/sklearn/neural_network/_multilayer_perceptron.py:691: ConvergenceWarning: Stochastic Optimizer: Maximum iterations (200) reached and the optimization hasn't converged yet.\n",
      "  warnings.warn(\n",
      "/home/qstaudinger/.conda/envs/collusion_ml/lib/python3.10/site-packages/sklearn/neural_network/_multilayer_perceptron.py:691: ConvergenceWarning: Stochastic Optimizer: Maximum iterations (200) reached and the optimization hasn't converged yet.\n",
      "  warnings.warn(\n",
      "/home/qstaudinger/.conda/envs/collusion_ml/lib/python3.10/site-packages/sklearn/neural_network/_multilayer_perceptron.py:691: ConvergenceWarning: Stochastic Optimizer: Maximum iterations (200) reached and the optimization hasn't converged yet.\n",
      "  warnings.warn(\n",
      "/home/qstaudinger/.conda/envs/collusion_ml/lib/python3.10/site-packages/sklearn/neural_network/_multilayer_perceptron.py:691: ConvergenceWarning: Stochastic Optimizer: Maximum iterations (200) reached and the optimization hasn't converged yet.\n",
      "  warnings.warn(\n",
      "/home/qstaudinger/.conda/envs/collusion_ml/lib/python3.10/site-packages/sklearn/neural_network/_multilayer_perceptron.py:691: ConvergenceWarning: Stochastic Optimizer: Maximum iterations (200) reached and the optimization hasn't converged yet.\n",
      "  warnings.warn(\n",
      "/home/qstaudinger/.conda/envs/collusion_ml/lib/python3.10/site-packages/sklearn/neural_network/_multilayer_perceptron.py:691: ConvergenceWarning: Stochastic Optimizer: Maximum iterations (200) reached and the optimization hasn't converged yet.\n",
      "  warnings.warn(\n",
      "/home/qstaudinger/.conda/envs/collusion_ml/lib/python3.10/site-packages/sklearn/neural_network/_multilayer_perceptron.py:691: ConvergenceWarning: Stochastic Optimizer: Maximum iterations (200) reached and the optimization hasn't converged yet.\n",
      "  warnings.warn(\n",
      "/home/qstaudinger/.conda/envs/collusion_ml/lib/python3.10/site-packages/sklearn/neural_network/_multilayer_perceptron.py:691: ConvergenceWarning: Stochastic Optimizer: Maximum iterations (200) reached and the optimization hasn't converged yet.\n",
      "  warnings.warn(\n",
      "/home/qstaudinger/.conda/envs/collusion_ml/lib/python3.10/site-packages/sklearn/neural_network/_multilayer_perceptron.py:691: ConvergenceWarning: Stochastic Optimizer: Maximum iterations (200) reached and the optimization hasn't converged yet.\n",
      "  warnings.warn(\n",
      "/home/qstaudinger/.conda/envs/collusion_ml/lib/python3.10/site-packages/sklearn/neural_network/_multilayer_perceptron.py:691: ConvergenceWarning: Stochastic Optimizer: Maximum iterations (200) reached and the optimization hasn't converged yet.\n",
      "  warnings.warn(\n",
      "/home/qstaudinger/.conda/envs/collusion_ml/lib/python3.10/site-packages/sklearn/neural_network/_multilayer_perceptron.py:691: ConvergenceWarning: Stochastic Optimizer: Maximum iterations (200) reached and the optimization hasn't converged yet.\n",
      "  warnings.warn(\n",
      "/home/qstaudinger/.conda/envs/collusion_ml/lib/python3.10/site-packages/sklearn/neural_network/_multilayer_perceptron.py:691: ConvergenceWarning: Stochastic Optimizer: Maximum iterations (200) reached and the optimization hasn't converged yet.\n",
      "  warnings.warn(\n",
      "/home/qstaudinger/.conda/envs/collusion_ml/lib/python3.10/site-packages/sklearn/neural_network/_multilayer_perceptron.py:691: ConvergenceWarning: Stochastic Optimizer: Maximum iterations (200) reached and the optimization hasn't converged yet.\n",
      "  warnings.warn(\n",
      "/home/qstaudinger/.conda/envs/collusion_ml/lib/python3.10/site-packages/sklearn/neural_network/_multilayer_perceptron.py:691: ConvergenceWarning: Stochastic Optimizer: Maximum iterations (200) reached and the optimization hasn't converged yet.\n",
      "  warnings.warn(\n",
      "/home/qstaudinger/.conda/envs/collusion_ml/lib/python3.10/site-packages/sklearn/neural_network/_multilayer_perceptron.py:691: ConvergenceWarning: Stochastic Optimizer: Maximum iterations (200) reached and the optimization hasn't converged yet.\n",
      "  warnings.warn(\n",
      "/home/qstaudinger/.conda/envs/collusion_ml/lib/python3.10/site-packages/sklearn/neural_network/_multilayer_perceptron.py:691: ConvergenceWarning: Stochastic Optimizer: Maximum iterations (200) reached and the optimization hasn't converged yet.\n",
      "  warnings.warn(\n",
      "/home/qstaudinger/.conda/envs/collusion_ml/lib/python3.10/site-packages/sklearn/neural_network/_multilayer_perceptron.py:691: ConvergenceWarning: Stochastic Optimizer: Maximum iterations (200) reached and the optimization hasn't converged yet.\n",
      "  warnings.warn(\n",
      "/home/qstaudinger/.conda/envs/collusion_ml/lib/python3.10/site-packages/sklearn/neural_network/_multilayer_perceptron.py:691: ConvergenceWarning: Stochastic Optimizer: Maximum iterations (200) reached and the optimization hasn't converged yet.\n",
      "  warnings.warn(\n",
      "/home/qstaudinger/.conda/envs/collusion_ml/lib/python3.10/site-packages/sklearn/neural_network/_multilayer_perceptron.py:691: ConvergenceWarning: Stochastic Optimizer: Maximum iterations (200) reached and the optimization hasn't converged yet.\n",
      "  warnings.warn(\n",
      "/home/qstaudinger/.conda/envs/collusion_ml/lib/python3.10/site-packages/sklearn/neural_network/_multilayer_perceptron.py:691: ConvergenceWarning: Stochastic Optimizer: Maximum iterations (200) reached and the optimization hasn't converged yet.\n",
      "  warnings.warn(\n",
      "/home/qstaudinger/.conda/envs/collusion_ml/lib/python3.10/site-packages/sklearn/neural_network/_multilayer_perceptron.py:691: ConvergenceWarning: Stochastic Optimizer: Maximum iterations (200) reached and the optimization hasn't converged yet.\n",
      "  warnings.warn(\n",
      "/home/qstaudinger/.conda/envs/collusion_ml/lib/python3.10/site-packages/sklearn/neural_network/_multilayer_perceptron.py:691: ConvergenceWarning: Stochastic Optimizer: Maximum iterations (200) reached and the optimization hasn't converged yet.\n",
      "  warnings.warn(\n",
      "/home/qstaudinger/.conda/envs/collusion_ml/lib/python3.10/site-packages/sklearn/neural_network/_multilayer_perceptron.py:691: ConvergenceWarning: Stochastic Optimizer: Maximum iterations (200) reached and the optimization hasn't converged yet.\n",
      "  warnings.warn(\n",
      "/home/qstaudinger/.conda/envs/collusion_ml/lib/python3.10/site-packages/sklearn/neural_network/_multilayer_perceptron.py:691: ConvergenceWarning: Stochastic Optimizer: Maximum iterations (200) reached and the optimization hasn't converged yet.\n",
      "  warnings.warn(\n",
      "/home/qstaudinger/.conda/envs/collusion_ml/lib/python3.10/site-packages/sklearn/neural_network/_multilayer_perceptron.py:691: ConvergenceWarning: Stochastic Optimizer: Maximum iterations (200) reached and the optimization hasn't converged yet.\n",
      "  warnings.warn(\n",
      "/home/qstaudinger/.conda/envs/collusion_ml/lib/python3.10/site-packages/sklearn/neural_network/_multilayer_perceptron.py:691: ConvergenceWarning: Stochastic Optimizer: Maximum iterations (200) reached and the optimization hasn't converged yet.\n",
      "  warnings.warn(\n",
      "/home/qstaudinger/.conda/envs/collusion_ml/lib/python3.10/site-packages/sklearn/neural_network/_multilayer_perceptron.py:691: ConvergenceWarning: Stochastic Optimizer: Maximum iterations (200) reached and the optimization hasn't converged yet.\n",
      "  warnings.warn(\n",
      "/home/qstaudinger/.conda/envs/collusion_ml/lib/python3.10/site-packages/sklearn/neural_network/_multilayer_perceptron.py:691: ConvergenceWarning: Stochastic Optimizer: Maximum iterations (200) reached and the optimization hasn't converged yet.\n",
      "  warnings.warn(\n",
      "/home/qstaudinger/.conda/envs/collusion_ml/lib/python3.10/site-packages/sklearn/neural_network/_multilayer_perceptron.py:691: ConvergenceWarning: Stochastic Optimizer: Maximum iterations (200) reached and the optimization hasn't converged yet.\n",
      "  warnings.warn(\n",
      "/home/qstaudinger/.conda/envs/collusion_ml/lib/python3.10/site-packages/sklearn/neural_network/_multilayer_perceptron.py:691: ConvergenceWarning: Stochastic Optimizer: Maximum iterations (200) reached and the optimization hasn't converged yet.\n",
      "  warnings.warn(\n",
      "/home/qstaudinger/.conda/envs/collusion_ml/lib/python3.10/site-packages/sklearn/neural_network/_multilayer_perceptron.py:691: ConvergenceWarning: Stochastic Optimizer: Maximum iterations (200) reached and the optimization hasn't converged yet.\n",
      "  warnings.warn(\n",
      "/home/qstaudinger/.conda/envs/collusion_ml/lib/python3.10/site-packages/sklearn/neural_network/_multilayer_perceptron.py:691: ConvergenceWarning: Stochastic Optimizer: Maximum iterations (200) reached and the optimization hasn't converged yet.\n",
      "  warnings.warn(\n",
      "/home/qstaudinger/.conda/envs/collusion_ml/lib/python3.10/site-packages/sklearn/neural_network/_multilayer_perceptron.py:691: ConvergenceWarning: Stochastic Optimizer: Maximum iterations (200) reached and the optimization hasn't converged yet.\n",
      "  warnings.warn(\n",
      "/home/qstaudinger/.conda/envs/collusion_ml/lib/python3.10/site-packages/sklearn/neural_network/_multilayer_perceptron.py:691: ConvergenceWarning: Stochastic Optimizer: Maximum iterations (200) reached and the optimization hasn't converged yet.\n",
      "  warnings.warn(\n",
      "/home/qstaudinger/.conda/envs/collusion_ml/lib/python3.10/site-packages/sklearn/neural_network/_multilayer_perceptron.py:691: ConvergenceWarning: Stochastic Optimizer: Maximum iterations (200) reached and the optimization hasn't converged yet.\n",
      "  warnings.warn(\n",
      "/home/qstaudinger/.conda/envs/collusion_ml/lib/python3.10/site-packages/sklearn/neural_network/_multilayer_perceptron.py:691: ConvergenceWarning: Stochastic Optimizer: Maximum iterations (200) reached and the optimization hasn't converged yet.\n",
      "  warnings.warn(\n",
      "/home/qstaudinger/.conda/envs/collusion_ml/lib/python3.10/site-packages/sklearn/neural_network/_multilayer_perceptron.py:691: ConvergenceWarning: Stochastic Optimizer: Maximum iterations (200) reached and the optimization hasn't converged yet.\n",
      "  warnings.warn(\n",
      "/home/qstaudinger/.conda/envs/collusion_ml/lib/python3.10/site-packages/sklearn/neural_network/_multilayer_perceptron.py:691: ConvergenceWarning: Stochastic Optimizer: Maximum iterations (200) reached and the optimization hasn't converged yet.\n",
      "  warnings.warn(\n",
      "/home/qstaudinger/.conda/envs/collusion_ml/lib/python3.10/site-packages/sklearn/neural_network/_multilayer_perceptron.py:691: ConvergenceWarning: Stochastic Optimizer: Maximum iterations (200) reached and the optimization hasn't converged yet.\n",
      "  warnings.warn(\n",
      "/home/qstaudinger/.conda/envs/collusion_ml/lib/python3.10/site-packages/sklearn/neural_network/_multilayer_perceptron.py:691: ConvergenceWarning: Stochastic Optimizer: Maximum iterations (200) reached and the optimization hasn't converged yet.\n",
      "  warnings.warn(\n",
      "/home/qstaudinger/.conda/envs/collusion_ml/lib/python3.10/site-packages/sklearn/neural_network/_multilayer_perceptron.py:691: ConvergenceWarning: Stochastic Optimizer: Maximum iterations (200) reached and the optimization hasn't converged yet.\n",
      "  warnings.warn(\n",
      "/home/qstaudinger/.conda/envs/collusion_ml/lib/python3.10/site-packages/sklearn/neural_network/_multilayer_perceptron.py:691: ConvergenceWarning: Stochastic Optimizer: Maximum iterations (200) reached and the optimization hasn't converged yet.\n",
      "  warnings.warn(\n",
      "/home/qstaudinger/.conda/envs/collusion_ml/lib/python3.10/site-packages/sklearn/neural_network/_multilayer_perceptron.py:691: ConvergenceWarning: Stochastic Optimizer: Maximum iterations (200) reached and the optimization hasn't converged yet.\n",
      "  warnings.warn(\n",
      "/home/qstaudinger/.conda/envs/collusion_ml/lib/python3.10/site-packages/sklearn/neural_network/_multilayer_perceptron.py:691: ConvergenceWarning: Stochastic Optimizer: Maximum iterations (200) reached and the optimization hasn't converged yet.\n",
      "  warnings.warn(\n",
      "/home/qstaudinger/.conda/envs/collusion_ml/lib/python3.10/site-packages/sklearn/neural_network/_multilayer_perceptron.py:691: ConvergenceWarning: Stochastic Optimizer: Maximum iterations (200) reached and the optimization hasn't converged yet.\n",
      "  warnings.warn(\n",
      "/home/qstaudinger/.conda/envs/collusion_ml/lib/python3.10/site-packages/sklearn/neural_network/_multilayer_perceptron.py:691: ConvergenceWarning: Stochastic Optimizer: Maximum iterations (200) reached and the optimization hasn't converged yet.\n",
      "  warnings.warn(\n",
      "/home/qstaudinger/.conda/envs/collusion_ml/lib/python3.10/site-packages/sklearn/neural_network/_multilayer_perceptron.py:691: ConvergenceWarning: Stochastic Optimizer: Maximum iterations (200) reached and the optimization hasn't converged yet.\n",
      "  warnings.warn(\n",
      "/home/qstaudinger/.conda/envs/collusion_ml/lib/python3.10/site-packages/sklearn/neural_network/_multilayer_perceptron.py:691: ConvergenceWarning: Stochastic Optimizer: Maximum iterations (200) reached and the optimization hasn't converged yet.\n",
      "  warnings.warn(\n",
      "/home/qstaudinger/.conda/envs/collusion_ml/lib/python3.10/site-packages/sklearn/neural_network/_multilayer_perceptron.py:691: ConvergenceWarning: Stochastic Optimizer: Maximum iterations (200) reached and the optimization hasn't converged yet.\n",
      "  warnings.warn(\n",
      "/home/qstaudinger/.conda/envs/collusion_ml/lib/python3.10/site-packages/sklearn/neural_network/_multilayer_perceptron.py:691: ConvergenceWarning: Stochastic Optimizer: Maximum iterations (200) reached and the optimization hasn't converged yet.\n",
      "  warnings.warn(\n",
      "/home/qstaudinger/.conda/envs/collusion_ml/lib/python3.10/site-packages/sklearn/neural_network/_multilayer_perceptron.py:691: ConvergenceWarning: Stochastic Optimizer: Maximum iterations (200) reached and the optimization hasn't converged yet.\n",
      "  warnings.warn(\n",
      "/home/qstaudinger/.conda/envs/collusion_ml/lib/python3.10/site-packages/sklearn/neural_network/_multilayer_perceptron.py:691: ConvergenceWarning: Stochastic Optimizer: Maximum iterations (200) reached and the optimization hasn't converged yet.\n",
      "  warnings.warn(\n",
      "/home/qstaudinger/.conda/envs/collusion_ml/lib/python3.10/site-packages/sklearn/neural_network/_multilayer_perceptron.py:691: ConvergenceWarning: Stochastic Optimizer: Maximum iterations (200) reached and the optimization hasn't converged yet.\n",
      "  warnings.warn(\n",
      "/home/qstaudinger/.conda/envs/collusion_ml/lib/python3.10/site-packages/sklearn/neural_network/_multilayer_perceptron.py:691: ConvergenceWarning: Stochastic Optimizer: Maximum iterations (200) reached and the optimization hasn't converged yet.\n",
      "  warnings.warn(\n",
      "/home/qstaudinger/.conda/envs/collusion_ml/lib/python3.10/site-packages/sklearn/neural_network/_multilayer_perceptron.py:691: ConvergenceWarning: Stochastic Optimizer: Maximum iterations (200) reached and the optimization hasn't converged yet.\n",
      "  warnings.warn(\n",
      "/home/qstaudinger/.conda/envs/collusion_ml/lib/python3.10/site-packages/sklearn/neural_network/_multilayer_perceptron.py:691: ConvergenceWarning: Stochastic Optimizer: Maximum iterations (200) reached and the optimization hasn't converged yet.\n",
      "  warnings.warn(\n",
      "/home/qstaudinger/.conda/envs/collusion_ml/lib/python3.10/site-packages/sklearn/neural_network/_multilayer_perceptron.py:691: ConvergenceWarning: Stochastic Optimizer: Maximum iterations (200) reached and the optimization hasn't converged yet.\n",
      "  warnings.warn(\n",
      "/home/qstaudinger/.conda/envs/collusion_ml/lib/python3.10/site-packages/sklearn/neural_network/_multilayer_perceptron.py:691: ConvergenceWarning: Stochastic Optimizer: Maximum iterations (200) reached and the optimization hasn't converged yet.\n",
      "  warnings.warn(\n",
      "/home/qstaudinger/.conda/envs/collusion_ml/lib/python3.10/site-packages/sklearn/neural_network/_multilayer_perceptron.py:691: ConvergenceWarning: Stochastic Optimizer: Maximum iterations (200) reached and the optimization hasn't converged yet.\n",
      "  warnings.warn(\n",
      "/home/qstaudinger/.conda/envs/collusion_ml/lib/python3.10/site-packages/sklearn/neural_network/_multilayer_perceptron.py:691: ConvergenceWarning: Stochastic Optimizer: Maximum iterations (200) reached and the optimization hasn't converged yet.\n",
      "  warnings.warn(\n",
      "/home/qstaudinger/.conda/envs/collusion_ml/lib/python3.10/site-packages/sklearn/neural_network/_multilayer_perceptron.py:691: ConvergenceWarning: Stochastic Optimizer: Maximum iterations (200) reached and the optimization hasn't converged yet.\n",
      "  warnings.warn(\n",
      "/home/qstaudinger/.conda/envs/collusion_ml/lib/python3.10/site-packages/sklearn/neural_network/_multilayer_perceptron.py:691: ConvergenceWarning: Stochastic Optimizer: Maximum iterations (200) reached and the optimization hasn't converged yet.\n",
      "  warnings.warn(\n",
      "/home/qstaudinger/.conda/envs/collusion_ml/lib/python3.10/site-packages/sklearn/neural_network/_multilayer_perceptron.py:691: ConvergenceWarning: Stochastic Optimizer: Maximum iterations (200) reached and the optimization hasn't converged yet.\n",
      "  warnings.warn(\n",
      "/home/qstaudinger/.conda/envs/collusion_ml/lib/python3.10/site-packages/sklearn/neural_network/_multilayer_perceptron.py:691: ConvergenceWarning: Stochastic Optimizer: Maximum iterations (200) reached and the optimization hasn't converged yet.\n",
      "  warnings.warn(\n",
      "/home/qstaudinger/.conda/envs/collusion_ml/lib/python3.10/site-packages/sklearn/neural_network/_multilayer_perceptron.py:691: ConvergenceWarning: Stochastic Optimizer: Maximum iterations (200) reached and the optimization hasn't converged yet.\n",
      "  warnings.warn(\n",
      "/home/qstaudinger/.conda/envs/collusion_ml/lib/python3.10/site-packages/sklearn/neural_network/_multilayer_perceptron.py:691: ConvergenceWarning: Stochastic Optimizer: Maximum iterations (200) reached and the optimization hasn't converged yet.\n",
      "  warnings.warn(\n",
      "/home/qstaudinger/.conda/envs/collusion_ml/lib/python3.10/site-packages/sklearn/neural_network/_multilayer_perceptron.py:691: ConvergenceWarning: Stochastic Optimizer: Maximum iterations (200) reached and the optimization hasn't converged yet.\n",
      "  warnings.warn(\n",
      "/home/qstaudinger/.conda/envs/collusion_ml/lib/python3.10/site-packages/sklearn/neural_network/_multilayer_perceptron.py:691: ConvergenceWarning: Stochastic Optimizer: Maximum iterations (200) reached and the optimization hasn't converged yet.\n",
      "  warnings.warn(\n",
      "/home/qstaudinger/.conda/envs/collusion_ml/lib/python3.10/site-packages/sklearn/neural_network/_multilayer_perceptron.py:691: ConvergenceWarning: Stochastic Optimizer: Maximum iterations (200) reached and the optimization hasn't converged yet.\n",
      "  warnings.warn(\n",
      "/home/qstaudinger/.conda/envs/collusion_ml/lib/python3.10/site-packages/sklearn/neural_network/_multilayer_perceptron.py:691: ConvergenceWarning: Stochastic Optimizer: Maximum iterations (200) reached and the optimization hasn't converged yet.\n",
      "  warnings.warn(\n",
      "/home/qstaudinger/.conda/envs/collusion_ml/lib/python3.10/site-packages/sklearn/neural_network/_multilayer_perceptron.py:691: ConvergenceWarning: Stochastic Optimizer: Maximum iterations (200) reached and the optimization hasn't converged yet.\n",
      "  warnings.warn(\n",
      "/home/qstaudinger/.conda/envs/collusion_ml/lib/python3.10/site-packages/sklearn/neural_network/_multilayer_perceptron.py:691: ConvergenceWarning: Stochastic Optimizer: Maximum iterations (200) reached and the optimization hasn't converged yet.\n",
      "  warnings.warn(\n",
      "/home/qstaudinger/.conda/envs/collusion_ml/lib/python3.10/site-packages/sklearn/neural_network/_multilayer_perceptron.py:691: ConvergenceWarning: Stochastic Optimizer: Maximum iterations (200) reached and the optimization hasn't converged yet.\n",
      "  warnings.warn(\n",
      "/home/qstaudinger/.conda/envs/collusion_ml/lib/python3.10/site-packages/sklearn/neural_network/_multilayer_perceptron.py:691: ConvergenceWarning: Stochastic Optimizer: Maximum iterations (200) reached and the optimization hasn't converged yet.\n",
      "  warnings.warn(\n",
      "/home/qstaudinger/.conda/envs/collusion_ml/lib/python3.10/site-packages/sklearn/neural_network/_multilayer_perceptron.py:691: ConvergenceWarning: Stochastic Optimizer: Maximum iterations (200) reached and the optimization hasn't converged yet.\n",
      "  warnings.warn(\n"
     ]
    },
    {
     "name": "stdout",
     "output_type": "stream",
     "text": [
      "  - Best hyperparameter: {'MLP__hidden_layer_sizes': 1, 'MLP__random_state': 23}\n",
      "  - Best F1 score: 0.866\n",
      "Trying Logistic ...\n",
      "  - Best hyperparameter: {'Logistic__C': np.float64(59.94842503189409), 'Logistic__random_state': 23}\n",
      "  - Best F1 score: 0.863\n",
      "Trying SVM ...\n",
      "  - Best hyperparameter: {'SVM__C': np.float64(1.0), 'SVM__gamma': np.float64(5.994842503189409), 'SVM__kernel': 'rbf', 'SVM__random_state': 23}\n",
      "  - Best F1 score: 0.867\n"
     ]
    }
   ],
   "source": [
    "X,y,_ = prepare_data(data_names)\n",
    "results, full_results = evaluate_models(X, y, conf_ML, SEED = SEED)\n",
    "results.to_json(\"MLresults/MLreanalysis/exp8_nbids_comp.json\")\n",
    "full_results.to_json(\"MLresults/MLreanalysis/exp8_nbids_fullresults_comp.json\")"
   ]
  },
  {
   "cell_type": "code",
   "execution_count": 155,
   "id": "a6537d1a-0391-4dbd-885e-de40c432e568",
   "metadata": {
    "tags": []
   },
   "outputs": [
    {
     "data": {
      "text/html": [
       "<div>\n",
       "<style scoped>\n",
       "    .dataframe tbody tr th:only-of-type {\n",
       "        vertical-align: middle;\n",
       "    }\n",
       "\n",
       "    .dataframe tbody tr th {\n",
       "        vertical-align: top;\n",
       "    }\n",
       "\n",
       "    .dataframe thead th {\n",
       "        text-align: right;\n",
       "    }\n",
       "</style>\n",
       "<table border=\"1\" class=\"dataframe\">\n",
       "  <thead>\n",
       "    <tr style=\"text-align: right;\">\n",
       "      <th></th>\n",
       "      <th>algorithm</th>\n",
       "      <th>train_f1</th>\n",
       "      <th>test_f1</th>\n",
       "      <th>train_precision</th>\n",
       "      <th>test_precision</th>\n",
       "      <th>train_recall</th>\n",
       "      <th>test_recall</th>\n",
       "      <th>train_accuracy</th>\n",
       "      <th>test_accuracy</th>\n",
       "      <th>params</th>\n",
       "    </tr>\n",
       "  </thead>\n",
       "  <tbody>\n",
       "    <tr>\n",
       "      <th>0</th>\n",
       "      <td>Dummy</td>\n",
       "      <td>0.764</td>\n",
       "      <td>0.753</td>\n",
       "      <td>0.762</td>\n",
       "      <td>0.755</td>\n",
       "      <td>0.766</td>\n",
       "      <td>0.752</td>\n",
       "      <td>0.638</td>\n",
       "      <td>0.624</td>\n",
       "      <td>{'Dummy__random_state': 23, 'Dummy__strategy':...</td>\n",
       "    </tr>\n",
       "    <tr>\n",
       "      <th>1</th>\n",
       "      <td>Tree</td>\n",
       "      <td>0.866</td>\n",
       "      <td>0.866</td>\n",
       "      <td>0.764</td>\n",
       "      <td>0.764</td>\n",
       "      <td>1.000</td>\n",
       "      <td>1.000</td>\n",
       "      <td>0.764</td>\n",
       "      <td>0.764</td>\n",
       "      <td>{'Tree__max_depth': 1, 'Tree__random_state': 23}</td>\n",
       "    </tr>\n",
       "    <tr>\n",
       "      <th>2</th>\n",
       "      <td>Forest</td>\n",
       "      <td>0.883</td>\n",
       "      <td>0.870</td>\n",
       "      <td>0.794</td>\n",
       "      <td>0.780</td>\n",
       "      <td>0.994</td>\n",
       "      <td>0.986</td>\n",
       "      <td>0.799</td>\n",
       "      <td>0.776</td>\n",
       "      <td>{'Forest__max_depth': 5, 'Forest__random_state...</td>\n",
       "    </tr>\n",
       "    <tr>\n",
       "      <th>3</th>\n",
       "      <td>GradientBoost</td>\n",
       "      <td>0.871</td>\n",
       "      <td>0.869</td>\n",
       "      <td>0.773</td>\n",
       "      <td>0.772</td>\n",
       "      <td>0.996</td>\n",
       "      <td>0.994</td>\n",
       "      <td>0.774</td>\n",
       "      <td>0.772</td>\n",
       "      <td>{'GradientBoost__max_depth': 1, 'GradientBoost...</td>\n",
       "    </tr>\n",
       "    <tr>\n",
       "      <th>4</th>\n",
       "      <td>MLP</td>\n",
       "      <td>0.866</td>\n",
       "      <td>0.866</td>\n",
       "      <td>0.764</td>\n",
       "      <td>0.764</td>\n",
       "      <td>1.000</td>\n",
       "      <td>1.000</td>\n",
       "      <td>0.764</td>\n",
       "      <td>0.764</td>\n",
       "      <td>{'MLP__hidden_layer_sizes': 1, 'MLP__random_st...</td>\n",
       "    </tr>\n",
       "    <tr>\n",
       "      <th>5</th>\n",
       "      <td>Logistic</td>\n",
       "      <td>0.864</td>\n",
       "      <td>0.863</td>\n",
       "      <td>0.767</td>\n",
       "      <td>0.766</td>\n",
       "      <td>0.989</td>\n",
       "      <td>0.989</td>\n",
       "      <td>0.762</td>\n",
       "      <td>0.761</td>\n",
       "      <td>{'Logistic__C': 59.94842503189409, 'Logistic__...</td>\n",
       "    </tr>\n",
       "    <tr>\n",
       "      <th>6</th>\n",
       "      <td>SVM</td>\n",
       "      <td>0.916</td>\n",
       "      <td>0.867</td>\n",
       "      <td>0.852</td>\n",
       "      <td>0.779</td>\n",
       "      <td>0.990</td>\n",
       "      <td>0.976</td>\n",
       "      <td>0.861</td>\n",
       "      <td>0.770</td>\n",
       "      <td>{'SVM__C': 1.0, 'SVM__gamma': 5.99484250318940...</td>\n",
       "    </tr>\n",
       "  </tbody>\n",
       "</table>\n",
       "</div>"
      ],
      "text/plain": [
       "       algorithm train_f1 test_f1 train_precision test_precision train_recall  \\\n",
       "0          Dummy    0.764   0.753           0.762          0.755        0.766   \n",
       "1           Tree    0.866   0.866           0.764          0.764        1.000   \n",
       "2         Forest    0.883   0.870           0.794          0.780        0.994   \n",
       "3  GradientBoost    0.871   0.869           0.773          0.772        0.996   \n",
       "4            MLP    0.866   0.866           0.764          0.764        1.000   \n",
       "5       Logistic    0.864   0.863           0.767          0.766        0.989   \n",
       "6            SVM    0.916   0.867           0.852          0.779        0.990   \n",
       "\n",
       "  test_recall train_accuracy test_accuracy  \\\n",
       "0       0.752          0.638         0.624   \n",
       "1       1.000          0.764         0.764   \n",
       "2       0.986          0.799         0.776   \n",
       "3       0.994          0.774         0.772   \n",
       "4       1.000          0.764         0.764   \n",
       "5       0.989          0.762         0.761   \n",
       "6       0.976          0.861         0.770   \n",
       "\n",
       "                                              params  \n",
       "0  {'Dummy__random_state': 23, 'Dummy__strategy':...  \n",
       "1   {'Tree__max_depth': 1, 'Tree__random_state': 23}  \n",
       "2  {'Forest__max_depth': 5, 'Forest__random_state...  \n",
       "3  {'GradientBoost__max_depth': 1, 'GradientBoost...  \n",
       "4  {'MLP__hidden_layer_sizes': 1, 'MLP__random_st...  \n",
       "5  {'Logistic__C': 59.94842503189409, 'Logistic__...  \n",
       "6  {'SVM__C': 1.0, 'SVM__gamma': 5.99484250318940...  "
      ]
     },
     "execution_count": 155,
     "metadata": {},
     "output_type": "execute_result"
    }
   ],
   "source": [
    "results"
   ]
  },
  {
   "cell_type": "code",
   "execution_count": 156,
   "id": "1523a916-c66f-43a2-b7cd-cbb2222c6e11",
   "metadata": {
    "tags": []
   },
   "outputs": [
    {
     "name": "stdout",
     "output_type": "stream",
     "text": [
      "\\begin{tabular}{llllllllll}\n",
      "\\toprule\n",
      "algorithm & train_f1 & test_f1 & train_precision & test_precision & train_recall & test_recall & train_accuracy & test_accuracy & params \\\\\n",
      "\\midrule\n",
      "Dummy & 0.764 & 0.753 & 0.762 & 0.755 & 0.766 & 0.752 & 0.638 & 0.624 & {'Dummy__random_state': 23, 'Dummy__strategy': 'stratified'} \\\\\n",
      "Tree & 0.866 & 0.866 & 0.764 & 0.764 & 1.000 & 1.000 & 0.764 & 0.764 & {'Tree__max_depth': 1, 'Tree__random_state': 23} \\\\\n",
      "Forest & 0.883 & 0.870 & 0.794 & 0.780 & 0.994 & 0.986 & 0.799 & 0.776 & {'Forest__max_depth': 5, 'Forest__random_state': 23} \\\\\n",
      "GradientBoost & 0.871 & 0.869 & 0.773 & 0.772 & 0.996 & 0.994 & 0.774 & 0.772 & {'GradientBoost__max_depth': 1, 'GradientBoost__random_state': 23} \\\\\n",
      "MLP & 0.866 & 0.866 & 0.764 & 0.764 & 1.000 & 1.000 & 0.764 & 0.764 & {'MLP__hidden_layer_sizes': 1, 'MLP__random_state': 23} \\\\\n",
      "Logistic & 0.864 & 0.863 & 0.767 & 0.766 & 0.989 & 0.989 & 0.762 & 0.761 & {'Logistic__C': np.float64(59.94842503189409), 'Logistic__random_state': 23} \\\\\n",
      "SVM & 0.916 & 0.867 & 0.852 & 0.779 & 0.990 & 0.976 & 0.861 & 0.770 & {'SVM__C': np.float64(1.0), 'SVM__gamma': np.float64(5.994842503189409), 'SVM__kernel': 'rbf', 'SVM__random_state': 23} \\\\\n",
      "\\bottomrule\n",
      "\\end{tabular}\n",
      "\n"
     ]
    }
   ],
   "source": [
    "print(results.to_latex(index=False))  "
   ]
  },
  {
   "cell_type": "markdown",
   "id": "9ee3a6f6-b16c-49dd-8599-2b985df604df",
   "metadata": {
    "tags": []
   },
   "source": [
    "## Experiment 9 (Swiss-Swiss[2]):"
   ]
  },
  {
   "cell_type": "markdown",
   "id": "30116cb7-d0a5-4159-b275-d63dd3a371f5",
   "metadata": {},
   "source": [
    "Swiss complete set for training, Swiss time period 2 for evaluation."
   ]
  },
  {
   "cell_type": "code",
   "execution_count": 157,
   "id": "267d9dc9-3708-40a7-b2fa-3e41d11067d4",
   "metadata": {
    "tags": []
   },
   "outputs": [],
   "source": [
    "data_names = [\"swiss\"]"
   ]
  },
  {
   "cell_type": "code",
   "execution_count": 159,
   "id": "afa18fc0-16f2-42cc-b0d8-582d6f8a6687",
   "metadata": {
    "scrolled": true,
    "tags": []
   },
   "outputs": [
    {
     "data": {
      "application/vnd.jupyter.widget-view+json": {
       "model_id": "d46b620528e14e4ba55d741143358a0d",
       "version_major": 2,
       "version_minor": 0
      },
      "text/plain": [
       "  0%|          | 0/1 [00:00<?, ?it/s]"
      ]
     },
     "metadata": {},
     "output_type": "display_data"
    },
    {
     "name": "stderr",
     "output_type": "stream",
     "text": [
      "/tmp/ipykernel_2236328/1521300152.py:44: RuntimeWarning: invalid value encountered in divide\n",
      "  df_grouped[\"Bid_value\"] = df_grouped.Bid_value.apply(lambda x: (np.asarray(x)-min(np.asarray(x)))/np.std(np.asarray(x)))\n"
     ]
    },
    {
     "name": "stdout",
     "output_type": "stream",
     "text": [
      "Trying Dummy ...\n",
      "  - Best hyperparameter: {'Dummy__random_state': 23, 'Dummy__strategy': 'stratified'}\n",
      "  - Best F1 score: 0.741\n",
      "Trying Tree ...\n",
      "  - Best hyperparameter: {'Tree__max_depth': 3, 'Tree__random_state': 23}\n",
      "  - Best F1 score: 0.849\n",
      "Trying Forest ...\n",
      "  - Best hyperparameter: {'Forest__max_depth': 3, 'Forest__random_state': 23}\n",
      "  - Best F1 score: 0.853\n",
      "Trying GradientBoost ...\n",
      "  - Best hyperparameter: {'GradientBoost__max_depth': 1, 'GradientBoost__random_state': 23}\n",
      "  - Best F1 score: 0.853\n",
      "Trying MLP ...\n"
     ]
    },
    {
     "name": "stderr",
     "output_type": "stream",
     "text": [
      "/home/qstaudinger/.conda/envs/collusion_ml/lib/python3.10/site-packages/sklearn/neural_network/_multilayer_perceptron.py:691: ConvergenceWarning: Stochastic Optimizer: Maximum iterations (200) reached and the optimization hasn't converged yet.\n",
      "  warnings.warn(\n",
      "/home/qstaudinger/.conda/envs/collusion_ml/lib/python3.10/site-packages/sklearn/neural_network/_multilayer_perceptron.py:691: ConvergenceWarning: Stochastic Optimizer: Maximum iterations (200) reached and the optimization hasn't converged yet.\n",
      "  warnings.warn(\n",
      "/home/qstaudinger/.conda/envs/collusion_ml/lib/python3.10/site-packages/sklearn/neural_network/_multilayer_perceptron.py:691: ConvergenceWarning: Stochastic Optimizer: Maximum iterations (200) reached and the optimization hasn't converged yet.\n",
      "  warnings.warn(\n",
      "/home/qstaudinger/.conda/envs/collusion_ml/lib/python3.10/site-packages/sklearn/neural_network/_multilayer_perceptron.py:691: ConvergenceWarning: Stochastic Optimizer: Maximum iterations (200) reached and the optimization hasn't converged yet.\n",
      "  warnings.warn(\n",
      "/home/qstaudinger/.conda/envs/collusion_ml/lib/python3.10/site-packages/sklearn/neural_network/_multilayer_perceptron.py:691: ConvergenceWarning: Stochastic Optimizer: Maximum iterations (200) reached and the optimization hasn't converged yet.\n",
      "  warnings.warn(\n",
      "/home/qstaudinger/.conda/envs/collusion_ml/lib/python3.10/site-packages/sklearn/neural_network/_multilayer_perceptron.py:691: ConvergenceWarning: Stochastic Optimizer: Maximum iterations (200) reached and the optimization hasn't converged yet.\n",
      "  warnings.warn(\n",
      "/home/qstaudinger/.conda/envs/collusion_ml/lib/python3.10/site-packages/sklearn/neural_network/_multilayer_perceptron.py:691: ConvergenceWarning: Stochastic Optimizer: Maximum iterations (200) reached and the optimization hasn't converged yet.\n",
      "  warnings.warn(\n",
      "/home/qstaudinger/.conda/envs/collusion_ml/lib/python3.10/site-packages/sklearn/neural_network/_multilayer_perceptron.py:691: ConvergenceWarning: Stochastic Optimizer: Maximum iterations (200) reached and the optimization hasn't converged yet.\n",
      "  warnings.warn(\n",
      "/home/qstaudinger/.conda/envs/collusion_ml/lib/python3.10/site-packages/sklearn/neural_network/_multilayer_perceptron.py:691: ConvergenceWarning: Stochastic Optimizer: Maximum iterations (200) reached and the optimization hasn't converged yet.\n",
      "  warnings.warn(\n",
      "/home/qstaudinger/.conda/envs/collusion_ml/lib/python3.10/site-packages/sklearn/neural_network/_multilayer_perceptron.py:691: ConvergenceWarning: Stochastic Optimizer: Maximum iterations (200) reached and the optimization hasn't converged yet.\n",
      "  warnings.warn(\n",
      "/home/qstaudinger/.conda/envs/collusion_ml/lib/python3.10/site-packages/sklearn/neural_network/_multilayer_perceptron.py:691: ConvergenceWarning: Stochastic Optimizer: Maximum iterations (200) reached and the optimization hasn't converged yet.\n",
      "  warnings.warn(\n",
      "/home/qstaudinger/.conda/envs/collusion_ml/lib/python3.10/site-packages/sklearn/neural_network/_multilayer_perceptron.py:691: ConvergenceWarning: Stochastic Optimizer: Maximum iterations (200) reached and the optimization hasn't converged yet.\n",
      "  warnings.warn(\n",
      "/home/qstaudinger/.conda/envs/collusion_ml/lib/python3.10/site-packages/sklearn/neural_network/_multilayer_perceptron.py:691: ConvergenceWarning: Stochastic Optimizer: Maximum iterations (200) reached and the optimization hasn't converged yet.\n",
      "  warnings.warn(\n",
      "/home/qstaudinger/.conda/envs/collusion_ml/lib/python3.10/site-packages/sklearn/neural_network/_multilayer_perceptron.py:691: ConvergenceWarning: Stochastic Optimizer: Maximum iterations (200) reached and the optimization hasn't converged yet.\n",
      "  warnings.warn(\n",
      "/home/qstaudinger/.conda/envs/collusion_ml/lib/python3.10/site-packages/sklearn/neural_network/_multilayer_perceptron.py:691: ConvergenceWarning: Stochastic Optimizer: Maximum iterations (200) reached and the optimization hasn't converged yet.\n",
      "  warnings.warn(\n",
      "/home/qstaudinger/.conda/envs/collusion_ml/lib/python3.10/site-packages/sklearn/neural_network/_multilayer_perceptron.py:691: ConvergenceWarning: Stochastic Optimizer: Maximum iterations (200) reached and the optimization hasn't converged yet.\n",
      "  warnings.warn(\n",
      "/home/qstaudinger/.conda/envs/collusion_ml/lib/python3.10/site-packages/sklearn/neural_network/_multilayer_perceptron.py:691: ConvergenceWarning: Stochastic Optimizer: Maximum iterations (200) reached and the optimization hasn't converged yet.\n",
      "  warnings.warn(\n",
      "/home/qstaudinger/.conda/envs/collusion_ml/lib/python3.10/site-packages/sklearn/neural_network/_multilayer_perceptron.py:691: ConvergenceWarning: Stochastic Optimizer: Maximum iterations (200) reached and the optimization hasn't converged yet.\n",
      "  warnings.warn(\n",
      "/home/qstaudinger/.conda/envs/collusion_ml/lib/python3.10/site-packages/sklearn/neural_network/_multilayer_perceptron.py:691: ConvergenceWarning: Stochastic Optimizer: Maximum iterations (200) reached and the optimization hasn't converged yet.\n",
      "  warnings.warn(\n",
      "/home/qstaudinger/.conda/envs/collusion_ml/lib/python3.10/site-packages/sklearn/neural_network/_multilayer_perceptron.py:691: ConvergenceWarning: Stochastic Optimizer: Maximum iterations (200) reached and the optimization hasn't converged yet.\n",
      "  warnings.warn(\n",
      "/home/qstaudinger/.conda/envs/collusion_ml/lib/python3.10/site-packages/sklearn/neural_network/_multilayer_perceptron.py:691: ConvergenceWarning: Stochastic Optimizer: Maximum iterations (200) reached and the optimization hasn't converged yet.\n",
      "  warnings.warn(\n",
      "/home/qstaudinger/.conda/envs/collusion_ml/lib/python3.10/site-packages/sklearn/neural_network/_multilayer_perceptron.py:691: ConvergenceWarning: Stochastic Optimizer: Maximum iterations (200) reached and the optimization hasn't converged yet.\n",
      "  warnings.warn(\n",
      "/home/qstaudinger/.conda/envs/collusion_ml/lib/python3.10/site-packages/sklearn/neural_network/_multilayer_perceptron.py:691: ConvergenceWarning: Stochastic Optimizer: Maximum iterations (200) reached and the optimization hasn't converged yet.\n",
      "  warnings.warn(\n",
      "/home/qstaudinger/.conda/envs/collusion_ml/lib/python3.10/site-packages/sklearn/neural_network/_multilayer_perceptron.py:691: ConvergenceWarning: Stochastic Optimizer: Maximum iterations (200) reached and the optimization hasn't converged yet.\n",
      "  warnings.warn(\n",
      "/home/qstaudinger/.conda/envs/collusion_ml/lib/python3.10/site-packages/sklearn/neural_network/_multilayer_perceptron.py:691: ConvergenceWarning: Stochastic Optimizer: Maximum iterations (200) reached and the optimization hasn't converged yet.\n",
      "  warnings.warn(\n",
      "/home/qstaudinger/.conda/envs/collusion_ml/lib/python3.10/site-packages/sklearn/neural_network/_multilayer_perceptron.py:691: ConvergenceWarning: Stochastic Optimizer: Maximum iterations (200) reached and the optimization hasn't converged yet.\n",
      "  warnings.warn(\n",
      "/home/qstaudinger/.conda/envs/collusion_ml/lib/python3.10/site-packages/sklearn/neural_network/_multilayer_perceptron.py:691: ConvergenceWarning: Stochastic Optimizer: Maximum iterations (200) reached and the optimization hasn't converged yet.\n",
      "  warnings.warn(\n",
      "/home/qstaudinger/.conda/envs/collusion_ml/lib/python3.10/site-packages/sklearn/neural_network/_multilayer_perceptron.py:691: ConvergenceWarning: Stochastic Optimizer: Maximum iterations (200) reached and the optimization hasn't converged yet.\n",
      "  warnings.warn(\n",
      "/home/qstaudinger/.conda/envs/collusion_ml/lib/python3.10/site-packages/sklearn/neural_network/_multilayer_perceptron.py:691: ConvergenceWarning: Stochastic Optimizer: Maximum iterations (200) reached and the optimization hasn't converged yet.\n",
      "  warnings.warn(\n",
      "/home/qstaudinger/.conda/envs/collusion_ml/lib/python3.10/site-packages/sklearn/neural_network/_multilayer_perceptron.py:691: ConvergenceWarning: Stochastic Optimizer: Maximum iterations (200) reached and the optimization hasn't converged yet.\n",
      "  warnings.warn(\n",
      "/home/qstaudinger/.conda/envs/collusion_ml/lib/python3.10/site-packages/sklearn/neural_network/_multilayer_perceptron.py:691: ConvergenceWarning: Stochastic Optimizer: Maximum iterations (200) reached and the optimization hasn't converged yet.\n",
      "  warnings.warn(\n",
      "/home/qstaudinger/.conda/envs/collusion_ml/lib/python3.10/site-packages/sklearn/neural_network/_multilayer_perceptron.py:691: ConvergenceWarning: Stochastic Optimizer: Maximum iterations (200) reached and the optimization hasn't converged yet.\n",
      "  warnings.warn(\n",
      "/home/qstaudinger/.conda/envs/collusion_ml/lib/python3.10/site-packages/sklearn/neural_network/_multilayer_perceptron.py:691: ConvergenceWarning: Stochastic Optimizer: Maximum iterations (200) reached and the optimization hasn't converged yet.\n",
      "  warnings.warn(\n",
      "/home/qstaudinger/.conda/envs/collusion_ml/lib/python3.10/site-packages/sklearn/neural_network/_multilayer_perceptron.py:691: ConvergenceWarning: Stochastic Optimizer: Maximum iterations (200) reached and the optimization hasn't converged yet.\n",
      "  warnings.warn(\n",
      "/home/qstaudinger/.conda/envs/collusion_ml/lib/python3.10/site-packages/sklearn/neural_network/_multilayer_perceptron.py:691: ConvergenceWarning: Stochastic Optimizer: Maximum iterations (200) reached and the optimization hasn't converged yet.\n",
      "  warnings.warn(\n",
      "/home/qstaudinger/.conda/envs/collusion_ml/lib/python3.10/site-packages/sklearn/neural_network/_multilayer_perceptron.py:691: ConvergenceWarning: Stochastic Optimizer: Maximum iterations (200) reached and the optimization hasn't converged yet.\n",
      "  warnings.warn(\n",
      "/home/qstaudinger/.conda/envs/collusion_ml/lib/python3.10/site-packages/sklearn/neural_network/_multilayer_perceptron.py:691: ConvergenceWarning: Stochastic Optimizer: Maximum iterations (200) reached and the optimization hasn't converged yet.\n",
      "  warnings.warn(\n",
      "/home/qstaudinger/.conda/envs/collusion_ml/lib/python3.10/site-packages/sklearn/neural_network/_multilayer_perceptron.py:691: ConvergenceWarning: Stochastic Optimizer: Maximum iterations (200) reached and the optimization hasn't converged yet.\n",
      "  warnings.warn(\n",
      "/home/qstaudinger/.conda/envs/collusion_ml/lib/python3.10/site-packages/sklearn/neural_network/_multilayer_perceptron.py:691: ConvergenceWarning: Stochastic Optimizer: Maximum iterations (200) reached and the optimization hasn't converged yet.\n",
      "  warnings.warn(\n",
      "/home/qstaudinger/.conda/envs/collusion_ml/lib/python3.10/site-packages/sklearn/neural_network/_multilayer_perceptron.py:691: ConvergenceWarning: Stochastic Optimizer: Maximum iterations (200) reached and the optimization hasn't converged yet.\n",
      "  warnings.warn(\n",
      "/home/qstaudinger/.conda/envs/collusion_ml/lib/python3.10/site-packages/sklearn/neural_network/_multilayer_perceptron.py:691: ConvergenceWarning: Stochastic Optimizer: Maximum iterations (200) reached and the optimization hasn't converged yet.\n",
      "  warnings.warn(\n",
      "/home/qstaudinger/.conda/envs/collusion_ml/lib/python3.10/site-packages/sklearn/neural_network/_multilayer_perceptron.py:691: ConvergenceWarning: Stochastic Optimizer: Maximum iterations (200) reached and the optimization hasn't converged yet.\n",
      "  warnings.warn(\n",
      "/home/qstaudinger/.conda/envs/collusion_ml/lib/python3.10/site-packages/sklearn/neural_network/_multilayer_perceptron.py:691: ConvergenceWarning: Stochastic Optimizer: Maximum iterations (200) reached and the optimization hasn't converged yet.\n",
      "  warnings.warn(\n",
      "/home/qstaudinger/.conda/envs/collusion_ml/lib/python3.10/site-packages/sklearn/neural_network/_multilayer_perceptron.py:691: ConvergenceWarning: Stochastic Optimizer: Maximum iterations (200) reached and the optimization hasn't converged yet.\n",
      "  warnings.warn(\n",
      "/home/qstaudinger/.conda/envs/collusion_ml/lib/python3.10/site-packages/sklearn/neural_network/_multilayer_perceptron.py:691: ConvergenceWarning: Stochastic Optimizer: Maximum iterations (200) reached and the optimization hasn't converged yet.\n",
      "  warnings.warn(\n",
      "/home/qstaudinger/.conda/envs/collusion_ml/lib/python3.10/site-packages/sklearn/neural_network/_multilayer_perceptron.py:691: ConvergenceWarning: Stochastic Optimizer: Maximum iterations (200) reached and the optimization hasn't converged yet.\n",
      "  warnings.warn(\n",
      "/home/qstaudinger/.conda/envs/collusion_ml/lib/python3.10/site-packages/sklearn/neural_network/_multilayer_perceptron.py:691: ConvergenceWarning: Stochastic Optimizer: Maximum iterations (200) reached and the optimization hasn't converged yet.\n",
      "  warnings.warn(\n",
      "/home/qstaudinger/.conda/envs/collusion_ml/lib/python3.10/site-packages/sklearn/neural_network/_multilayer_perceptron.py:691: ConvergenceWarning: Stochastic Optimizer: Maximum iterations (200) reached and the optimization hasn't converged yet.\n",
      "  warnings.warn(\n",
      "/home/qstaudinger/.conda/envs/collusion_ml/lib/python3.10/site-packages/sklearn/neural_network/_multilayer_perceptron.py:691: ConvergenceWarning: Stochastic Optimizer: Maximum iterations (200) reached and the optimization hasn't converged yet.\n",
      "  warnings.warn(\n",
      "/home/qstaudinger/.conda/envs/collusion_ml/lib/python3.10/site-packages/sklearn/neural_network/_multilayer_perceptron.py:691: ConvergenceWarning: Stochastic Optimizer: Maximum iterations (200) reached and the optimization hasn't converged yet.\n",
      "  warnings.warn(\n",
      "/home/qstaudinger/.conda/envs/collusion_ml/lib/python3.10/site-packages/sklearn/neural_network/_multilayer_perceptron.py:691: ConvergenceWarning: Stochastic Optimizer: Maximum iterations (200) reached and the optimization hasn't converged yet.\n",
      "  warnings.warn(\n",
      "/home/qstaudinger/.conda/envs/collusion_ml/lib/python3.10/site-packages/sklearn/neural_network/_multilayer_perceptron.py:691: ConvergenceWarning: Stochastic Optimizer: Maximum iterations (200) reached and the optimization hasn't converged yet.\n",
      "  warnings.warn(\n",
      "/home/qstaudinger/.conda/envs/collusion_ml/lib/python3.10/site-packages/sklearn/neural_network/_multilayer_perceptron.py:691: ConvergenceWarning: Stochastic Optimizer: Maximum iterations (200) reached and the optimization hasn't converged yet.\n",
      "  warnings.warn(\n",
      "/home/qstaudinger/.conda/envs/collusion_ml/lib/python3.10/site-packages/sklearn/neural_network/_multilayer_perceptron.py:691: ConvergenceWarning: Stochastic Optimizer: Maximum iterations (200) reached and the optimization hasn't converged yet.\n",
      "  warnings.warn(\n",
      "/home/qstaudinger/.conda/envs/collusion_ml/lib/python3.10/site-packages/sklearn/neural_network/_multilayer_perceptron.py:691: ConvergenceWarning: Stochastic Optimizer: Maximum iterations (200) reached and the optimization hasn't converged yet.\n",
      "  warnings.warn(\n",
      "/home/qstaudinger/.conda/envs/collusion_ml/lib/python3.10/site-packages/sklearn/neural_network/_multilayer_perceptron.py:691: ConvergenceWarning: Stochastic Optimizer: Maximum iterations (200) reached and the optimization hasn't converged yet.\n",
      "  warnings.warn(\n",
      "/home/qstaudinger/.conda/envs/collusion_ml/lib/python3.10/site-packages/sklearn/neural_network/_multilayer_perceptron.py:691: ConvergenceWarning: Stochastic Optimizer: Maximum iterations (200) reached and the optimization hasn't converged yet.\n",
      "  warnings.warn(\n",
      "/home/qstaudinger/.conda/envs/collusion_ml/lib/python3.10/site-packages/sklearn/neural_network/_multilayer_perceptron.py:691: ConvergenceWarning: Stochastic Optimizer: Maximum iterations (200) reached and the optimization hasn't converged yet.\n",
      "  warnings.warn(\n",
      "/home/qstaudinger/.conda/envs/collusion_ml/lib/python3.10/site-packages/sklearn/neural_network/_multilayer_perceptron.py:691: ConvergenceWarning: Stochastic Optimizer: Maximum iterations (200) reached and the optimization hasn't converged yet.\n",
      "  warnings.warn(\n",
      "/home/qstaudinger/.conda/envs/collusion_ml/lib/python3.10/site-packages/sklearn/neural_network/_multilayer_perceptron.py:691: ConvergenceWarning: Stochastic Optimizer: Maximum iterations (200) reached and the optimization hasn't converged yet.\n",
      "  warnings.warn(\n",
      "/home/qstaudinger/.conda/envs/collusion_ml/lib/python3.10/site-packages/sklearn/neural_network/_multilayer_perceptron.py:691: ConvergenceWarning: Stochastic Optimizer: Maximum iterations (200) reached and the optimization hasn't converged yet.\n",
      "  warnings.warn(\n",
      "/home/qstaudinger/.conda/envs/collusion_ml/lib/python3.10/site-packages/sklearn/neural_network/_multilayer_perceptron.py:691: ConvergenceWarning: Stochastic Optimizer: Maximum iterations (200) reached and the optimization hasn't converged yet.\n",
      "  warnings.warn(\n",
      "/home/qstaudinger/.conda/envs/collusion_ml/lib/python3.10/site-packages/sklearn/neural_network/_multilayer_perceptron.py:691: ConvergenceWarning: Stochastic Optimizer: Maximum iterations (200) reached and the optimization hasn't converged yet.\n",
      "  warnings.warn(\n",
      "/home/qstaudinger/.conda/envs/collusion_ml/lib/python3.10/site-packages/sklearn/neural_network/_multilayer_perceptron.py:691: ConvergenceWarning: Stochastic Optimizer: Maximum iterations (200) reached and the optimization hasn't converged yet.\n",
      "  warnings.warn(\n",
      "/home/qstaudinger/.conda/envs/collusion_ml/lib/python3.10/site-packages/sklearn/neural_network/_multilayer_perceptron.py:691: ConvergenceWarning: Stochastic Optimizer: Maximum iterations (200) reached and the optimization hasn't converged yet.\n",
      "  warnings.warn(\n",
      "/home/qstaudinger/.conda/envs/collusion_ml/lib/python3.10/site-packages/sklearn/neural_network/_multilayer_perceptron.py:691: ConvergenceWarning: Stochastic Optimizer: Maximum iterations (200) reached and the optimization hasn't converged yet.\n",
      "  warnings.warn(\n",
      "/home/qstaudinger/.conda/envs/collusion_ml/lib/python3.10/site-packages/sklearn/neural_network/_multilayer_perceptron.py:691: ConvergenceWarning: Stochastic Optimizer: Maximum iterations (200) reached and the optimization hasn't converged yet.\n",
      "  warnings.warn(\n",
      "/home/qstaudinger/.conda/envs/collusion_ml/lib/python3.10/site-packages/sklearn/neural_network/_multilayer_perceptron.py:691: ConvergenceWarning: Stochastic Optimizer: Maximum iterations (200) reached and the optimization hasn't converged yet.\n",
      "  warnings.warn(\n",
      "/home/qstaudinger/.conda/envs/collusion_ml/lib/python3.10/site-packages/sklearn/neural_network/_multilayer_perceptron.py:691: ConvergenceWarning: Stochastic Optimizer: Maximum iterations (200) reached and the optimization hasn't converged yet.\n",
      "  warnings.warn(\n",
      "/home/qstaudinger/.conda/envs/collusion_ml/lib/python3.10/site-packages/sklearn/neural_network/_multilayer_perceptron.py:691: ConvergenceWarning: Stochastic Optimizer: Maximum iterations (200) reached and the optimization hasn't converged yet.\n",
      "  warnings.warn(\n",
      "/home/qstaudinger/.conda/envs/collusion_ml/lib/python3.10/site-packages/sklearn/neural_network/_multilayer_perceptron.py:691: ConvergenceWarning: Stochastic Optimizer: Maximum iterations (200) reached and the optimization hasn't converged yet.\n",
      "  warnings.warn(\n",
      "/home/qstaudinger/.conda/envs/collusion_ml/lib/python3.10/site-packages/sklearn/neural_network/_multilayer_perceptron.py:691: ConvergenceWarning: Stochastic Optimizer: Maximum iterations (200) reached and the optimization hasn't converged yet.\n",
      "  warnings.warn(\n",
      "/home/qstaudinger/.conda/envs/collusion_ml/lib/python3.10/site-packages/sklearn/neural_network/_multilayer_perceptron.py:691: ConvergenceWarning: Stochastic Optimizer: Maximum iterations (200) reached and the optimization hasn't converged yet.\n",
      "  warnings.warn(\n",
      "/home/qstaudinger/.conda/envs/collusion_ml/lib/python3.10/site-packages/sklearn/neural_network/_multilayer_perceptron.py:691: ConvergenceWarning: Stochastic Optimizer: Maximum iterations (200) reached and the optimization hasn't converged yet.\n",
      "  warnings.warn(\n",
      "/home/qstaudinger/.conda/envs/collusion_ml/lib/python3.10/site-packages/sklearn/neural_network/_multilayer_perceptron.py:691: ConvergenceWarning: Stochastic Optimizer: Maximum iterations (200) reached and the optimization hasn't converged yet.\n",
      "  warnings.warn(\n",
      "/home/qstaudinger/.conda/envs/collusion_ml/lib/python3.10/site-packages/sklearn/neural_network/_multilayer_perceptron.py:691: ConvergenceWarning: Stochastic Optimizer: Maximum iterations (200) reached and the optimization hasn't converged yet.\n",
      "  warnings.warn(\n",
      "/home/qstaudinger/.conda/envs/collusion_ml/lib/python3.10/site-packages/sklearn/neural_network/_multilayer_perceptron.py:691: ConvergenceWarning: Stochastic Optimizer: Maximum iterations (200) reached and the optimization hasn't converged yet.\n",
      "  warnings.warn(\n",
      "/home/qstaudinger/.conda/envs/collusion_ml/lib/python3.10/site-packages/sklearn/neural_network/_multilayer_perceptron.py:691: ConvergenceWarning: Stochastic Optimizer: Maximum iterations (200) reached and the optimization hasn't converged yet.\n",
      "  warnings.warn(\n",
      "/home/qstaudinger/.conda/envs/collusion_ml/lib/python3.10/site-packages/sklearn/neural_network/_multilayer_perceptron.py:691: ConvergenceWarning: Stochastic Optimizer: Maximum iterations (200) reached and the optimization hasn't converged yet.\n",
      "  warnings.warn(\n",
      "/home/qstaudinger/.conda/envs/collusion_ml/lib/python3.10/site-packages/sklearn/neural_network/_multilayer_perceptron.py:691: ConvergenceWarning: Stochastic Optimizer: Maximum iterations (200) reached and the optimization hasn't converged yet.\n",
      "  warnings.warn(\n",
      "/home/qstaudinger/.conda/envs/collusion_ml/lib/python3.10/site-packages/sklearn/neural_network/_multilayer_perceptron.py:691: ConvergenceWarning: Stochastic Optimizer: Maximum iterations (200) reached and the optimization hasn't converged yet.\n",
      "  warnings.warn(\n",
      "/home/qstaudinger/.conda/envs/collusion_ml/lib/python3.10/site-packages/sklearn/neural_network/_multilayer_perceptron.py:691: ConvergenceWarning: Stochastic Optimizer: Maximum iterations (200) reached and the optimization hasn't converged yet.\n",
      "  warnings.warn(\n",
      "/home/qstaudinger/.conda/envs/collusion_ml/lib/python3.10/site-packages/sklearn/neural_network/_multilayer_perceptron.py:691: ConvergenceWarning: Stochastic Optimizer: Maximum iterations (200) reached and the optimization hasn't converged yet.\n",
      "  warnings.warn(\n",
      "/home/qstaudinger/.conda/envs/collusion_ml/lib/python3.10/site-packages/sklearn/neural_network/_multilayer_perceptron.py:691: ConvergenceWarning: Stochastic Optimizer: Maximum iterations (200) reached and the optimization hasn't converged yet.\n",
      "  warnings.warn(\n",
      "/home/qstaudinger/.conda/envs/collusion_ml/lib/python3.10/site-packages/sklearn/neural_network/_multilayer_perceptron.py:691: ConvergenceWarning: Stochastic Optimizer: Maximum iterations (200) reached and the optimization hasn't converged yet.\n",
      "  warnings.warn(\n",
      "/home/qstaudinger/.conda/envs/collusion_ml/lib/python3.10/site-packages/sklearn/neural_network/_multilayer_perceptron.py:691: ConvergenceWarning: Stochastic Optimizer: Maximum iterations (200) reached and the optimization hasn't converged yet.\n",
      "  warnings.warn(\n",
      "/home/qstaudinger/.conda/envs/collusion_ml/lib/python3.10/site-packages/sklearn/neural_network/_multilayer_perceptron.py:691: ConvergenceWarning: Stochastic Optimizer: Maximum iterations (200) reached and the optimization hasn't converged yet.\n",
      "  warnings.warn(\n",
      "/home/qstaudinger/.conda/envs/collusion_ml/lib/python3.10/site-packages/sklearn/neural_network/_multilayer_perceptron.py:691: ConvergenceWarning: Stochastic Optimizer: Maximum iterations (200) reached and the optimization hasn't converged yet.\n",
      "  warnings.warn(\n",
      "/home/qstaudinger/.conda/envs/collusion_ml/lib/python3.10/site-packages/sklearn/neural_network/_multilayer_perceptron.py:691: ConvergenceWarning: Stochastic Optimizer: Maximum iterations (200) reached and the optimization hasn't converged yet.\n",
      "  warnings.warn(\n",
      "/home/qstaudinger/.conda/envs/collusion_ml/lib/python3.10/site-packages/sklearn/neural_network/_multilayer_perceptron.py:691: ConvergenceWarning: Stochastic Optimizer: Maximum iterations (200) reached and the optimization hasn't converged yet.\n",
      "  warnings.warn(\n",
      "/home/qstaudinger/.conda/envs/collusion_ml/lib/python3.10/site-packages/sklearn/neural_network/_multilayer_perceptron.py:691: ConvergenceWarning: Stochastic Optimizer: Maximum iterations (200) reached and the optimization hasn't converged yet.\n",
      "  warnings.warn(\n",
      "/home/qstaudinger/.conda/envs/collusion_ml/lib/python3.10/site-packages/sklearn/neural_network/_multilayer_perceptron.py:691: ConvergenceWarning: Stochastic Optimizer: Maximum iterations (200) reached and the optimization hasn't converged yet.\n",
      "  warnings.warn(\n",
      "/home/qstaudinger/.conda/envs/collusion_ml/lib/python3.10/site-packages/sklearn/neural_network/_multilayer_perceptron.py:691: ConvergenceWarning: Stochastic Optimizer: Maximum iterations (200) reached and the optimization hasn't converged yet.\n",
      "  warnings.warn(\n",
      "/home/qstaudinger/.conda/envs/collusion_ml/lib/python3.10/site-packages/sklearn/neural_network/_multilayer_perceptron.py:691: ConvergenceWarning: Stochastic Optimizer: Maximum iterations (200) reached and the optimization hasn't converged yet.\n",
      "  warnings.warn(\n",
      "/home/qstaudinger/.conda/envs/collusion_ml/lib/python3.10/site-packages/sklearn/neural_network/_multilayer_perceptron.py:691: ConvergenceWarning: Stochastic Optimizer: Maximum iterations (200) reached and the optimization hasn't converged yet.\n",
      "  warnings.warn(\n",
      "/home/qstaudinger/.conda/envs/collusion_ml/lib/python3.10/site-packages/sklearn/neural_network/_multilayer_perceptron.py:691: ConvergenceWarning: Stochastic Optimizer: Maximum iterations (200) reached and the optimization hasn't converged yet.\n",
      "  warnings.warn(\n",
      "/home/qstaudinger/.conda/envs/collusion_ml/lib/python3.10/site-packages/sklearn/neural_network/_multilayer_perceptron.py:691: ConvergenceWarning: Stochastic Optimizer: Maximum iterations (200) reached and the optimization hasn't converged yet.\n",
      "  warnings.warn(\n",
      "/home/qstaudinger/.conda/envs/collusion_ml/lib/python3.10/site-packages/sklearn/neural_network/_multilayer_perceptron.py:691: ConvergenceWarning: Stochastic Optimizer: Maximum iterations (200) reached and the optimization hasn't converged yet.\n",
      "  warnings.warn(\n",
      "/home/qstaudinger/.conda/envs/collusion_ml/lib/python3.10/site-packages/sklearn/neural_network/_multilayer_perceptron.py:691: ConvergenceWarning: Stochastic Optimizer: Maximum iterations (200) reached and the optimization hasn't converged yet.\n",
      "  warnings.warn(\n",
      "/home/qstaudinger/.conda/envs/collusion_ml/lib/python3.10/site-packages/sklearn/neural_network/_multilayer_perceptron.py:691: ConvergenceWarning: Stochastic Optimizer: Maximum iterations (200) reached and the optimization hasn't converged yet.\n",
      "  warnings.warn(\n",
      "/home/qstaudinger/.conda/envs/collusion_ml/lib/python3.10/site-packages/sklearn/neural_network/_multilayer_perceptron.py:691: ConvergenceWarning: Stochastic Optimizer: Maximum iterations (200) reached and the optimization hasn't converged yet.\n",
      "  warnings.warn(\n",
      "/home/qstaudinger/.conda/envs/collusion_ml/lib/python3.10/site-packages/sklearn/neural_network/_multilayer_perceptron.py:691: ConvergenceWarning: Stochastic Optimizer: Maximum iterations (200) reached and the optimization hasn't converged yet.\n",
      "  warnings.warn(\n",
      "/home/qstaudinger/.conda/envs/collusion_ml/lib/python3.10/site-packages/sklearn/neural_network/_multilayer_perceptron.py:691: ConvergenceWarning: Stochastic Optimizer: Maximum iterations (200) reached and the optimization hasn't converged yet.\n",
      "  warnings.warn(\n",
      "/home/qstaudinger/.conda/envs/collusion_ml/lib/python3.10/site-packages/sklearn/neural_network/_multilayer_perceptron.py:691: ConvergenceWarning: Stochastic Optimizer: Maximum iterations (200) reached and the optimization hasn't converged yet.\n",
      "  warnings.warn(\n",
      "/home/qstaudinger/.conda/envs/collusion_ml/lib/python3.10/site-packages/sklearn/neural_network/_multilayer_perceptron.py:691: ConvergenceWarning: Stochastic Optimizer: Maximum iterations (200) reached and the optimization hasn't converged yet.\n",
      "  warnings.warn(\n"
     ]
    },
    {
     "name": "stdout",
     "output_type": "stream",
     "text": [
      "  - Best hyperparameter: {'MLP__hidden_layer_sizes': 1, 'MLP__random_state': 23}\n",
      "  - Best F1 score: 0.848\n",
      "Trying Logistic ...\n",
      "  - Best hyperparameter: {'Logistic__C': np.float64(1.0), 'Logistic__random_state': 23}\n",
      "  - Best F1 score: 0.848\n",
      "Trying SVM ...\n",
      "  - Best hyperparameter: {'SVM__C': np.float64(1.6237767391887217), 'SVM__gamma': np.float64(0.16681005372000587), 'SVM__kernel': 'rbf', 'SVM__random_state': 23}\n",
      "  - Best F1 score: 0.849\n"
     ]
    }
   ],
   "source": [
    "X,y,_ = prepare_data(data_names)\n",
    "results, full_results = evaluate_models(X, y, conf_ML, SEED = SEED)\n",
    "results.to_json(\"MLresults/MLreanalysis/exp9_nbids_comp.json\")\n",
    "full_results.to_json(\"MLresults/MLreanalysis/exp9_nbids_fullresults_comp.json\")"
   ]
  },
  {
   "cell_type": "code",
   "execution_count": 160,
   "id": "2658a4c0-867e-441c-8192-1fed171ef23c",
   "metadata": {
    "tags": []
   },
   "outputs": [
    {
     "data": {
      "text/html": [
       "<div>\n",
       "<style scoped>\n",
       "    .dataframe tbody tr th:only-of-type {\n",
       "        vertical-align: middle;\n",
       "    }\n",
       "\n",
       "    .dataframe tbody tr th {\n",
       "        vertical-align: top;\n",
       "    }\n",
       "\n",
       "    .dataframe thead th {\n",
       "        text-align: right;\n",
       "    }\n",
       "</style>\n",
       "<table border=\"1\" class=\"dataframe\">\n",
       "  <thead>\n",
       "    <tr style=\"text-align: right;\">\n",
       "      <th></th>\n",
       "      <th>algorithm</th>\n",
       "      <th>train_f1</th>\n",
       "      <th>test_f1</th>\n",
       "      <th>train_precision</th>\n",
       "      <th>test_precision</th>\n",
       "      <th>train_recall</th>\n",
       "      <th>test_recall</th>\n",
       "      <th>train_accuracy</th>\n",
       "      <th>test_accuracy</th>\n",
       "      <th>params</th>\n",
       "    </tr>\n",
       "  </thead>\n",
       "  <tbody>\n",
       "    <tr>\n",
       "      <th>0</th>\n",
       "      <td>Dummy</td>\n",
       "      <td>0.738</td>\n",
       "      <td>0.741</td>\n",
       "      <td>0.736</td>\n",
       "      <td>0.734</td>\n",
       "      <td>0.741</td>\n",
       "      <td>0.749</td>\n",
       "      <td>0.614</td>\n",
       "      <td>0.615</td>\n",
       "      <td>{'Dummy__random_state': 23, 'Dummy__strategy':...</td>\n",
       "    </tr>\n",
       "    <tr>\n",
       "      <th>1</th>\n",
       "      <td>Tree</td>\n",
       "      <td>0.853</td>\n",
       "      <td>0.849</td>\n",
       "      <td>0.758</td>\n",
       "      <td>0.754</td>\n",
       "      <td>0.976</td>\n",
       "      <td>0.970</td>\n",
       "      <td>0.752</td>\n",
       "      <td>0.745</td>\n",
       "      <td>{'Tree__max_depth': 3, 'Tree__random_state': 23}</td>\n",
       "    </tr>\n",
       "    <tr>\n",
       "      <th>2</th>\n",
       "      <td>Forest</td>\n",
       "      <td>0.856</td>\n",
       "      <td>0.853</td>\n",
       "      <td>0.752</td>\n",
       "      <td>0.749</td>\n",
       "      <td>0.992</td>\n",
       "      <td>0.989</td>\n",
       "      <td>0.753</td>\n",
       "      <td>0.748</td>\n",
       "      <td>{'Forest__max_depth': 3, 'Forest__random_state...</td>\n",
       "    </tr>\n",
       "    <tr>\n",
       "      <th>3</th>\n",
       "      <td>GradientBoost</td>\n",
       "      <td>0.856</td>\n",
       "      <td>0.853</td>\n",
       "      <td>0.756</td>\n",
       "      <td>0.754</td>\n",
       "      <td>0.986</td>\n",
       "      <td>0.983</td>\n",
       "      <td>0.756</td>\n",
       "      <td>0.751</td>\n",
       "      <td>{'GradientBoost__max_depth': 1, 'GradientBoost...</td>\n",
       "    </tr>\n",
       "    <tr>\n",
       "      <th>4</th>\n",
       "      <td>MLP</td>\n",
       "      <td>0.848</td>\n",
       "      <td>0.848</td>\n",
       "      <td>0.736</td>\n",
       "      <td>0.736</td>\n",
       "      <td>1.000</td>\n",
       "      <td>1.000</td>\n",
       "      <td>0.736</td>\n",
       "      <td>0.736</td>\n",
       "      <td>{'MLP__hidden_layer_sizes': 1, 'MLP__random_st...</td>\n",
       "    </tr>\n",
       "    <tr>\n",
       "      <th>5</th>\n",
       "      <td>Logistic</td>\n",
       "      <td>0.849</td>\n",
       "      <td>0.848</td>\n",
       "      <td>0.737</td>\n",
       "      <td>0.737</td>\n",
       "      <td>1.000</td>\n",
       "      <td>0.999</td>\n",
       "      <td>0.737</td>\n",
       "      <td>0.736</td>\n",
       "      <td>{'Logistic__C': 1.0, 'Logistic__random_state':...</td>\n",
       "    </tr>\n",
       "    <tr>\n",
       "      <th>6</th>\n",
       "      <td>SVM</td>\n",
       "      <td>0.853</td>\n",
       "      <td>0.849</td>\n",
       "      <td>0.755</td>\n",
       "      <td>0.751</td>\n",
       "      <td>0.979</td>\n",
       "      <td>0.976</td>\n",
       "      <td>0.751</td>\n",
       "      <td>0.744</td>\n",
       "      <td>{'SVM__C': 1.6237767391887217, 'SVM__gamma': 0...</td>\n",
       "    </tr>\n",
       "  </tbody>\n",
       "</table>\n",
       "</div>"
      ],
      "text/plain": [
       "       algorithm train_f1 test_f1 train_precision test_precision train_recall  \\\n",
       "0          Dummy    0.738   0.741           0.736          0.734        0.741   \n",
       "1           Tree    0.853   0.849           0.758          0.754        0.976   \n",
       "2         Forest    0.856   0.853           0.752          0.749        0.992   \n",
       "3  GradientBoost    0.856   0.853           0.756          0.754        0.986   \n",
       "4            MLP    0.848   0.848           0.736          0.736        1.000   \n",
       "5       Logistic    0.849   0.848           0.737          0.737        1.000   \n",
       "6            SVM    0.853   0.849           0.755          0.751        0.979   \n",
       "\n",
       "  test_recall train_accuracy test_accuracy  \\\n",
       "0       0.749          0.614         0.615   \n",
       "1       0.970          0.752         0.745   \n",
       "2       0.989          0.753         0.748   \n",
       "3       0.983          0.756         0.751   \n",
       "4       1.000          0.736         0.736   \n",
       "5       0.999          0.737         0.736   \n",
       "6       0.976          0.751         0.744   \n",
       "\n",
       "                                              params  \n",
       "0  {'Dummy__random_state': 23, 'Dummy__strategy':...  \n",
       "1   {'Tree__max_depth': 3, 'Tree__random_state': 23}  \n",
       "2  {'Forest__max_depth': 3, 'Forest__random_state...  \n",
       "3  {'GradientBoost__max_depth': 1, 'GradientBoost...  \n",
       "4  {'MLP__hidden_layer_sizes': 1, 'MLP__random_st...  \n",
       "5  {'Logistic__C': 1.0, 'Logistic__random_state':...  \n",
       "6  {'SVM__C': 1.6237767391887217, 'SVM__gamma': 0...  "
      ]
     },
     "execution_count": 160,
     "metadata": {},
     "output_type": "execute_result"
    }
   ],
   "source": [
    "results"
   ]
  },
  {
   "cell_type": "code",
   "execution_count": 161,
   "id": "5d858df5-83ec-4b89-a5af-670bc6d7b2e5",
   "metadata": {
    "tags": []
   },
   "outputs": [
    {
     "name": "stdout",
     "output_type": "stream",
     "text": [
      "\\begin{tabular}{llllllllll}\n",
      "\\toprule\n",
      "algorithm & train_f1 & test_f1 & train_precision & test_precision & train_recall & test_recall & train_accuracy & test_accuracy & params \\\\\n",
      "\\midrule\n",
      "Dummy & 0.738 & 0.741 & 0.736 & 0.734 & 0.741 & 0.749 & 0.614 & 0.615 & {'Dummy__random_state': 23, 'Dummy__strategy': 'stratified'} \\\\\n",
      "Tree & 0.853 & 0.849 & 0.758 & 0.754 & 0.976 & 0.970 & 0.752 & 0.745 & {'Tree__max_depth': 3, 'Tree__random_state': 23} \\\\\n",
      "Forest & 0.856 & 0.853 & 0.752 & 0.749 & 0.992 & 0.989 & 0.753 & 0.748 & {'Forest__max_depth': 3, 'Forest__random_state': 23} \\\\\n",
      "GradientBoost & 0.856 & 0.853 & 0.756 & 0.754 & 0.986 & 0.983 & 0.756 & 0.751 & {'GradientBoost__max_depth': 1, 'GradientBoost__random_state': 23} \\\\\n",
      "MLP & 0.848 & 0.848 & 0.736 & 0.736 & 1.000 & 1.000 & 0.736 & 0.736 & {'MLP__hidden_layer_sizes': 1, 'MLP__random_state': 23} \\\\\n",
      "Logistic & 0.849 & 0.848 & 0.737 & 0.737 & 1.000 & 0.999 & 0.737 & 0.736 & {'Logistic__C': np.float64(1.0), 'Logistic__random_state': 23} \\\\\n",
      "SVM & 0.853 & 0.849 & 0.755 & 0.751 & 0.979 & 0.976 & 0.751 & 0.744 & {'SVM__C': np.float64(1.6237767391887217), 'SVM__gamma': np.float64(0.16681005372000587), 'SVM__kernel': 'rbf', 'SVM__random_state': 23} \\\\\n",
      "\\bottomrule\n",
      "\\end{tabular}\n",
      "\n"
     ]
    }
   ],
   "source": [
    "print(results.to_latex(index=False))  "
   ]
  },
  {
   "cell_type": "markdown",
   "id": "5c1ac7af",
   "metadata": {
    "tags": []
   },
   "source": [
    "# Test on Additional Dataset"
   ]
  },
  {
   "cell_type": "markdown",
   "id": "3745a381-39ee-4fcb-9505-72d0cbeafa66",
   "metadata": {
    "tags": []
   },
   "source": [
    "## Definitions"
   ]
  },
  {
   "cell_type": "code",
   "execution_count": 11,
   "id": "4e4ec440",
   "metadata": {
    "tags": []
   },
   "outputs": [],
   "source": [
    "from sklearn.metrics import f1_score, precision_score, recall_score, accuracy_score"
   ]
  },
  {
   "cell_type": "code",
   "execution_count": 198,
   "id": "45a93571",
   "metadata": {
    "tags": []
   },
   "outputs": [],
   "source": [
    "def prepare_data_eval(name, test_name, features = features_ML, return_industry =False):\n",
    "\n",
    "        \n",
    "    if type(name) == list:\n",
    "    ##TODO: eventually use full dataset not only train here    \n",
    "        data = []\n",
    "        test_data = []\n",
    "        \n",
    "        #loop over train data\n",
    "        for ds in tqdm(name):\n",
    "            if ds != \"swiss\":\n",
    "                df = pd.read_json(data_dir/f\"{ds}_train.json\")\n",
    "                df2 = pd.read_json(unseen_data_dir/f\"{ds}_unseen.json\")\n",
    "                df = pd.concat([df, df2])\n",
    "            else:\n",
    "                df = pd.read_csv(data_dir/\"swiss_train.csv\")\n",
    "                df2 = pd.read_json(unseen_data_dir/f\"swiss_unseen.json\")\n",
    "                df = pd.concat([df, df2])\n",
    "                \n",
    "            if \"ID\" in df.keys():\n",
    "                df.rename(columns = {\"ID\": \"Tender\"}, inplace = True)\n",
    "            if \"Price\" in df.keys():\n",
    "                df.rename(columns = {\"Price\": \"Bid_value\"}, inplace = True)\n",
    "            if \"complete\" in df.keys(): #complete/incomplete is just a case in Swiss dataset, take care of it later\n",
    "                #df.rename(columns = {\"complete\": \"cartel\"}, inplace = True) #this option only uses complete cartels as cartels\n",
    "                #df[\"cartel\"] = df.complete | df.incomplete #this option also considers incomplete cartels as cartels\n",
    "                df = df[df.incomplete!=1]# this option remove all incomplete cartels\n",
    "                df.rename(columns = {\"complete\": \"Collusive_competitor\"}, inplace = True)\n",
    "                \n",
    "            df[\"Tender\"] = df.Tender.apply(lambda s: f\"{ds}/{s}\" )\n",
    "            \n",
    "            if return_industry:\n",
    "                df[\"industry\"] = ds\n",
    "                \n",
    "            data.append(df[list(set(features + [\"Number_bids\"])) + [\"Bid_value\", \"Tender\", \"Collusive_competitor\"]]) #to make sure Number_bids is included as it will be needed later    \n",
    "            \n",
    "        df = pd.concat(data)\n",
    "        print(len(df))\n",
    "        print(\"loaded train data...\") \n",
    "        \n",
    "        #loop over test data\n",
    "        for ds in tqdm(test_name):\n",
    "            if ds != \"swiss\":\n",
    "                df_test = pd.read_json(data_dir/f\"{ds}_train.json\")\n",
    "                df_test2 = pd.read_json(unseen_data_dir/f\"{ds}_unseen.json\")\n",
    "                df_test = pd.concat([df_test, df_test2])\n",
    "            else:\n",
    "                df_test = pd.read_csv(data_dir/\"swiss_train.csv\")\n",
    "                df_test2 = pd.read_json(unseen_data_dir/\"swiss_unseen.json\")\n",
    "                df_test = pd.concat([df_test, df_test2])\n",
    "            if \"ID\" in df_test.keys():\n",
    "                df_test.rename(columns = {\"ID\": \"Tender\"}, inplace = True)\n",
    "            if \"Price\" in df_test.keys():\n",
    "                df_test.rename(columns = {\"Price\": \"Bid_value\"}, inplace = True)\n",
    "            if \"complete\" in df_test.keys(): #complete/incomplete is just a case in Swiss dataset, take care of it later\n",
    "                #df_test.rename(columns = {\"complete\": \"cartel\"}, inplace = True) #this option only uses complete cartels as cartels\n",
    "                #df_test[\"cartel\"] = df_test.complete | df_test.incomplete #this option also considers incomplete cartels as cartels\n",
    "                df_test = df_test[df_test.incomplete !=1]\n",
    "                df_test.rename(columns = {\"complete\": \"Collusive_competitor\"}, inplace = True)\n",
    "                \n",
    "            df_test[\"Tender\"] = df_test.Tender.apply(lambda s: f\"{ds}/{s}\" )\n",
    "            \n",
    "            if return_industry:\n",
    "                df_test[\"industry\"] = ds\n",
    "            \n",
    "            test_data.append(df_test[list(set(features + [\"Number_bids\"])) + [\"Bid_value\", \"Tender\", \"Collusive_competitor\"]]) #to make sure nbids is included as it will be needed later\n",
    "            \n",
    "        df_test = pd.concat(test_data)\n",
    "        print(len(df_test))\n",
    "        print(\"loaded test data...\") \n",
    "    \n",
    "        \n",
    "        \n",
    "        \n",
    "    else:\n",
    "        print(\"For this evaluation we need two lists as input\")\n",
    "    \n",
    "    df_grouped_train = df.groupby(by=\"Tender\").head(1).reset_index()\n",
    "    df_grouped_test = df_test.groupby(by=\"Tender\").head(1).reset_index()\n",
    "    \n",
    "    df_grouped_train.drop(columns=[\"Bid_value\"], inplace = True)\n",
    "    df_grouped_train = df_grouped_train.merge(df.groupby(by=\"Tender\")[\"Bid_value\"].apply(list), left_on = \"Tender\", right_on = \"Tender\")\n",
    "    df_grouped_test.drop(columns=[\"Bid_value\"], inplace = True)\n",
    "    df_grouped_test = df_grouped_test.merge(df_test.groupby(by=\"Tender\")[\"Bid_value\"].apply(list), left_on = \"Tender\", right_on = \"Tender\")\n",
    "    \n",
    "    # NOTE(amotta):\n",
    "    df_grouped_train[\"Bid_value\"] = df_grouped_train.Bid_value.apply(lambda x: (np.asarray(x)-min(np.asarray(x)))/np.std(np.asarray(x)))\n",
    "    df_grouped_train[\"Bid_value\"] = df_grouped_train.Bid_value.apply(lambda x: np.sort(x)[::-1])\n",
    "    df_grouped_test[\"Bid_value\"] = df_grouped_test.Bid_value.apply(lambda x: (np.asarray(x)-min(np.asarray(x)))/np.std(np.asarray(x)))\n",
    "    df_grouped_test[\"Bid_value\"] = df_grouped_test.Bid_value.apply(lambda x: np.sort(x)[::-1])\n",
    "\n",
    "    \n",
    "    \n",
    "    df_grouped_test.dropna(inplace = True)\n",
    "    df_grouped_train.dropna(inplace = True)\n",
    "    \n",
    "    df_grouped_train = df_grouped_train.sample(frac=1, random_state = SEED )\n",
    "    df_grouped_test = df_grouped_test.sample(frac=1, random_state = SEED )\n",
    "    \n",
    "\n",
    "    X_train = df_grouped_train[features]\n",
    "    X_test = df_grouped_test[features]\n",
    "    y_train = df_grouped_train[\"Collusive_competitor\"]\n",
    "    y_test = df_grouped_test[\"Collusive_competitor\"]\n",
    "    \n",
    "    return X_train, X_test,y_train, y_test"
   ]
  },
  {
   "cell_type": "code",
   "execution_count": 148,
   "id": "eff501ae",
   "metadata": {
    "tags": []
   },
   "outputs": [],
   "source": [
    "def MLevalTUD(X_train, X_test, y_train, y_test, configuration):\n",
    "    \n",
    "    results = []\n",
    "    \n",
    "    for name, algo, params in configuration:\n",
    "    \n",
    "        pipeline = Pipeline([(\"scaler\", StandardScaler()),(name, algo)])\n",
    "        pipeline.set_params(**params)\n",
    "        \n",
    "        pipeline.fit(X_train, y_train)\n",
    "        y_pred_train = pipeline.predict(X_train)\n",
    "        y_pred = pipeline.predict(X_test)\n",
    "        # y_pred = pipeline.predict(X_train) # TODO(ami)\n",
    "        # y_test = y_train\n",
    "        \n",
    "        #print(f\"Number of true predictions: {y_pred.sum()}\")\n",
    "        #my_precision = float(np.sum(y_pred & y_test)) / float(np.sum(y_pred))\n",
    "        #my_recall = float(np.sum(y_pred & y_test)) / float(np.sum(y_test))\n",
    "        #print(f\"Precision: {100*my_precision}\")\n",
    "        #print(f\"Recall: {100*my_recall}\")\n",
    "        \n",
    "        results.append(pd.DataFrame({\"algorithm\": name,\n",
    "                        \"F1\": \"{:.3f}\".format(f1_score(y_test, y_pred)),  \"F1_train\": \"{:.3f}\".format(f1_score(y_train, y_pred_train)),\n",
    "                       \"precision\": \"{:.3f}\".format(precision_score(y_test, y_pred)),\"precision_train\": \"{:.3f}\".format(precision_score(y_train, y_pred_train)),\n",
    "                       \"recall\": \"{:.3f}\".format(recall_score(y_test, y_pred)),\"recall_train\": \"{:.3f}\".format(recall_score(y_train, y_pred_train)), \n",
    "                        \"accuracy\": \"{:.3f}\".format(accuracy_score(y_test, y_pred)),  \"accuracy_train\": \"{:.3f}\".format(accuracy_score(y_train, y_pred_train)),              \n",
    "                       \"params\": [params]\n",
    "                        }))\n",
    "        \n",
    "    results = pd.concat(results)\n",
    "    results = results.reset_index(drop = True)\n",
    "    \n",
    "    return results, y_pred, y_pred_train"
   ]
  },
  {
   "cell_type": "markdown",
   "id": "4652ede6-a803-44b8-bc0a-513a4c0b7be7",
   "metadata": {
    "tags": []
   },
   "source": [
    "## Experiment 7 (Swiss[1]-Swiss[2]):"
   ]
  },
  {
   "cell_type": "code",
   "execution_count": 394,
   "id": "26c05e2f",
   "metadata": {
    "tags": []
   },
   "outputs": [
    {
     "data": {
      "text/html": [
       "<div>\n",
       "<style scoped>\n",
       "    .dataframe tbody tr th:only-of-type {\n",
       "        vertical-align: middle;\n",
       "    }\n",
       "\n",
       "    .dataframe tbody tr th {\n",
       "        vertical-align: top;\n",
       "    }\n",
       "\n",
       "    .dataframe thead th {\n",
       "        text-align: right;\n",
       "    }\n",
       "</style>\n",
       "<table border=\"1\" class=\"dataframe\">\n",
       "  <thead>\n",
       "    <tr style=\"text-align: right;\">\n",
       "      <th></th>\n",
       "      <th>algorithm</th>\n",
       "      <th>train_f1</th>\n",
       "      <th>test_f1</th>\n",
       "      <th>train_precision</th>\n",
       "      <th>test_precision</th>\n",
       "      <th>train_recall</th>\n",
       "      <th>test_recall</th>\n",
       "      <th>train_accuracy</th>\n",
       "      <th>test_accuracy</th>\n",
       "      <th>params</th>\n",
       "    </tr>\n",
       "  </thead>\n",
       "  <tbody>\n",
       "    <tr>\n",
       "      <th>0</th>\n",
       "      <td>Dummy</td>\n",
       "      <td>0.764</td>\n",
       "      <td>0.753</td>\n",
       "      <td>0.762</td>\n",
       "      <td>0.755</td>\n",
       "      <td>0.766</td>\n",
       "      <td>0.752</td>\n",
       "      <td>0.638</td>\n",
       "      <td>0.624</td>\n",
       "      <td>{'Dummy__random_state': 23, 'Dummy__strategy':...</td>\n",
       "    </tr>\n",
       "    <tr>\n",
       "      <th>1</th>\n",
       "      <td>Tree</td>\n",
       "      <td>0.866</td>\n",
       "      <td>0.866</td>\n",
       "      <td>0.764</td>\n",
       "      <td>0.764</td>\n",
       "      <td>1.000</td>\n",
       "      <td>1.000</td>\n",
       "      <td>0.764</td>\n",
       "      <td>0.764</td>\n",
       "      <td>{'Tree__max_depth': 1, 'Tree__random_state': 23}</td>\n",
       "    </tr>\n",
       "    <tr>\n",
       "      <th>2</th>\n",
       "      <td>Forest</td>\n",
       "      <td>0.883</td>\n",
       "      <td>0.870</td>\n",
       "      <td>0.794</td>\n",
       "      <td>0.780</td>\n",
       "      <td>0.994</td>\n",
       "      <td>0.986</td>\n",
       "      <td>0.799</td>\n",
       "      <td>0.776</td>\n",
       "      <td>{'Forest__max_depth': 5, 'Forest__random_state...</td>\n",
       "    </tr>\n",
       "    <tr>\n",
       "      <th>3</th>\n",
       "      <td>GradientBoost</td>\n",
       "      <td>0.871</td>\n",
       "      <td>0.869</td>\n",
       "      <td>0.773</td>\n",
       "      <td>0.772</td>\n",
       "      <td>0.996</td>\n",
       "      <td>0.994</td>\n",
       "      <td>0.774</td>\n",
       "      <td>0.772</td>\n",
       "      <td>{'GradientBoost__max_depth': 1, 'GradientBoost...</td>\n",
       "    </tr>\n",
       "    <tr>\n",
       "      <th>4</th>\n",
       "      <td>MLP</td>\n",
       "      <td>0.866</td>\n",
       "      <td>0.866</td>\n",
       "      <td>0.764</td>\n",
       "      <td>0.764</td>\n",
       "      <td>1.000</td>\n",
       "      <td>1.000</td>\n",
       "      <td>0.764</td>\n",
       "      <td>0.764</td>\n",
       "      <td>{'MLP__hidden_layer_sizes': 1, 'MLP__random_st...</td>\n",
       "    </tr>\n",
       "    <tr>\n",
       "      <th>5</th>\n",
       "      <td>Logistic</td>\n",
       "      <td>0.864</td>\n",
       "      <td>0.863</td>\n",
       "      <td>0.767</td>\n",
       "      <td>0.766</td>\n",
       "      <td>0.989</td>\n",
       "      <td>0.989</td>\n",
       "      <td>0.762</td>\n",
       "      <td>0.761</td>\n",
       "      <td>{'Logistic__C': 59.9484250319, 'Logistic__rand...</td>\n",
       "    </tr>\n",
       "    <tr>\n",
       "      <th>6</th>\n",
       "      <td>SVM</td>\n",
       "      <td>0.916</td>\n",
       "      <td>0.867</td>\n",
       "      <td>0.852</td>\n",
       "      <td>0.779</td>\n",
       "      <td>0.990</td>\n",
       "      <td>0.976</td>\n",
       "      <td>0.861</td>\n",
       "      <td>0.770</td>\n",
       "      <td>{'SVM__C': 1.0, 'SVM__gamma': 5.9948425032, 'S...</td>\n",
       "    </tr>\n",
       "  </tbody>\n",
       "</table>\n",
       "</div>"
      ],
      "text/plain": [
       "       algorithm  train_f1  test_f1  train_precision  test_precision  \\\n",
       "0          Dummy     0.764    0.753            0.762           0.755   \n",
       "1           Tree     0.866    0.866            0.764           0.764   \n",
       "2         Forest     0.883    0.870            0.794           0.780   \n",
       "3  GradientBoost     0.871    0.869            0.773           0.772   \n",
       "4            MLP     0.866    0.866            0.764           0.764   \n",
       "5       Logistic     0.864    0.863            0.767           0.766   \n",
       "6            SVM     0.916    0.867            0.852           0.779   \n",
       "\n",
       "   train_recall  test_recall  train_accuracy  test_accuracy  \\\n",
       "0         0.766        0.752           0.638          0.624   \n",
       "1         1.000        1.000           0.764          0.764   \n",
       "2         0.994        0.986           0.799          0.776   \n",
       "3         0.996        0.994           0.774          0.772   \n",
       "4         1.000        1.000           0.764          0.764   \n",
       "5         0.989        0.989           0.762          0.761   \n",
       "6         0.990        0.976           0.861          0.770   \n",
       "\n",
       "                                              params  \n",
       "0  {'Dummy__random_state': 23, 'Dummy__strategy':...  \n",
       "1   {'Tree__max_depth': 1, 'Tree__random_state': 23}  \n",
       "2  {'Forest__max_depth': 5, 'Forest__random_state...  \n",
       "3  {'GradientBoost__max_depth': 1, 'GradientBoost...  \n",
       "4  {'MLP__hidden_layer_sizes': 1, 'MLP__random_st...  \n",
       "5  {'Logistic__C': 59.9484250319, 'Logistic__rand...  \n",
       "6  {'SVM__C': 1.0, 'SVM__gamma': 5.9948425032, 'S...  "
      ]
     },
     "execution_count": 394,
     "metadata": {},
     "output_type": "execute_result"
    }
   ],
   "source": [
    "data_names = [\"swiss1\"]\n",
    "test_data_names = [\"swiss2\"]\n",
    "\n",
    "features_ML = [\"CV\", \"SPD\", \"DIFFP\", \"RD\", \"KURT\", \"SKEW\", \"KSTEST\"]\n",
    "conf = pd.read_json(\"MLresults/MLreanalysis/exp7_nbids_comp.json\")\n",
    "conf.head(7)"
   ]
  },
  {
   "cell_type": "code",
   "execution_count": 395,
   "id": "3b7f29bc",
   "metadata": {
    "tags": []
   },
   "outputs": [],
   "source": [
    "conf_ML = [\n",
    "    ('Dummy', DummyClassifier(), conf.params[conf.algorithm == \"Dummy\"].tolist()[0]),\n",
    "    ('Tree', DecisionTreeClassifier(), conf.params[conf.algorithm == \"Tree\"].tolist()[0]),\n",
    "    ('Forest', RandomForestClassifier(),conf.params[conf.algorithm == \"Forest\"].tolist()[0]),\n",
    "    ('GradientBoost', GradientBoostingClassifier(), conf.params[conf.algorithm == \"GradientBoost\"].tolist()[0]),\n",
    "    ('MLP', MLPClassifier(), conf.params[conf.algorithm == \"MLP\"].tolist()[0]),\n",
    "    ('Logistic', LogisticRegression(), conf.params[conf.algorithm == \"Logistic\"].tolist()[0]),\n",
    "    ('SVM', SVC(), conf.params[conf.algorithm == \"SVM\"].tolist()[0])\n",
    "]"
   ]
  },
  {
   "cell_type": "code",
   "execution_count": 396,
   "id": "5fb4df82",
   "metadata": {
    "scrolled": true,
    "tags": []
   },
   "outputs": [
    {
     "data": {
      "application/vnd.jupyter.widget-view+json": {
       "model_id": "aec71491e9de49ab8f913ff250290532",
       "version_major": 2,
       "version_minor": 0
      },
      "text/plain": [
       "  0%|          | 0/1 [00:00<?, ?it/s]"
      ]
     },
     "metadata": {},
     "output_type": "display_data"
    },
    {
     "name": "stdout",
     "output_type": "stream",
     "text": [
      "11289\n",
      "loaded train data...\n"
     ]
    },
    {
     "data": {
      "application/vnd.jupyter.widget-view+json": {
       "model_id": "c9bb7134e65c482d947011bf61668e63",
       "version_major": 2,
       "version_minor": 0
      },
      "text/plain": [
       "  0%|          | 0/1 [00:00<?, ?it/s]"
      ]
     },
     "metadata": {},
     "output_type": "display_data"
    },
    {
     "name": "stdout",
     "output_type": "stream",
     "text": [
      "9942\n",
      "loaded test data...\n"
     ]
    },
    {
     "name": "stderr",
     "output_type": "stream",
     "text": [
      "/tmp/ipykernel_2236328/1597553833.py:87: RuntimeWarning: invalid value encountered in divide\n",
      "  df_grouped_train[\"Bid_value\"] = df_grouped_train.Bid_value.apply(lambda x: (np.asarray(x)-min(np.asarray(x)))/np.std(np.asarray(x)))\n",
      "/tmp/ipykernel_2236328/1597553833.py:89: RuntimeWarning: invalid value encountered in divide\n",
      "  df_grouped_test[\"Bid_value\"] = df_grouped_test.Bid_value.apply(lambda x: (np.asarray(x)-min(np.asarray(x)))/np.std(np.asarray(x)))\n"
     ]
    }
   ],
   "source": [
    "X_train, X_test, y_train, y_test = prepare_data_eval(data_names, test_data_names)"
   ]
  },
  {
   "cell_type": "code",
   "execution_count": 397,
   "id": "53a0cccd",
   "metadata": {
    "scrolled": true,
    "tags": []
   },
   "outputs": [
    {
     "name": "stdout",
     "output_type": "stream",
     "text": [
      "Imbalance train: 0.7638121546961326\n",
      "Imbalance test: 0.7090239410681399\n"
     ]
    }
   ],
   "source": [
    "print(\"Imbalance train:\", y_train.sum()/len(y_train))\n",
    "print(\"Imbalance test:\", y_test.sum()/len(y_test))"
   ]
  },
  {
   "cell_type": "code",
   "execution_count": 398,
   "id": "7a425f6d",
   "metadata": {
    "scrolled": true,
    "tags": []
   },
   "outputs": [],
   "source": [
    "results_exp7, y_pred, y_pred_train = MLevalTUD(X_train, X_test, y_train, y_test, conf_ML)"
   ]
  },
  {
   "cell_type": "code",
   "execution_count": 399,
   "id": "0d743e8c",
   "metadata": {
    "tags": []
   },
   "outputs": [
    {
     "data": {
      "text/plain": [
       "np.float64(0.8895027624309392)"
      ]
     },
     "execution_count": 399,
     "metadata": {},
     "output_type": "execute_result"
    }
   ],
   "source": [
    "y_pred_train.sum()/len(y_pred_train)"
   ]
  },
  {
   "cell_type": "code",
   "execution_count": 400,
   "id": "e73055e9",
   "metadata": {
    "scrolled": true,
    "tags": []
   },
   "outputs": [
    {
     "data": {
      "text/html": [
       "<div>\n",
       "<style scoped>\n",
       "    .dataframe tbody tr th:only-of-type {\n",
       "        vertical-align: middle;\n",
       "    }\n",
       "\n",
       "    .dataframe tbody tr th {\n",
       "        vertical-align: top;\n",
       "    }\n",
       "\n",
       "    .dataframe thead th {\n",
       "        text-align: right;\n",
       "    }\n",
       "</style>\n",
       "<table border=\"1\" class=\"dataframe\">\n",
       "  <thead>\n",
       "    <tr style=\"text-align: right;\">\n",
       "      <th></th>\n",
       "      <th>algorithm</th>\n",
       "      <th>F1</th>\n",
       "      <th>F1_train</th>\n",
       "      <th>precision</th>\n",
       "      <th>precision_train</th>\n",
       "      <th>recall</th>\n",
       "      <th>recall_train</th>\n",
       "      <th>accuracy</th>\n",
       "      <th>accuracy_train</th>\n",
       "      <th>params</th>\n",
       "    </tr>\n",
       "  </thead>\n",
       "  <tbody>\n",
       "    <tr>\n",
       "      <th>0</th>\n",
       "      <td>Dummy</td>\n",
       "      <td>0.733</td>\n",
       "      <td>0.767</td>\n",
       "      <td>0.707</td>\n",
       "      <td>0.767</td>\n",
       "      <td>0.762</td>\n",
       "      <td>0.767</td>\n",
       "      <td>0.607</td>\n",
       "      <td>0.644</td>\n",
       "      <td>{'Dummy__random_state': 23, 'Dummy__strategy':...</td>\n",
       "    </tr>\n",
       "    <tr>\n",
       "      <th>1</th>\n",
       "      <td>Tree</td>\n",
       "      <td>0.830</td>\n",
       "      <td>0.866</td>\n",
       "      <td>0.709</td>\n",
       "      <td>0.764</td>\n",
       "      <td>1.000</td>\n",
       "      <td>1.000</td>\n",
       "      <td>0.709</td>\n",
       "      <td>0.764</td>\n",
       "      <td>{'Tree__max_depth': 1, 'Tree__random_state': 23}</td>\n",
       "    </tr>\n",
       "    <tr>\n",
       "      <th>2</th>\n",
       "      <td>Forest</td>\n",
       "      <td>0.830</td>\n",
       "      <td>0.883</td>\n",
       "      <td>0.729</td>\n",
       "      <td>0.796</td>\n",
       "      <td>0.962</td>\n",
       "      <td>0.990</td>\n",
       "      <td>0.720</td>\n",
       "      <td>0.799</td>\n",
       "      <td>{'Forest__max_depth': 5, 'Forest__random_state...</td>\n",
       "    </tr>\n",
       "    <tr>\n",
       "      <th>3</th>\n",
       "      <td>GradientBoost</td>\n",
       "      <td>0.825</td>\n",
       "      <td>0.871</td>\n",
       "      <td>0.717</td>\n",
       "      <td>0.775</td>\n",
       "      <td>0.971</td>\n",
       "      <td>0.995</td>\n",
       "      <td>0.708</td>\n",
       "      <td>0.775</td>\n",
       "      <td>{'GradientBoost__max_depth': 1, 'GradientBoost...</td>\n",
       "    </tr>\n",
       "    <tr>\n",
       "      <th>4</th>\n",
       "      <td>MLP</td>\n",
       "      <td>0.830</td>\n",
       "      <td>0.866</td>\n",
       "      <td>0.709</td>\n",
       "      <td>0.764</td>\n",
       "      <td>1.000</td>\n",
       "      <td>1.000</td>\n",
       "      <td>0.709</td>\n",
       "      <td>0.764</td>\n",
       "      <td>{'MLP__hidden_layer_sizes': 1, 'MLP__random_st...</td>\n",
       "    </tr>\n",
       "    <tr>\n",
       "      <th>5</th>\n",
       "      <td>Logistic</td>\n",
       "      <td>0.826</td>\n",
       "      <td>0.865</td>\n",
       "      <td>0.715</td>\n",
       "      <td>0.768</td>\n",
       "      <td>0.978</td>\n",
       "      <td>0.990</td>\n",
       "      <td>0.709</td>\n",
       "      <td>0.764</td>\n",
       "      <td>{'Logistic__C': 59.9484250319, 'Logistic__rand...</td>\n",
       "    </tr>\n",
       "    <tr>\n",
       "      <th>6</th>\n",
       "      <td>SVM</td>\n",
       "      <td>0.807</td>\n",
       "      <td>0.906</td>\n",
       "      <td>0.725</td>\n",
       "      <td>0.842</td>\n",
       "      <td>0.910</td>\n",
       "      <td>0.981</td>\n",
       "      <td>0.691</td>\n",
       "      <td>0.845</td>\n",
       "      <td>{'SVM__C': 1.0, 'SVM__gamma': 5.9948425032, 'S...</td>\n",
       "    </tr>\n",
       "  </tbody>\n",
       "</table>\n",
       "</div>"
      ],
      "text/plain": [
       "       algorithm     F1 F1_train precision precision_train recall  \\\n",
       "0          Dummy  0.733    0.767     0.707           0.767  0.762   \n",
       "1           Tree  0.830    0.866     0.709           0.764  1.000   \n",
       "2         Forest  0.830    0.883     0.729           0.796  0.962   \n",
       "3  GradientBoost  0.825    0.871     0.717           0.775  0.971   \n",
       "4            MLP  0.830    0.866     0.709           0.764  1.000   \n",
       "5       Logistic  0.826    0.865     0.715           0.768  0.978   \n",
       "6            SVM  0.807    0.906     0.725           0.842  0.910   \n",
       "\n",
       "  recall_train accuracy accuracy_train  \\\n",
       "0        0.767    0.607          0.644   \n",
       "1        1.000    0.709          0.764   \n",
       "2        0.990    0.720          0.799   \n",
       "3        0.995    0.708          0.775   \n",
       "4        1.000    0.709          0.764   \n",
       "5        0.990    0.709          0.764   \n",
       "6        0.981    0.691          0.845   \n",
       "\n",
       "                                              params  \n",
       "0  {'Dummy__random_state': 23, 'Dummy__strategy':...  \n",
       "1   {'Tree__max_depth': 1, 'Tree__random_state': 23}  \n",
       "2  {'Forest__max_depth': 5, 'Forest__random_state...  \n",
       "3  {'GradientBoost__max_depth': 1, 'GradientBoost...  \n",
       "4  {'MLP__hidden_layer_sizes': 1, 'MLP__random_st...  \n",
       "5  {'Logistic__C': 59.9484250319, 'Logistic__rand...  \n",
       "6  {'SVM__C': 1.0, 'SVM__gamma': 5.9948425032, 'S...  "
      ]
     },
     "execution_count": 400,
     "metadata": {},
     "output_type": "execute_result"
    }
   ],
   "source": [
    "results_exp7.head(10)"
   ]
  },
  {
   "cell_type": "code",
   "execution_count": 401,
   "id": "44830a82",
   "metadata": {
    "tags": []
   },
   "outputs": [
    {
     "name": "stdout",
     "output_type": "stream",
     "text": [
      "\\begin{tabular}{llllllllll}\n",
      "\\toprule\n",
      "algorithm & F1 & F1_train & precision & precision_train & recall & recall_train & accuracy & accuracy_train & params \\\\\n",
      "\\midrule\n",
      "Dummy & 0.733 & 0.767 & 0.707 & 0.767 & 0.762 & 0.767 & 0.607 & 0.644 & {'Dummy__random_state': 23, 'Dummy__strategy': 'stratified'} \\\\\n",
      "Tree & 0.830 & 0.866 & 0.709 & 0.764 & 1.000 & 1.000 & 0.709 & 0.764 & {'Tree__max_depth': 1, 'Tree__random_state': 23} \\\\\n",
      "Forest & 0.830 & 0.883 & 0.729 & 0.796 & 0.962 & 0.990 & 0.720 & 0.799 & {'Forest__max_depth': 5, 'Forest__random_state': 23} \\\\\n",
      "GradientBoost & 0.825 & 0.871 & 0.717 & 0.775 & 0.971 & 0.995 & 0.708 & 0.775 & {'GradientBoost__max_depth': 1, 'GradientBoost__random_state': 23} \\\\\n",
      "MLP & 0.830 & 0.866 & 0.709 & 0.764 & 1.000 & 1.000 & 0.709 & 0.764 & {'MLP__hidden_layer_sizes': 1, 'MLP__random_state': 23} \\\\\n",
      "Logistic & 0.826 & 0.865 & 0.715 & 0.768 & 0.978 & 0.990 & 0.709 & 0.764 & {'Logistic__C': 59.9484250319, 'Logistic__random_state': 23} \\\\\n",
      "SVM & 0.807 & 0.906 & 0.725 & 0.842 & 0.910 & 0.981 & 0.691 & 0.845 & {'SVM__C': 1.0, 'SVM__gamma': 5.9948425032, 'SVM__kernel': 'rbf', 'SVM__random_state': 23} \\\\\n",
      "\\bottomrule\n",
      "\\end{tabular}\n",
      "\n"
     ]
    }
   ],
   "source": [
    "print(results_exp7.to_latex(index=False))  "
   ]
  },
  {
   "cell_type": "code",
   "execution_count": 402,
   "id": "ff52d2a2-3a56-4fcf-8890-0e6ba7320965",
   "metadata": {},
   "outputs": [
    {
     "data": {
      "image/png": "[encoded data removed]",
      "text/plain": [
       "<Figure size 600x500 with 2 Axes>"
      ]
     },
     "metadata": {},
     "output_type": "display_data"
    }
   ],
   "source": [
    "# Calculate the Confusion Matrix\n",
    "cm = confusion_matrix(y_test, y_pred)\n",
    "\n",
    "# Plotting the confusion matrix\n",
    "plt.figure(figsize=(6, 5))\n",
    "sns.heatmap(cm, annot=True, fmt=\"d\", cmap=\"Blues\", xticklabels=[\"Predicted Negative\", \"Predicted Positive\"], yticklabels=[\"True Negative\", \"True Positive\"])\n",
    "plt.xlabel(\"Predicted\")\n",
    "plt.ylabel(\"True\")\n",
    "plt.title(\"Confusion Matrix\")\n",
    "\n",
    "plt.savefig(\"graphs/confusion_matrix/confusion_matrix_exp7.png\")\n",
    "\n",
    "# Show the graphic\n",
    "plt.show()"
   ]
  },
  {
   "cell_type": "code",
   "execution_count": 403,
   "id": "f43a669a",
   "metadata": {
    "tags": []
   },
   "outputs": [
    {
     "data": {
      "image/png": "[encoded data removed]",
      "text/plain": [
       "<Figure size 640x480 with 1 Axes>"
      ]
     },
     "metadata": {},
     "output_type": "display_data"
    },
    {
     "data": {
      "image/png": "[encoded data removed]",
      "text/plain": [
       "<Figure size 640x480 with 1 Axes>"
      ]
     },
     "metadata": {},
     "output_type": "display_data"
    },
    {
     "data": {
      "image/png": "[encoded data removed]",
      "text/plain": [
       "<Figure size 640x480 with 1 Axes>"
      ]
     },
     "metadata": {},
     "output_type": "display_data"
    },
    {
     "data": {
      "image/png": "[encoded data removed]",
      "text/plain": [
       "<Figure size 640x480 with 1 Axes>"
      ]
     },
     "metadata": {},
     "output_type": "display_data"
    },
    {
     "data": {
      "image/png": "[encoded data removed]",
      "text/plain": [
       "<Figure size 640x480 with 1 Axes>"
      ]
     },
     "metadata": {},
     "output_type": "display_data"
    },
    {
     "data": {
      "image/png": "[encoded data removed]",
      "text/plain": [
       "<Figure size 640x480 with 1 Axes>"
      ]
     },
     "metadata": {},
     "output_type": "display_data"
    },
    {
     "data": {
      "image/png": "[encoded data removed]",
      "text/plain": [
       "<Figure size 640x480 with 1 Axes>"
      ]
     },
     "metadata": {},
     "output_type": "display_data"
    }
   ],
   "source": [
    "for marker in ['CV', 'SPD', 'DIFFP', 'RD', 'KURT', 'SKEW', 'KSTEST']:\n",
    "    plt.figure()\n",
    "    plt.title(marker)\n",
    "    X = pd.concat([X_train, X_test])\n",
    "    mybins = np.arange(np.min(X[marker]), np.max(X[marker]),\n",
    "                       (np.abs(np.min(X[marker])) + np.max(X[marker])) / 10)\n",
    "    plt.hist(X_train[marker], bins=mybins, label=\"train\", histtype=\"step\")\n",
    "    plt.hist(X_test[marker], bins=mybins, label=\"test\", histtype=\"step\")\n",
    "    plt.yscale(\"log\")\n",
    "    plt.legend()\n",
    "    plt.savefig(f\"graphs/{marker}_exp7_hist.png\", dpi=300, bbox_inches='tight')  # <- export\n",
    "    plt.show();\n",
    "    plt.close()"
   ]
  },
  {
   "cell_type": "code",
   "execution_count": 404,
   "id": "65b3cae6-b607-497f-b4d6-b460f2b84785",
   "metadata": {},
   "outputs": [
    {
     "data": {
      "image/png": "[encoded data removed]",
      "text/plain": [
       "<Figure size 600x500 with 1 Axes>"
      ]
     },
     "metadata": {},
     "output_type": "display_data"
    }
   ],
   "source": [
    "# Calculate the ROC curve\n",
    "fpr, tpr, thresholds = roc_curve(y_test, y_pred)\n",
    "\n",
    "# Calculate the AUC (Area Under the Curve)\n",
    "roc_auc = auc(fpr, tpr)\n",
    "\n",
    "# Plotting the ROC curve\n",
    "plt.figure(figsize=(6, 5))\n",
    "plt.plot(fpr, tpr, color='blue', lw=2, label=f'ROC Curve (AUC = {roc_auc:.2f})')\n",
    "plt.plot([0, 1], [0, 1], color='gray', linestyle='--')  # Diagonale Linie (zufällige Klassifizierung)\n",
    "plt.xlabel('False Positive Rate (FPR)')\n",
    "plt.ylabel('True Positive Rate (TPR)')\n",
    "plt.title('Receiver Operating Characteristic (ROC) Curve')\n",
    "plt.legend(loc='lower right')\n",
    "plt.savefig(f\"graphs/ROC/exp7_hist.png\", dpi=300, bbox_inches='tight')  # <- export\n",
    "plt.show()"
   ]
  },
  {
   "cell_type": "markdown",
   "id": "494de02d-9667-4c6c-9dbf-1f621fbb5ccb",
   "metadata": {
    "tags": []
   },
   "source": [
    "## Experiment 8 (Swiss[2]-Swiss[2]):"
   ]
  },
  {
   "cell_type": "code",
   "execution_count": 405,
   "id": "2232b880-8645-48f7-9251-1509348bdeea",
   "metadata": {
    "tags": []
   },
   "outputs": [
    {
     "data": {
      "text/html": [
       "<div>\n",
       "<style scoped>\n",
       "    .dataframe tbody tr th:only-of-type {\n",
       "        vertical-align: middle;\n",
       "    }\n",
       "\n",
       "    .dataframe tbody tr th {\n",
       "        vertical-align: top;\n",
       "    }\n",
       "\n",
       "    .dataframe thead th {\n",
       "        text-align: right;\n",
       "    }\n",
       "</style>\n",
       "<table border=\"1\" class=\"dataframe\">\n",
       "  <thead>\n",
       "    <tr style=\"text-align: right;\">\n",
       "      <th></th>\n",
       "      <th>algorithm</th>\n",
       "      <th>train_f1</th>\n",
       "      <th>test_f1</th>\n",
       "      <th>train_precision</th>\n",
       "      <th>test_precision</th>\n",
       "      <th>train_recall</th>\n",
       "      <th>test_recall</th>\n",
       "      <th>train_accuracy</th>\n",
       "      <th>test_accuracy</th>\n",
       "      <th>params</th>\n",
       "    </tr>\n",
       "  </thead>\n",
       "  <tbody>\n",
       "    <tr>\n",
       "      <th>0</th>\n",
       "      <td>Dummy</td>\n",
       "      <td>0.764</td>\n",
       "      <td>0.753</td>\n",
       "      <td>0.762</td>\n",
       "      <td>0.755</td>\n",
       "      <td>0.766</td>\n",
       "      <td>0.752</td>\n",
       "      <td>0.638</td>\n",
       "      <td>0.624</td>\n",
       "      <td>{'Dummy__random_state': 23, 'Dummy__strategy':...</td>\n",
       "    </tr>\n",
       "    <tr>\n",
       "      <th>1</th>\n",
       "      <td>Tree</td>\n",
       "      <td>0.866</td>\n",
       "      <td>0.866</td>\n",
       "      <td>0.764</td>\n",
       "      <td>0.764</td>\n",
       "      <td>1.000</td>\n",
       "      <td>1.000</td>\n",
       "      <td>0.764</td>\n",
       "      <td>0.764</td>\n",
       "      <td>{'Tree__max_depth': 1, 'Tree__random_state': 23}</td>\n",
       "    </tr>\n",
       "    <tr>\n",
       "      <th>2</th>\n",
       "      <td>Forest</td>\n",
       "      <td>0.883</td>\n",
       "      <td>0.870</td>\n",
       "      <td>0.794</td>\n",
       "      <td>0.780</td>\n",
       "      <td>0.994</td>\n",
       "      <td>0.986</td>\n",
       "      <td>0.799</td>\n",
       "      <td>0.776</td>\n",
       "      <td>{'Forest__max_depth': 5, 'Forest__random_state...</td>\n",
       "    </tr>\n",
       "    <tr>\n",
       "      <th>3</th>\n",
       "      <td>GradientBoost</td>\n",
       "      <td>0.871</td>\n",
       "      <td>0.869</td>\n",
       "      <td>0.773</td>\n",
       "      <td>0.772</td>\n",
       "      <td>0.996</td>\n",
       "      <td>0.994</td>\n",
       "      <td>0.774</td>\n",
       "      <td>0.772</td>\n",
       "      <td>{'GradientBoost__max_depth': 1, 'GradientBoost...</td>\n",
       "    </tr>\n",
       "    <tr>\n",
       "      <th>4</th>\n",
       "      <td>MLP</td>\n",
       "      <td>0.866</td>\n",
       "      <td>0.866</td>\n",
       "      <td>0.764</td>\n",
       "      <td>0.764</td>\n",
       "      <td>1.000</td>\n",
       "      <td>1.000</td>\n",
       "      <td>0.764</td>\n",
       "      <td>0.764</td>\n",
       "      <td>{'MLP__hidden_layer_sizes': 1, 'MLP__random_st...</td>\n",
       "    </tr>\n",
       "    <tr>\n",
       "      <th>5</th>\n",
       "      <td>Logistic</td>\n",
       "      <td>0.864</td>\n",
       "      <td>0.863</td>\n",
       "      <td>0.767</td>\n",
       "      <td>0.766</td>\n",
       "      <td>0.989</td>\n",
       "      <td>0.989</td>\n",
       "      <td>0.762</td>\n",
       "      <td>0.761</td>\n",
       "      <td>{'Logistic__C': 59.9484250319, 'Logistic__rand...</td>\n",
       "    </tr>\n",
       "    <tr>\n",
       "      <th>6</th>\n",
       "      <td>SVM</td>\n",
       "      <td>0.916</td>\n",
       "      <td>0.867</td>\n",
       "      <td>0.852</td>\n",
       "      <td>0.779</td>\n",
       "      <td>0.990</td>\n",
       "      <td>0.976</td>\n",
       "      <td>0.861</td>\n",
       "      <td>0.770</td>\n",
       "      <td>{'SVM__C': 1.0, 'SVM__gamma': 5.9948425032, 'S...</td>\n",
       "    </tr>\n",
       "  </tbody>\n",
       "</table>\n",
       "</div>"
      ],
      "text/plain": [
       "       algorithm  train_f1  test_f1  train_precision  test_precision  \\\n",
       "0          Dummy     0.764    0.753            0.762           0.755   \n",
       "1           Tree     0.866    0.866            0.764           0.764   \n",
       "2         Forest     0.883    0.870            0.794           0.780   \n",
       "3  GradientBoost     0.871    0.869            0.773           0.772   \n",
       "4            MLP     0.866    0.866            0.764           0.764   \n",
       "5       Logistic     0.864    0.863            0.767           0.766   \n",
       "6            SVM     0.916    0.867            0.852           0.779   \n",
       "\n",
       "   train_recall  test_recall  train_accuracy  test_accuracy  \\\n",
       "0         0.766        0.752           0.638          0.624   \n",
       "1         1.000        1.000           0.764          0.764   \n",
       "2         0.994        0.986           0.799          0.776   \n",
       "3         0.996        0.994           0.774          0.772   \n",
       "4         1.000        1.000           0.764          0.764   \n",
       "5         0.989        0.989           0.762          0.761   \n",
       "6         0.990        0.976           0.861          0.770   \n",
       "\n",
       "                                              params  \n",
       "0  {'Dummy__random_state': 23, 'Dummy__strategy':...  \n",
       "1   {'Tree__max_depth': 1, 'Tree__random_state': 23}  \n",
       "2  {'Forest__max_depth': 5, 'Forest__random_state...  \n",
       "3  {'GradientBoost__max_depth': 1, 'GradientBoost...  \n",
       "4  {'MLP__hidden_layer_sizes': 1, 'MLP__random_st...  \n",
       "5  {'Logistic__C': 59.9484250319, 'Logistic__rand...  \n",
       "6  {'SVM__C': 1.0, 'SVM__gamma': 5.9948425032, 'S...  "
      ]
     },
     "execution_count": 405,
     "metadata": {},
     "output_type": "execute_result"
    }
   ],
   "source": [
    "data_names = [\"swiss2\"]\n",
    "test_data_names = [\"swiss2\"]\n",
    "\n",
    "features_ML = [\"CV\", \"SPD\", \"DIFFP\", \"RD\", \"KURT\", \"SKEW\", \"KSTEST\"]\n",
    "conf = pd.read_json(\"MLresults/MLreanalysis/exp8_nbids_comp.json\")\n",
    "conf.head(7)"
   ]
  },
  {
   "cell_type": "code",
   "execution_count": 406,
   "id": "ca097b3e-9a3f-4c62-970d-01005d8d8016",
   "metadata": {
    "tags": []
   },
   "outputs": [],
   "source": [
    "conf_ML = [\n",
    "    ('Dummy', DummyClassifier(), conf.params[conf.algorithm == \"Dummy\"].tolist()[0]),\n",
    "    ('Tree', DecisionTreeClassifier(), conf.params[conf.algorithm == \"Tree\"].tolist()[0]),\n",
    "    ('Forest', RandomForestClassifier(),conf.params[conf.algorithm == \"Forest\"].tolist()[0]),\n",
    "    ('GradientBoost', GradientBoostingClassifier(), conf.params[conf.algorithm == \"GradientBoost\"].tolist()[0]),\n",
    "    ('MLP', MLPClassifier(), conf.params[conf.algorithm == \"MLP\"].tolist()[0]),\n",
    "    ('Logistic', LogisticRegression(), conf.params[conf.algorithm == \"Logistic\"].tolist()[0]),\n",
    "    ('SVM', SVC(), conf.params[conf.algorithm == \"SVM\"].tolist()[0])\n",
    "]"
   ]
  },
  {
   "cell_type": "code",
   "execution_count": 407,
   "id": "b226a246-fcc3-42e9-b151-175a260087a9",
   "metadata": {
    "scrolled": true,
    "tags": []
   },
   "outputs": [
    {
     "data": {
      "application/vnd.jupyter.widget-view+json": {
       "model_id": "93ad555a29f64083928e33fd8d4525e3",
       "version_major": 2,
       "version_minor": 0
      },
      "text/plain": [
       "  0%|          | 0/1 [00:00<?, ?it/s]"
      ]
     },
     "metadata": {},
     "output_type": "display_data"
    },
    {
     "name": "stdout",
     "output_type": "stream",
     "text": [
      "9942\n",
      "loaded train data...\n"
     ]
    },
    {
     "data": {
      "application/vnd.jupyter.widget-view+json": {
       "model_id": "b5f00a2b892e4b31a5860f1aef8cc0be",
       "version_major": 2,
       "version_minor": 0
      },
      "text/plain": [
       "  0%|          | 0/1 [00:00<?, ?it/s]"
      ]
     },
     "metadata": {},
     "output_type": "display_data"
    },
    {
     "name": "stdout",
     "output_type": "stream",
     "text": [
      "9942\n",
      "loaded test data...\n"
     ]
    },
    {
     "name": "stderr",
     "output_type": "stream",
     "text": [
      "/tmp/ipykernel_2236328/1597553833.py:87: RuntimeWarning: invalid value encountered in divide\n",
      "  df_grouped_train[\"Bid_value\"] = df_grouped_train.Bid_value.apply(lambda x: (np.asarray(x)-min(np.asarray(x)))/np.std(np.asarray(x)))\n",
      "/tmp/ipykernel_2236328/1597553833.py:89: RuntimeWarning: invalid value encountered in divide\n",
      "  df_grouped_test[\"Bid_value\"] = df_grouped_test.Bid_value.apply(lambda x: (np.asarray(x)-min(np.asarray(x)))/np.std(np.asarray(x)))\n"
     ]
    }
   ],
   "source": [
    "X_train, X_test, y_train, y_test = prepare_data_eval(data_names, test_data_names)"
   ]
  },
  {
   "cell_type": "code",
   "execution_count": 408,
   "id": "ae5394c4-7428-456e-834f-e9bec9abad35",
   "metadata": {
    "scrolled": true,
    "tags": []
   },
   "outputs": [
    {
     "name": "stdout",
     "output_type": "stream",
     "text": [
      "Imbalance train: 0.7090239410681399\n",
      "Imbalance test: 0.7090239410681399\n"
     ]
    }
   ],
   "source": [
    "print(\"Imbalance train:\", y_train.sum()/len(y_train))\n",
    "print(\"Imbalance test:\", y_test.sum()/len(y_test))"
   ]
  },
  {
   "cell_type": "code",
   "execution_count": 409,
   "id": "100dcf04-65dc-4581-a32d-15ca49fec4ad",
   "metadata": {
    "scrolled": true,
    "tags": []
   },
   "outputs": [],
   "source": [
    "results_exp8, y_pred, y_pred_train = MLevalTUD(X_train, X_test, y_train, y_test, conf_ML)"
   ]
  },
  {
   "cell_type": "code",
   "execution_count": 410,
   "id": "4d1b5dce-7404-4ba2-9fb4-43febd345007",
   "metadata": {
    "tags": []
   },
   "outputs": [
    {
     "data": {
      "text/plain": [
       "np.float64(0.8080110497237569)"
      ]
     },
     "execution_count": 410,
     "metadata": {},
     "output_type": "execute_result"
    }
   ],
   "source": [
    "y_pred_train.sum()/len(y_pred_train)"
   ]
  },
  {
   "cell_type": "code",
   "execution_count": 411,
   "id": "36db5adc-1361-483f-82d6-dddb09eaad02",
   "metadata": {
    "scrolled": true,
    "tags": []
   },
   "outputs": [
    {
     "data": {
      "text/html": [
       "<div>\n",
       "<style scoped>\n",
       "    .dataframe tbody tr th:only-of-type {\n",
       "        vertical-align: middle;\n",
       "    }\n",
       "\n",
       "    .dataframe tbody tr th {\n",
       "        vertical-align: top;\n",
       "    }\n",
       "\n",
       "    .dataframe thead th {\n",
       "        text-align: right;\n",
       "    }\n",
       "</style>\n",
       "<table border=\"1\" class=\"dataframe\">\n",
       "  <thead>\n",
       "    <tr style=\"text-align: right;\">\n",
       "      <th></th>\n",
       "      <th>algorithm</th>\n",
       "      <th>F1</th>\n",
       "      <th>F1_train</th>\n",
       "      <th>precision</th>\n",
       "      <th>precision_train</th>\n",
       "      <th>recall</th>\n",
       "      <th>recall_train</th>\n",
       "      <th>accuracy</th>\n",
       "      <th>accuracy_train</th>\n",
       "      <th>params</th>\n",
       "    </tr>\n",
       "  </thead>\n",
       "  <tbody>\n",
       "    <tr>\n",
       "      <th>0</th>\n",
       "      <td>Dummy</td>\n",
       "      <td>0.714</td>\n",
       "      <td>0.714</td>\n",
       "      <td>0.709</td>\n",
       "      <td>0.709</td>\n",
       "      <td>0.718</td>\n",
       "      <td>0.718</td>\n",
       "      <td>0.591</td>\n",
       "      <td>0.591</td>\n",
       "      <td>{'Dummy__random_state': 23, 'Dummy__strategy':...</td>\n",
       "    </tr>\n",
       "    <tr>\n",
       "      <th>1</th>\n",
       "      <td>Tree</td>\n",
       "      <td>0.815</td>\n",
       "      <td>0.815</td>\n",
       "      <td>0.768</td>\n",
       "      <td>0.768</td>\n",
       "      <td>0.868</td>\n",
       "      <td>0.868</td>\n",
       "      <td>0.721</td>\n",
       "      <td>0.721</td>\n",
       "      <td>{'Tree__max_depth': 1, 'Tree__random_state': 23}</td>\n",
       "    </tr>\n",
       "    <tr>\n",
       "      <th>2</th>\n",
       "      <td>Forest</td>\n",
       "      <td>0.854</td>\n",
       "      <td>0.854</td>\n",
       "      <td>0.781</td>\n",
       "      <td>0.781</td>\n",
       "      <td>0.942</td>\n",
       "      <td>0.942</td>\n",
       "      <td>0.772</td>\n",
       "      <td>0.772</td>\n",
       "      <td>{'Forest__max_depth': 5, 'Forest__random_state...</td>\n",
       "    </tr>\n",
       "    <tr>\n",
       "      <th>3</th>\n",
       "      <td>GradientBoost</td>\n",
       "      <td>0.831</td>\n",
       "      <td>0.831</td>\n",
       "      <td>0.757</td>\n",
       "      <td>0.757</td>\n",
       "      <td>0.921</td>\n",
       "      <td>0.921</td>\n",
       "      <td>0.734</td>\n",
       "      <td>0.734</td>\n",
       "      <td>{'GradientBoost__max_depth': 1, 'GradientBoost...</td>\n",
       "    </tr>\n",
       "    <tr>\n",
       "      <th>4</th>\n",
       "      <td>MLP</td>\n",
       "      <td>0.830</td>\n",
       "      <td>0.830</td>\n",
       "      <td>0.709</td>\n",
       "      <td>0.709</td>\n",
       "      <td>1.000</td>\n",
       "      <td>1.000</td>\n",
       "      <td>0.709</td>\n",
       "      <td>0.709</td>\n",
       "      <td>{'MLP__hidden_layer_sizes': 1, 'MLP__random_st...</td>\n",
       "    </tr>\n",
       "    <tr>\n",
       "      <th>5</th>\n",
       "      <td>Logistic</td>\n",
       "      <td>0.830</td>\n",
       "      <td>0.830</td>\n",
       "      <td>0.710</td>\n",
       "      <td>0.710</td>\n",
       "      <td>0.999</td>\n",
       "      <td>0.999</td>\n",
       "      <td>0.710</td>\n",
       "      <td>0.710</td>\n",
       "      <td>{'Logistic__C': 59.9484250319, 'Logistic__rand...</td>\n",
       "    </tr>\n",
       "    <tr>\n",
       "      <th>6</th>\n",
       "      <td>SVM</td>\n",
       "      <td>0.871</td>\n",
       "      <td>0.871</td>\n",
       "      <td>0.818</td>\n",
       "      <td>0.818</td>\n",
       "      <td>0.932</td>\n",
       "      <td>0.932</td>\n",
       "      <td>0.804</td>\n",
       "      <td>0.804</td>\n",
       "      <td>{'SVM__C': 1.0, 'SVM__gamma': 5.9948425032, 'S...</td>\n",
       "    </tr>\n",
       "  </tbody>\n",
       "</table>\n",
       "</div>"
      ],
      "text/plain": [
       "       algorithm     F1 F1_train precision precision_train recall  \\\n",
       "0          Dummy  0.714    0.714     0.709           0.709  0.718   \n",
       "1           Tree  0.815    0.815     0.768           0.768  0.868   \n",
       "2         Forest  0.854    0.854     0.781           0.781  0.942   \n",
       "3  GradientBoost  0.831    0.831     0.757           0.757  0.921   \n",
       "4            MLP  0.830    0.830     0.709           0.709  1.000   \n",
       "5       Logistic  0.830    0.830     0.710           0.710  0.999   \n",
       "6            SVM  0.871    0.871     0.818           0.818  0.932   \n",
       "\n",
       "  recall_train accuracy accuracy_train  \\\n",
       "0        0.718    0.591          0.591   \n",
       "1        0.868    0.721          0.721   \n",
       "2        0.942    0.772          0.772   \n",
       "3        0.921    0.734          0.734   \n",
       "4        1.000    0.709          0.709   \n",
       "5        0.999    0.710          0.710   \n",
       "6        0.932    0.804          0.804   \n",
       "\n",
       "                                              params  \n",
       "0  {'Dummy__random_state': 23, 'Dummy__strategy':...  \n",
       "1   {'Tree__max_depth': 1, 'Tree__random_state': 23}  \n",
       "2  {'Forest__max_depth': 5, 'Forest__random_state...  \n",
       "3  {'GradientBoost__max_depth': 1, 'GradientBoost...  \n",
       "4  {'MLP__hidden_layer_sizes': 1, 'MLP__random_st...  \n",
       "5  {'Logistic__C': 59.9484250319, 'Logistic__rand...  \n",
       "6  {'SVM__C': 1.0, 'SVM__gamma': 5.9948425032, 'S...  "
      ]
     },
     "execution_count": 411,
     "metadata": {},
     "output_type": "execute_result"
    }
   ],
   "source": [
    "results_exp8.head(7)"
   ]
  },
  {
   "cell_type": "code",
   "execution_count": 412,
   "id": "a5e8e725-4a0e-4585-b016-52f3f3983492",
   "metadata": {
    "tags": []
   },
   "outputs": [
    {
     "name": "stdout",
     "output_type": "stream",
     "text": [
      "\\begin{tabular}{llllllllll}\n",
      "\\toprule\n",
      "algorithm & F1 & F1_train & precision & precision_train & recall & recall_train & accuracy & accuracy_train & params \\\\\n",
      "\\midrule\n",
      "Dummy & 0.714 & 0.714 & 0.709 & 0.709 & 0.718 & 0.718 & 0.591 & 0.591 & {'Dummy__random_state': 23, 'Dummy__strategy': 'stratified'} \\\\\n",
      "Tree & 0.815 & 0.815 & 0.768 & 0.768 & 0.868 & 0.868 & 0.721 & 0.721 & {'Tree__max_depth': 1, 'Tree__random_state': 23} \\\\\n",
      "Forest & 0.854 & 0.854 & 0.781 & 0.781 & 0.942 & 0.942 & 0.772 & 0.772 & {'Forest__max_depth': 5, 'Forest__random_state': 23} \\\\\n",
      "GradientBoost & 0.831 & 0.831 & 0.757 & 0.757 & 0.921 & 0.921 & 0.734 & 0.734 & {'GradientBoost__max_depth': 1, 'GradientBoost__random_state': 23} \\\\\n",
      "MLP & 0.830 & 0.830 & 0.709 & 0.709 & 1.000 & 1.000 & 0.709 & 0.709 & {'MLP__hidden_layer_sizes': 1, 'MLP__random_state': 23} \\\\\n",
      "Logistic & 0.830 & 0.830 & 0.710 & 0.710 & 0.999 & 0.999 & 0.710 & 0.710 & {'Logistic__C': 59.9484250319, 'Logistic__random_state': 23} \\\\\n",
      "SVM & 0.871 & 0.871 & 0.818 & 0.818 & 0.932 & 0.932 & 0.804 & 0.804 & {'SVM__C': 1.0, 'SVM__gamma': 5.9948425032, 'SVM__kernel': 'rbf', 'SVM__random_state': 23} \\\\\n",
      "\\bottomrule\n",
      "\\end{tabular}\n",
      "\n"
     ]
    }
   ],
   "source": [
    "print(results_exp8.to_latex(index=False))  "
   ]
  },
  {
   "cell_type": "code",
   "execution_count": 413,
   "id": "76bf9a78-0c6d-41d8-9b66-a505129a0520",
   "metadata": {
    "tags": []
   },
   "outputs": [
    {
     "data": {
      "image/png": "[encoded data removed]",
      "text/plain": [
       "<Figure size 600x500 with 2 Axes>"
      ]
     },
     "metadata": {},
     "output_type": "display_data"
    }
   ],
   "source": [
    "# Calculate the Confusion Matrix\n",
    "cm = confusion_matrix(y_test, y_pred)\n",
    "\n",
    "# Plotting the confusion matrix\n",
    "plt.figure(figsize=(6, 5))\n",
    "sns.heatmap(cm, annot=True, fmt=\"d\", cmap=\"Blues\", xticklabels=[\"Predicted Negative\", \"Predicted Positive\"], yticklabels=[\"True Negative\", \"True Positive\"])\n",
    "plt.xlabel(\"Predicted\")\n",
    "plt.ylabel(\"True\")\n",
    "plt.title(\"Confusion Matrix\")\n",
    "\n",
    "plt.savefig(\"graphs/confusion_matrix/confusion_matrix_exp8.png\")\n",
    "\n",
    "# Show the graphic\n",
    "plt.show()"
   ]
  },
  {
   "cell_type": "code",
   "execution_count": 414,
   "id": "9c448bbe-9d42-40e1-9a8b-1fc846ca50c3",
   "metadata": {
    "tags": []
   },
   "outputs": [
    {
     "data": {
      "image/png": "[encoded data removed]",
      "text/plain": [
       "<Figure size 640x480 with 1 Axes>"
      ]
     },
     "metadata": {},
     "output_type": "display_data"
    },
    {
     "data": {
      "image/png": "[encoded data removed]",
      "text/plain": [
       "<Figure size 640x480 with 1 Axes>"
      ]
     },
     "metadata": {},
     "output_type": "display_data"
    },
    {
     "data": {
      "image/png": "[encoded data removed]",
      "text/plain": [
       "<Figure size 640x480 with 1 Axes>"
      ]
     },
     "metadata": {},
     "output_type": "display_data"
    },
    {
     "data": {
      "image/png": "[encoded data removed]",
      "text/plain": [
       "<Figure size 640x480 with 1 Axes>"
      ]
     },
     "metadata": {},
     "output_type": "display_data"
    },
    {
     "data": {
      "image/png": "[encoded data removed]",
      "text/plain": [
       "<Figure size 640x480 with 1 Axes>"
      ]
     },
     "metadata": {},
     "output_type": "display_data"
    },
    {
     "data": {
      "image/png": "[encoded data removed]",
      "text/plain": [
       "<Figure size 640x480 with 1 Axes>"
      ]
     },
     "metadata": {},
     "output_type": "display_data"
    },
    {
     "data": {
      "image/png": "[encoded data removed]",
      "text/plain": [
       "<Figure size 640x480 with 1 Axes>"
      ]
     },
     "metadata": {},
     "output_type": "display_data"
    }
   ],
   "source": [
    "for marker in ['CV', 'SPD', 'DIFFP', 'RD', 'KURT', 'SKEW', 'KSTEST']:\n",
    "    plt.figure()\n",
    "    plt.title(marker)\n",
    "    X = pd.concat([X_train, X_test])\n",
    "    mybins = np.arange(np.min(X[marker]), np.max(X[marker]),\n",
    "                       (np.abs(np.min(X[marker])) + np.max(X[marker])) / 10)\n",
    "    plt.hist(X_train[marker], bins=mybins, label=\"train\", histtype=\"step\")\n",
    "    plt.hist(X_test[marker], bins=mybins, label=\"test\", histtype=\"step\")\n",
    "    plt.yscale(\"log\")\n",
    "    plt.legend()\n",
    "    plt.savefig(f\"graphs/{marker}_exp8_hist.png\", dpi=300, bbox_inches='tight')  # <- export\n",
    "    plt.show();\n",
    "    plt.close()"
   ]
  },
  {
   "cell_type": "code",
   "execution_count": 415,
   "id": "ba873319-5d80-4eb1-a3ce-711616641fc1",
   "metadata": {
    "tags": []
   },
   "outputs": [
    {
     "data": {
      "image/png": "[encoded data removed]",
      "text/plain": [
       "<Figure size 600x500 with 1 Axes>"
      ]
     },
     "metadata": {},
     "output_type": "display_data"
    }
   ],
   "source": [
    "# Calculate the ROC curve\n",
    "fpr, tpr, thresholds = roc_curve(y_test, y_pred)\n",
    "\n",
    "# Calculate the AUC (Area Under the Curve)\n",
    "roc_auc = auc(fpr, tpr)\n",
    "\n",
    "# Plotting the ROC curve\n",
    "plt.figure(figsize=(6, 5))\n",
    "plt.plot(fpr, tpr, color='blue', lw=2, label=f'ROC Curve (AUC = {roc_auc:.2f})')\n",
    "plt.plot([0, 1], [0, 1], color='gray', linestyle='--')  # Diagonale Linie (zufällige Klassifizierung)\n",
    "plt.xlabel('False Positive Rate (FPR)')\n",
    "plt.ylabel('True Positive Rate (TPR)')\n",
    "plt.title('Receiver Operating Characteristic (ROC) Curve')\n",
    "plt.legend(loc='lower right')\n",
    "plt.savefig(f\"graphs/ROC/exp8_hist.png\", dpi=300, bbox_inches='tight')  # <- export\n",
    "plt.show()"
   ]
  },
  {
   "cell_type": "markdown",
   "id": "e46bf184-9f93-46e5-a9e5-84c25fbe3dd9",
   "metadata": {
    "tags": []
   },
   "source": [
    "## Experiment 9 (Swiss-Swiss[2]):"
   ]
  },
  {
   "cell_type": "code",
   "execution_count": 416,
   "id": "bc30c2fd-5ec2-4a23-827d-1708fcbcfcb3",
   "metadata": {
    "tags": []
   },
   "outputs": [
    {
     "data": {
      "text/html": [
       "<div>\n",
       "<style scoped>\n",
       "    .dataframe tbody tr th:only-of-type {\n",
       "        vertical-align: middle;\n",
       "    }\n",
       "\n",
       "    .dataframe tbody tr th {\n",
       "        vertical-align: top;\n",
       "    }\n",
       "\n",
       "    .dataframe thead th {\n",
       "        text-align: right;\n",
       "    }\n",
       "</style>\n",
       "<table border=\"1\" class=\"dataframe\">\n",
       "  <thead>\n",
       "    <tr style=\"text-align: right;\">\n",
       "      <th></th>\n",
       "      <th>algorithm</th>\n",
       "      <th>train_f1</th>\n",
       "      <th>test_f1</th>\n",
       "      <th>train_precision</th>\n",
       "      <th>test_precision</th>\n",
       "      <th>train_recall</th>\n",
       "      <th>test_recall</th>\n",
       "      <th>train_accuracy</th>\n",
       "      <th>test_accuracy</th>\n",
       "      <th>params</th>\n",
       "    </tr>\n",
       "  </thead>\n",
       "  <tbody>\n",
       "    <tr>\n",
       "      <th>0</th>\n",
       "      <td>Dummy</td>\n",
       "      <td>0.764</td>\n",
       "      <td>0.753</td>\n",
       "      <td>0.762</td>\n",
       "      <td>0.755</td>\n",
       "      <td>0.766</td>\n",
       "      <td>0.752</td>\n",
       "      <td>0.638</td>\n",
       "      <td>0.624</td>\n",
       "      <td>{'Dummy__random_state': 23, 'Dummy__strategy':...</td>\n",
       "    </tr>\n",
       "    <tr>\n",
       "      <th>1</th>\n",
       "      <td>Tree</td>\n",
       "      <td>0.866</td>\n",
       "      <td>0.866</td>\n",
       "      <td>0.764</td>\n",
       "      <td>0.764</td>\n",
       "      <td>1.000</td>\n",
       "      <td>1.000</td>\n",
       "      <td>0.764</td>\n",
       "      <td>0.764</td>\n",
       "      <td>{'Tree__max_depth': 1, 'Tree__random_state': 23}</td>\n",
       "    </tr>\n",
       "    <tr>\n",
       "      <th>2</th>\n",
       "      <td>Forest</td>\n",
       "      <td>0.883</td>\n",
       "      <td>0.870</td>\n",
       "      <td>0.794</td>\n",
       "      <td>0.780</td>\n",
       "      <td>0.994</td>\n",
       "      <td>0.986</td>\n",
       "      <td>0.799</td>\n",
       "      <td>0.776</td>\n",
       "      <td>{'Forest__max_depth': 5, 'Forest__random_state...</td>\n",
       "    </tr>\n",
       "    <tr>\n",
       "      <th>3</th>\n",
       "      <td>GradientBoost</td>\n",
       "      <td>0.871</td>\n",
       "      <td>0.869</td>\n",
       "      <td>0.773</td>\n",
       "      <td>0.772</td>\n",
       "      <td>0.996</td>\n",
       "      <td>0.994</td>\n",
       "      <td>0.774</td>\n",
       "      <td>0.772</td>\n",
       "      <td>{'GradientBoost__max_depth': 1, 'GradientBoost...</td>\n",
       "    </tr>\n",
       "    <tr>\n",
       "      <th>4</th>\n",
       "      <td>MLP</td>\n",
       "      <td>0.866</td>\n",
       "      <td>0.866</td>\n",
       "      <td>0.764</td>\n",
       "      <td>0.764</td>\n",
       "      <td>1.000</td>\n",
       "      <td>1.000</td>\n",
       "      <td>0.764</td>\n",
       "      <td>0.764</td>\n",
       "      <td>{'MLP__hidden_layer_sizes': 1, 'MLP__random_st...</td>\n",
       "    </tr>\n",
       "    <tr>\n",
       "      <th>5</th>\n",
       "      <td>Logistic</td>\n",
       "      <td>0.864</td>\n",
       "      <td>0.863</td>\n",
       "      <td>0.767</td>\n",
       "      <td>0.766</td>\n",
       "      <td>0.989</td>\n",
       "      <td>0.989</td>\n",
       "      <td>0.762</td>\n",
       "      <td>0.761</td>\n",
       "      <td>{'Logistic__C': 59.9484250319, 'Logistic__rand...</td>\n",
       "    </tr>\n",
       "    <tr>\n",
       "      <th>6</th>\n",
       "      <td>SVM</td>\n",
       "      <td>0.916</td>\n",
       "      <td>0.867</td>\n",
       "      <td>0.852</td>\n",
       "      <td>0.779</td>\n",
       "      <td>0.990</td>\n",
       "      <td>0.976</td>\n",
       "      <td>0.861</td>\n",
       "      <td>0.770</td>\n",
       "      <td>{'SVM__C': 1.0, 'SVM__gamma': 5.9948425032, 'S...</td>\n",
       "    </tr>\n",
       "  </tbody>\n",
       "</table>\n",
       "</div>"
      ],
      "text/plain": [
       "       algorithm  train_f1  test_f1  train_precision  test_precision  \\\n",
       "0          Dummy     0.764    0.753            0.762           0.755   \n",
       "1           Tree     0.866    0.866            0.764           0.764   \n",
       "2         Forest     0.883    0.870            0.794           0.780   \n",
       "3  GradientBoost     0.871    0.869            0.773           0.772   \n",
       "4            MLP     0.866    0.866            0.764           0.764   \n",
       "5       Logistic     0.864    0.863            0.767           0.766   \n",
       "6            SVM     0.916    0.867            0.852           0.779   \n",
       "\n",
       "   train_recall  test_recall  train_accuracy  test_accuracy  \\\n",
       "0         0.766        0.752           0.638          0.624   \n",
       "1         1.000        1.000           0.764          0.764   \n",
       "2         0.994        0.986           0.799          0.776   \n",
       "3         0.996        0.994           0.774          0.772   \n",
       "4         1.000        1.000           0.764          0.764   \n",
       "5         0.989        0.989           0.762          0.761   \n",
       "6         0.990        0.976           0.861          0.770   \n",
       "\n",
       "                                              params  \n",
       "0  {'Dummy__random_state': 23, 'Dummy__strategy':...  \n",
       "1   {'Tree__max_depth': 1, 'Tree__random_state': 23}  \n",
       "2  {'Forest__max_depth': 5, 'Forest__random_state...  \n",
       "3  {'GradientBoost__max_depth': 1, 'GradientBoost...  \n",
       "4  {'MLP__hidden_layer_sizes': 1, 'MLP__random_st...  \n",
       "5  {'Logistic__C': 59.9484250319, 'Logistic__rand...  \n",
       "6  {'SVM__C': 1.0, 'SVM__gamma': 5.9948425032, 'S...  "
      ]
     },
     "execution_count": 416,
     "metadata": {},
     "output_type": "execute_result"
    }
   ],
   "source": [
    "data_names = [\"swiss\"]\n",
    "test_data_names = [\"swiss2\"]\n",
    "\n",
    "features_ML = [\"CV\", \"SPD\", \"DIFFP\", \"RD\", \"KURT\", \"SKEW\", \"KSTEST\"]\n",
    "conf = pd.read_json(\"MLresults/MLreanalysis/exp8_nbids_comp.json\")\n",
    "conf.head(7)"
   ]
  },
  {
   "cell_type": "code",
   "execution_count": 417,
   "id": "dac099df-e226-43d7-bb23-b8065dee4906",
   "metadata": {
    "tags": []
   },
   "outputs": [],
   "source": [
    "conf_ML = [\n",
    "    ('Dummy', DummyClassifier(), conf.params[conf.algorithm == \"Dummy\"].tolist()[0]),\n",
    "    ('Tree', DecisionTreeClassifier(), conf.params[conf.algorithm == \"Tree\"].tolist()[0]),\n",
    "    ('Forest', RandomForestClassifier(),conf.params[conf.algorithm == \"Forest\"].tolist()[0]),\n",
    "    ('GradientBoost', GradientBoostingClassifier(), conf.params[conf.algorithm == \"GradientBoost\"].tolist()[0]),\n",
    "    ('MLP', MLPClassifier(), conf.params[conf.algorithm == \"MLP\"].tolist()[0]),\n",
    "    ('Logistic', LogisticRegression(), conf.params[conf.algorithm == \"Logistic\"].tolist()[0]),\n",
    "    ('SVM', SVC(), conf.params[conf.algorithm == \"SVM\"].tolist()[0])\n",
    "]"
   ]
  },
  {
   "cell_type": "code",
   "execution_count": 418,
   "id": "5328b1eb-e46e-4749-9332-d350627c8f75",
   "metadata": {
    "scrolled": true,
    "tags": []
   },
   "outputs": [
    {
     "data": {
      "application/vnd.jupyter.widget-view+json": {
       "model_id": "e813eaa3a17045d4bbb9193b2c8d1cb3",
       "version_major": 2,
       "version_minor": 0
      },
      "text/plain": [
       "  0%|          | 0/1 [00:00<?, ?it/s]"
      ]
     },
     "metadata": {},
     "output_type": "display_data"
    },
    {
     "name": "stdout",
     "output_type": "stream",
     "text": [
      "21231\n",
      "loaded train data...\n"
     ]
    },
    {
     "data": {
      "application/vnd.jupyter.widget-view+json": {
       "model_id": "31db1fe4422946aaa07a523a06bc2df9",
       "version_major": 2,
       "version_minor": 0
      },
      "text/plain": [
       "  0%|          | 0/1 [00:00<?, ?it/s]"
      ]
     },
     "metadata": {},
     "output_type": "display_data"
    },
    {
     "name": "stdout",
     "output_type": "stream",
     "text": [
      "9942\n",
      "loaded test data...\n"
     ]
    },
    {
     "name": "stderr",
     "output_type": "stream",
     "text": [
      "/tmp/ipykernel_2236328/1597553833.py:87: RuntimeWarning: invalid value encountered in divide\n",
      "  df_grouped_train[\"Bid_value\"] = df_grouped_train.Bid_value.apply(lambda x: (np.asarray(x)-min(np.asarray(x)))/np.std(np.asarray(x)))\n",
      "/tmp/ipykernel_2236328/1597553833.py:89: RuntimeWarning: invalid value encountered in divide\n",
      "  df_grouped_test[\"Bid_value\"] = df_grouped_test.Bid_value.apply(lambda x: (np.asarray(x)-min(np.asarray(x)))/np.std(np.asarray(x)))\n"
     ]
    }
   ],
   "source": [
    "X_train, X_test, y_train, y_test = prepare_data_eval(data_names, test_data_names)"
   ]
  },
  {
   "cell_type": "code",
   "execution_count": 419,
   "id": "f48a2477-09bd-4bb2-8ab5-94f482c6d115",
   "metadata": {
    "scrolled": true,
    "tags": []
   },
   "outputs": [
    {
     "name": "stdout",
     "output_type": "stream",
     "text": [
      "Imbalance train: 0.7364180478821363\n",
      "Imbalance test: 0.7090239410681399\n"
     ]
    }
   ],
   "source": [
    "print(\"Imbalance train:\", y_train.sum()/len(y_train))\n",
    "print(\"Imbalance test:\", y_test.sum()/len(y_test))"
   ]
  },
  {
   "cell_type": "code",
   "execution_count": 420,
   "id": "288b3c4a-e8b6-4881-abe2-6307d702760e",
   "metadata": {
    "scrolled": true,
    "tags": []
   },
   "outputs": [],
   "source": [
    "results_exp9, y_pred, y_pred_train = MLevalTUD(X_train, X_test, y_train, y_test, conf_ML)"
   ]
  },
  {
   "cell_type": "code",
   "execution_count": 421,
   "id": "044e83cc-96ed-446c-803a-82df73d3db82",
   "metadata": {
    "tags": []
   },
   "outputs": [
    {
     "data": {
      "text/plain": [
       "np.float64(0.8756906077348067)"
      ]
     },
     "execution_count": 421,
     "metadata": {},
     "output_type": "execute_result"
    }
   ],
   "source": [
    "y_pred_train.sum()/len(y_pred_train)"
   ]
  },
  {
   "cell_type": "code",
   "execution_count": 422,
   "id": "06b4439b-2d46-4c94-a465-040a51c575cf",
   "metadata": {
    "scrolled": true,
    "tags": []
   },
   "outputs": [
    {
     "data": {
      "text/html": [
       "<div>\n",
       "<style scoped>\n",
       "    .dataframe tbody tr th:only-of-type {\n",
       "        vertical-align: middle;\n",
       "    }\n",
       "\n",
       "    .dataframe tbody tr th {\n",
       "        vertical-align: top;\n",
       "    }\n",
       "\n",
       "    .dataframe thead th {\n",
       "        text-align: right;\n",
       "    }\n",
       "</style>\n",
       "<table border=\"1\" class=\"dataframe\">\n",
       "  <thead>\n",
       "    <tr style=\"text-align: right;\">\n",
       "      <th></th>\n",
       "      <th>algorithm</th>\n",
       "      <th>F1</th>\n",
       "      <th>F1_train</th>\n",
       "      <th>precision</th>\n",
       "      <th>precision_train</th>\n",
       "      <th>recall</th>\n",
       "      <th>recall_train</th>\n",
       "      <th>accuracy</th>\n",
       "      <th>accuracy_train</th>\n",
       "      <th>params</th>\n",
       "    </tr>\n",
       "  </thead>\n",
       "  <tbody>\n",
       "    <tr>\n",
       "      <th>0</th>\n",
       "      <td>Dummy</td>\n",
       "      <td>0.723</td>\n",
       "      <td>0.747</td>\n",
       "      <td>0.708</td>\n",
       "      <td>0.741</td>\n",
       "      <td>0.740</td>\n",
       "      <td>0.753</td>\n",
       "      <td>0.599</td>\n",
       "      <td>0.625</td>\n",
       "      <td>{'Dummy__random_state': 23, 'Dummy__strategy':...</td>\n",
       "    </tr>\n",
       "    <tr>\n",
       "      <th>1</th>\n",
       "      <td>Tree</td>\n",
       "      <td>0.830</td>\n",
       "      <td>0.848</td>\n",
       "      <td>0.709</td>\n",
       "      <td>0.736</td>\n",
       "      <td>1.000</td>\n",
       "      <td>1.000</td>\n",
       "      <td>0.709</td>\n",
       "      <td>0.736</td>\n",
       "      <td>{'Tree__max_depth': 1, 'Tree__random_state': 23}</td>\n",
       "    </tr>\n",
       "    <tr>\n",
       "      <th>2</th>\n",
       "      <td>Forest</td>\n",
       "      <td>0.843</td>\n",
       "      <td>0.861</td>\n",
       "      <td>0.742</td>\n",
       "      <td>0.768</td>\n",
       "      <td>0.976</td>\n",
       "      <td>0.981</td>\n",
       "      <td>0.742</td>\n",
       "      <td>0.767</td>\n",
       "      <td>{'Forest__max_depth': 5, 'Forest__random_state...</td>\n",
       "    </tr>\n",
       "    <tr>\n",
       "      <th>3</th>\n",
       "      <td>GradientBoost</td>\n",
       "      <td>0.832</td>\n",
       "      <td>0.852</td>\n",
       "      <td>0.725</td>\n",
       "      <td>0.753</td>\n",
       "      <td>0.975</td>\n",
       "      <td>0.982</td>\n",
       "      <td>0.721</td>\n",
       "      <td>0.750</td>\n",
       "      <td>{'GradientBoost__max_depth': 1, 'GradientBoost...</td>\n",
       "    </tr>\n",
       "    <tr>\n",
       "      <th>4</th>\n",
       "      <td>MLP</td>\n",
       "      <td>0.830</td>\n",
       "      <td>0.848</td>\n",
       "      <td>0.709</td>\n",
       "      <td>0.736</td>\n",
       "      <td>1.000</td>\n",
       "      <td>1.000</td>\n",
       "      <td>0.709</td>\n",
       "      <td>0.736</td>\n",
       "      <td>{'MLP__hidden_layer_sizes': 1, 'MLP__random_st...</td>\n",
       "    </tr>\n",
       "    <tr>\n",
       "      <th>5</th>\n",
       "      <td>Logistic</td>\n",
       "      <td>0.831</td>\n",
       "      <td>0.849</td>\n",
       "      <td>0.711</td>\n",
       "      <td>0.737</td>\n",
       "      <td>0.999</td>\n",
       "      <td>1.000</td>\n",
       "      <td>0.711</td>\n",
       "      <td>0.738</td>\n",
       "      <td>{'Logistic__C': 59.9484250319, 'Logistic__rand...</td>\n",
       "    </tr>\n",
       "    <tr>\n",
       "      <th>6</th>\n",
       "      <td>SVM</td>\n",
       "      <td>0.858</td>\n",
       "      <td>0.874</td>\n",
       "      <td>0.787</td>\n",
       "      <td>0.804</td>\n",
       "      <td>0.944</td>\n",
       "      <td>0.956</td>\n",
       "      <td>0.779</td>\n",
       "      <td>0.796</td>\n",
       "      <td>{'SVM__C': 1.0, 'SVM__gamma': 5.9948425032, 'S...</td>\n",
       "    </tr>\n",
       "  </tbody>\n",
       "</table>\n",
       "</div>"
      ],
      "text/plain": [
       "       algorithm     F1 F1_train precision precision_train recall  \\\n",
       "0          Dummy  0.723    0.747     0.708           0.741  0.740   \n",
       "1           Tree  0.830    0.848     0.709           0.736  1.000   \n",
       "2         Forest  0.843    0.861     0.742           0.768  0.976   \n",
       "3  GradientBoost  0.832    0.852     0.725           0.753  0.975   \n",
       "4            MLP  0.830    0.848     0.709           0.736  1.000   \n",
       "5       Logistic  0.831    0.849     0.711           0.737  0.999   \n",
       "6            SVM  0.858    0.874     0.787           0.804  0.944   \n",
       "\n",
       "  recall_train accuracy accuracy_train  \\\n",
       "0        0.753    0.599          0.625   \n",
       "1        1.000    0.709          0.736   \n",
       "2        0.981    0.742          0.767   \n",
       "3        0.982    0.721          0.750   \n",
       "4        1.000    0.709          0.736   \n",
       "5        1.000    0.711          0.738   \n",
       "6        0.956    0.779          0.796   \n",
       "\n",
       "                                              params  \n",
       "0  {'Dummy__random_state': 23, 'Dummy__strategy':...  \n",
       "1   {'Tree__max_depth': 1, 'Tree__random_state': 23}  \n",
       "2  {'Forest__max_depth': 5, 'Forest__random_state...  \n",
       "3  {'GradientBoost__max_depth': 1, 'GradientBoost...  \n",
       "4  {'MLP__hidden_layer_sizes': 1, 'MLP__random_st...  \n",
       "5  {'Logistic__C': 59.9484250319, 'Logistic__rand...  \n",
       "6  {'SVM__C': 1.0, 'SVM__gamma': 5.9948425032, 'S...  "
      ]
     },
     "execution_count": 422,
     "metadata": {},
     "output_type": "execute_result"
    }
   ],
   "source": [
    "results_exp9.head(7)"
   ]
  },
  {
   "cell_type": "code",
   "execution_count": 423,
   "id": "34434167-d022-405a-9689-3d2ac9c93f09",
   "metadata": {
    "tags": []
   },
   "outputs": [
    {
     "name": "stdout",
     "output_type": "stream",
     "text": [
      "\\begin{tabular}{llllllllll}\n",
      "\\toprule\n",
      "algorithm & F1 & F1_train & precision & precision_train & recall & recall_train & accuracy & accuracy_train & params \\\\\n",
      "\\midrule\n",
      "Dummy & 0.723 & 0.747 & 0.708 & 0.741 & 0.740 & 0.753 & 0.599 & 0.625 & {'Dummy__random_state': 23, 'Dummy__strategy': 'stratified'} \\\\\n",
      "Tree & 0.830 & 0.848 & 0.709 & 0.736 & 1.000 & 1.000 & 0.709 & 0.736 & {'Tree__max_depth': 1, 'Tree__random_state': 23} \\\\\n",
      "Forest & 0.843 & 0.861 & 0.742 & 0.768 & 0.976 & 0.981 & 0.742 & 0.767 & {'Forest__max_depth': 5, 'Forest__random_state': 23} \\\\\n",
      "GradientBoost & 0.832 & 0.852 & 0.725 & 0.753 & 0.975 & 0.982 & 0.721 & 0.750 & {'GradientBoost__max_depth': 1, 'GradientBoost__random_state': 23} \\\\\n",
      "MLP & 0.830 & 0.848 & 0.709 & 0.736 & 1.000 & 1.000 & 0.709 & 0.736 & {'MLP__hidden_layer_sizes': 1, 'MLP__random_state': 23} \\\\\n",
      "Logistic & 0.831 & 0.849 & 0.711 & 0.737 & 0.999 & 1.000 & 0.711 & 0.738 & {'Logistic__C': 59.9484250319, 'Logistic__random_state': 23} \\\\\n",
      "SVM & 0.858 & 0.874 & 0.787 & 0.804 & 0.944 & 0.956 & 0.779 & 0.796 & {'SVM__C': 1.0, 'SVM__gamma': 5.9948425032, 'SVM__kernel': 'rbf', 'SVM__random_state': 23} \\\\\n",
      "\\bottomrule\n",
      "\\end{tabular}\n",
      "\n"
     ]
    }
   ],
   "source": [
    "print(results_exp9.to_latex(index=False))"
   ]
  },
  {
   "cell_type": "code",
   "execution_count": 424,
   "id": "2ba285ce-8bb8-49d4-98b8-dca7dcdcf2f8",
   "metadata": {
    "tags": []
   },
   "outputs": [
    {
     "data": {
      "image/png": "[encoded data removed]",
      "text/plain": [
       "<Figure size 600x500 with 2 Axes>"
      ]
     },
     "metadata": {},
     "output_type": "display_data"
    }
   ],
   "source": [
    "# Calculate the Confusion Matrix\n",
    "cm = confusion_matrix(y_test, y_pred)\n",
    "\n",
    "# Plotting the confusion matrix\n",
    "plt.figure(figsize=(6, 5))\n",
    "sns.heatmap(cm, annot=True, fmt=\"d\", cmap=\"Blues\", xticklabels=[\"Predicted Negative\", \"Predicted Positive\"], yticklabels=[\"True Negative\", \"True Positive\"])\n",
    "plt.xlabel(\"Predicted\")\n",
    "plt.ylabel(\"True\")\n",
    "plt.title(\"Confusion Matrix\")\n",
    "\n",
    "plt.savefig(\"graphs/confusion_matrix/confusion_matrix_exp9.png\")\n",
    "\n",
    "# Show the graphic\n",
    "plt.show()"
   ]
  },
  {
   "cell_type": "code",
   "execution_count": 425,
   "id": "3f0a8832-669c-4a59-a021-c2c55babcdc6",
   "metadata": {
    "tags": []
   },
   "outputs": [
    {
     "data": {
      "image/png": "[encoded data removed]",
      "text/plain": [
       "<Figure size 640x480 with 1 Axes>"
      ]
     },
     "metadata": {},
     "output_type": "display_data"
    },
    {
     "data": {
      "image/png": "[encoded data removed]",
      "text/plain": [
       "<Figure size 640x480 with 1 Axes>"
      ]
     },
     "metadata": {},
     "output_type": "display_data"
    },
    {
     "data": {
      "image/png": "[encoded data removed]",
      "text/plain": [
       "<Figure size 640x480 with 1 Axes>"
      ]
     },
     "metadata": {},
     "output_type": "display_data"
    },
    {
     "data": {
      "image/png": "[encoded data removed]",
      "text/plain": [
       "<Figure size 640x480 with 1 Axes>"
      ]
     },
     "metadata": {},
     "output_type": "display_data"
    },
    {
     "data": {
      "image/png": "[encoded data removed]",
      "text/plain": [
       "<Figure size 640x480 with 1 Axes>"
      ]
     },
     "metadata": {},
     "output_type": "display_data"
    },
    {
     "data": {
      "image/png": "[encoded data removed]",
      "text/plain": [
       "<Figure size 640x480 with 1 Axes>"
      ]
     },
     "metadata": {},
     "output_type": "display_data"
    },
    {
     "data": {
      "image/png": "[encoded data removed]",
      "text/plain": [
       "<Figure size 640x480 with 1 Axes>"
      ]
     },
     "metadata": {},
     "output_type": "display_data"
    }
   ],
   "source": [
    "for marker in ['CV', 'SPD', 'DIFFP', 'RD', 'KURT', 'SKEW', 'KSTEST']:\n",
    "    plt.figure()\n",
    "    plt.title(marker)\n",
    "    X = pd.concat([X_train, X_test])\n",
    "    mybins = np.arange(np.min(X[marker]), np.max(X[marker]),\n",
    "                       (np.abs(np.min(X[marker])) + np.max(X[marker])) / 10)\n",
    "    plt.hist(X_train[marker], bins=mybins, label=\"train\", histtype=\"step\")\n",
    "    plt.hist(X_test[marker], bins=mybins, label=\"test\", histtype=\"step\")\n",
    "    plt.yscale(\"log\")\n",
    "    plt.legend()\n",
    "    plt.savefig(f\"graphs/{marker}_exp9_hist.png\", dpi=300, bbox_inches='tight')  # <- export\n",
    "    plt.show();\n",
    "    plt.close()"
   ]
  },
  {
   "cell_type": "code",
   "execution_count": 426,
   "id": "fa9d95bc-8d91-45f1-9bcb-dfdd16bdbe4b",
   "metadata": {
    "tags": []
   },
   "outputs": [
    {
     "data": {
      "image/png": "[encoded data removed]",
      "text/plain": [
       "<Figure size 600x500 with 1 Axes>"
      ]
     },
     "metadata": {},
     "output_type": "display_data"
    }
   ],
   "source": [
    "# Calculate the ROC curve\n",
    "fpr, tpr, thresholds = roc_curve(y_test, y_pred)\n",
    "\n",
    "# Calculate the AUC (Area Under the Curve)\n",
    "roc_auc = auc(fpr, tpr)\n",
    "\n",
    "# Plotting the ROC curve\n",
    "plt.figure(figsize=(6, 5))\n",
    "plt.plot(fpr, tpr, color='blue', lw=2, label=f'ROC Curve (AUC = {roc_auc:.2f})')\n",
    "plt.plot([0, 1], [0, 1], color='gray', linestyle='--')  # Diagonale Linie (zufällige Klassifizierung)\n",
    "plt.xlabel('False Positive Rate (FPR)')\n",
    "plt.ylabel('True Positive Rate (TPR)')\n",
    "plt.title('Receiver Operating Characteristic (ROC) Curve')\n",
    "plt.legend(loc='lower right')\n",
    "plt.savefig(f\"graphs/ROC/exp9_hist.png\", dpi=300, bbox_inches='tight')  # <- export\n",
    "plt.show()"
   ]
  }
 ],
 "metadata": {
  "kernelspec": {
   "display_name": "Python (collusion_ml)",
   "language": "python",
   "name": "collusion_ml"
  },
  "language_info": {
   "codemirror_mode": {
    "name": "ipython",
    "version": 3
   },
   "file_extension": ".py",
   "mimetype": "text/x-python",
   "name": "python",
   "nbconvert_exporter": "python",
   "pygments_lexer": "ipython3",
   "version": "3.10.16"
  }
 },
 "nbformat": 4,
 "nbformat_minor": 5
}
